{
 "cells": [
  {
   "cell_type": "markdown",
   "id": "2e7e2547-9f91-4864-b240-0eb99516488a",
   "metadata": {
    "tags": []
   },
   "source": [
    "# <span style=\"color:gold\">**Python básico en Geología**</span>\n",
    "***\n",
    "\n",
    "### **Editado por: Kevin Alexander Gómez**\n",
    "#### Contacto: kevinalexandr19@gmail.com | [Linkedin](https://www.linkedin.com/in/kevin-alexander-g%C3%B3mez-2b0263111/) | [Github](https://github.com/kevinalexandr19)\n",
    "***"
   ]
  },
  {
   "cell_type": "markdown",
   "id": "749c691b-c72e-4396-9284-7946cfe6f4fd",
   "metadata": {
    "tags": []
   },
   "source": [
    "### **Descripción**\n",
    "\n",
    "En este tutorial, revisarás las bases de la programación en Python enfocado <span style=\"color:gold\">al campo de la Geología</span>.\n",
    "\n",
    "Es necesario tener un conocimiento previo en geología general, matemática y estadística.\n",
    "\n",
    "Este notebook es parte del proyecto [**Python para Geólogos**](https://github.com/kevinalexandr19/manual-python-geologia), y ha sido creado con la finalidad de facilitar el aprendizaje en Python para estudiantes y profesionales en el campo de la Geología.\n"
   ]
  },
  {
   "cell_type": "markdown",
   "id": "042a0b1e-24b3-477b-bdb8-fc1c97ee28d4",
   "metadata": {
    "jupyter": {
     "source_hidden": true
    },
    "tags": []
   },
   "source": [
    "## **Índice**\n",
    "***\n",
    "1. [Tipos de datos e identificadores](#parte1)\n",
    "2. [Matemáticas en Python](#parte2)\n",
    "3. [Funciones input y print](#parte3)\n",
    "4. [Condicionales](#parte4)\n",
    "5. [Listas](#parte5)\n",
    "6. [Tuplas](#parte6)\n",
    "7. [Diccionarios](#parte7)\n",
    "8. [Bucles](#parte8)\n",
    "9. [Funciones](#parte9)\n",
    "10. [Clases y objetos](#parte10)\n",
    "\n",
    "***"
   ]
  },
  {
   "cell_type": "markdown",
   "id": "5ac2b822-63ad-4200-9775-6f2b04ae9dbd",
   "metadata": {},
   "source": [
    "<a id=\"parte1\"></a>"
   ]
  },
  {
   "cell_type": "markdown",
   "id": "dab68891-e4ce-4146-b015-6c966d5dc7f9",
   "metadata": {},
   "source": [
    "## **1. Tipos de datos e identificadores**\n",
    "***\n",
    "\n",
    "**Los datos son unidades de información, recogidas a través de la observación de un objeto o proceso.**\n",
    "\n",
    "En Python, existen diferentes formas de representar datos (tanto numéricos como no numéricos).\\\n",
    "Por ejemplo, si queremos representar el número de muestras analizadas en un laboratorio, usaremos un **integer**:\n",
    "> **¿Qué es un integer?** \\\n",
    "> Un integer es un objeto en Python que representa a los números enteros."
   ]
  },
  {
   "cell_type": "code",
   "execution_count": null,
   "id": "977b496c-3082-4c03-9940-8a3c24a22a6e",
   "metadata": {},
   "outputs": [],
   "source": [
    "25"
   ]
  },
  {
   "cell_type": "markdown",
   "id": "f6473a42-ce8f-4c6f-bc1f-c7ceb3e64192",
   "metadata": {},
   "source": [
    "Si queremos asignar este número a una variable, usaremos un **identificador** llamado `muestras`.\\\n",
    "El símbolo `=` se usa para indicar la acción de asignarle nombre a un objeto:"
   ]
  },
  {
   "cell_type": "code",
   "execution_count": null,
   "id": "c083ae3e-b27d-4f21-aa44-0dc233bc9ec3",
   "metadata": {},
   "outputs": [],
   "source": [
    "muestras = 25"
   ]
  },
  {
   "cell_type": "markdown",
   "id": "1a3199e9-600c-485d-ada4-1ee744e4b070",
   "metadata": {},
   "source": [
    "Un **identificador** es un nombre usado para *identificar* un objeto dentro de Python.\\\n",
    "Los identificadores deben empezar con una letra (de la A hasta la Z) o con un guión abajo `_`.\\\n",
    "Cuando asignamos un valor a un identificador, Python guarda dicho valor asignado para que pueda volver a ser usado en otra parte del código.\n",
    "\n",
    "Para observar el número de muestras debemos de llamar el identificador:"
   ]
  },
  {
   "cell_type": "code",
   "execution_count": null,
   "id": "6bbb6dd4-0af0-4308-9ba3-66f9d3a9e4e1",
   "metadata": {},
   "outputs": [],
   "source": [
    "muestras"
   ]
  },
  {
   "cell_type": "markdown",
   "id": "e218438a-b2f0-4975-9ec3-36f65b691acd",
   "metadata": {},
   "source": [
    "Ahora, ¿cómo representamos la *concentración elemental de oro (Au)* en una muestra?\\\n",
    "Para este caso, usaremos un **float** y lo asignaremos a una variable llamada `ley_au`.\n",
    "\n",
    "> **¿Qué es un float?** \\\n",
    "> Un float es un objeto en Python que representa números con fracción decimal.\n",
    "\n",
    "**Nota:** Ten en cuenta que `ley_au` guarda el número mas no indica el tipo de unidad (que para este caso, serían *partes por millón* o *ppm*)."
   ]
  },
  {
   "cell_type": "code",
   "execution_count": null,
   "id": "c2a695c7-8275-4628-bddd-e972257c2fce",
   "metadata": {},
   "outputs": [],
   "source": [
    "ley_au = 0.56"
   ]
  },
  {
   "cell_type": "code",
   "execution_count": null,
   "id": "c2f7a11d-f9c0-4edd-bb13-cb2b10c03e32",
   "metadata": {},
   "outputs": [],
   "source": [
    "ley_au"
   ]
  },
  {
   "cell_type": "markdown",
   "id": "5bca69d3-1fee-40ed-a0b1-23ec5fdc0257",
   "metadata": {},
   "source": [
    "Ahora ya sabemos como crear valores numéricos dentro de Python usando integers y floats.\n",
    "\n",
    "¿Y qué pasa si queremos guardar un dato no numérico como por ejemplo, el nombre de una roca?, ¿qué tipo de dato debemos usar?\\\n",
    "En ese caso, usaremos un **string** y lo asignaremos a una variable llamada `roca`.\n",
    "> **¿Qué es un string?** \\\n",
    "> Un string es un objeto en Python que representa todo tipo de caracteres.\\\n",
    "> Para crear un string debemos encasillarlo usando comillas dobles (\" \") o simples (' ')."
   ]
  },
  {
   "cell_type": "code",
   "execution_count": null,
   "id": "1f62c2a6-9ff5-4d70-a5f1-54632ca3ccd6",
   "metadata": {},
   "outputs": [],
   "source": [
    "roca = \"andesita\""
   ]
  },
  {
   "cell_type": "code",
   "execution_count": null,
   "id": "fc06701e-4641-4ebe-9b4d-1eef3112270b",
   "metadata": {},
   "outputs": [],
   "source": [
    "roca"
   ]
  },
  {
   "cell_type": "markdown",
   "id": "4c414809-d261-41af-be92-4ad73f7b63ba",
   "metadata": {},
   "source": [
    "También podemos colocar frases dentro de un string:"
   ]
  },
  {
   "cell_type": "code",
   "execution_count": null,
   "id": "1414f568-7114-4648-b1ad-0147288bec2d",
   "metadata": {},
   "outputs": [],
   "source": [
    "frase = \"El presente es la clave del pasado\""
   ]
  },
  {
   "cell_type": "code",
   "execution_count": null,
   "id": "9e07e437-6164-447b-ad3b-66693477a3ac",
   "metadata": {},
   "outputs": [],
   "source": [
    "frase"
   ]
  },
  {
   "cell_type": "markdown",
   "id": "fb0ec272-840c-4f2a-9167-4f686d096f9a",
   "metadata": {},
   "source": [
    "Los strings también se pueden sumar:"
   ]
  },
  {
   "cell_type": "code",
   "execution_count": null,
   "id": "f6c5ebe2-dee1-4c2a-aaf6-a9c865fe439e",
   "metadata": {},
   "outputs": [],
   "source": [
    "\"El presente \" + \"es la clave del pasado\""
   ]
  },
  {
   "cell_type": "markdown",
   "id": "b15b24de-8ccf-42a2-8afd-23a13f65d1a0",
   "metadata": {},
   "source": [
    "El último tipo de dato que debemos conocer es el **lógico**.\n",
    "\n",
    "> **¿Qué es un dato lógico?** \\\n",
    "> Es un objeto en Python usado para representar el valor de verdad en una expresión.\\\n",
    "> Los datos lógicos pueden ser **True** (verdadero) o **False** (falso).\n",
    "\n",
    "Por ejemplo, el resultado de comparar dos números:"
   ]
  },
  {
   "cell_type": "code",
   "execution_count": null,
   "id": "eee6777d-28c2-4d0e-8a2c-f2fcd41a39da",
   "metadata": {},
   "outputs": [],
   "source": [
    "12 > 5"
   ]
  },
  {
   "cell_type": "markdown",
   "id": "65d28e41-94b0-427b-b840-0dfe889e4bb4",
   "metadata": {},
   "source": [
    "devuelve el valor **True**, pues la expresión es verdadera."
   ]
  },
  {
   "cell_type": "markdown",
   "id": "5c19211f-a15a-467e-a237-e1284a8b5538",
   "metadata": {},
   "source": [
    "Podemos transformar un integer a float y viceversa, usando las funciones `int` y `float`:"
   ]
  },
  {
   "cell_type": "code",
   "execution_count": null,
   "id": "a88814f7-93db-4854-81dc-01332737e6a3",
   "metadata": {},
   "outputs": [],
   "source": [
    "int(2.5)"
   ]
  },
  {
   "cell_type": "code",
   "execution_count": null,
   "id": "3a0f46aa-f1e3-4559-84a6-1274b7d015aa",
   "metadata": {},
   "outputs": [],
   "source": [
    "float(5)"
   ]
  },
  {
   "cell_type": "markdown",
   "id": "95196281-bc94-4486-9cbf-94f2d8c6596b",
   "metadata": {},
   "source": [
    "También podemos transformar cualquier valor en string usando la función `str`:"
   ]
  },
  {
   "cell_type": "code",
   "execution_count": null,
   "id": "df31a217-86f5-451f-bb10-b0e4067eec0e",
   "metadata": {},
   "outputs": [],
   "source": [
    "str(5)"
   ]
  },
  {
   "cell_type": "code",
   "execution_count": null,
   "id": "893c267e-ace8-494a-9da8-baf8dd26fefc",
   "metadata": {},
   "outputs": [],
   "source": [
    "str(1.0)"
   ]
  },
  {
   "cell_type": "code",
   "execution_count": null,
   "id": "a6ad2707-7073-4cec-a4ea-529e5fe3b707",
   "metadata": {},
   "outputs": [],
   "source": [
    "str(True)"
   ]
  },
  {
   "cell_type": "markdown",
   "id": "68fe4e44-72c2-4c6d-a0b8-2c2edcf5f7d7",
   "metadata": {},
   "source": [
    "En conclusión, tenemos 4 tipos de datos fundamentales en Python: **integer**, **float**, **string** y **lógico**."
   ]
  },
  {
   "cell_type": "markdown",
   "id": "0b5a09fd-b05d-4083-a9af-85f496b20de4",
   "metadata": {},
   "source": [
    "***"
   ]
  },
  {
   "cell_type": "markdown",
   "id": "9228c1b3-86fe-4210-92b1-7016c47656cb",
   "metadata": {},
   "source": [
    "<a id=\"parte2\"></a>"
   ]
  },
  {
   "cell_type": "markdown",
   "id": "c8ae4c5a-c52e-46f0-abdf-6c16baff65b3",
   "metadata": {},
   "source": [
    "## **2. Matemáticas en Python**\n",
    "***\n",
    "\n",
    "**La lógica matemática es uno de los componentes principales detrás del funcionamiento de todo algoritmo.**\n",
    "\n",
    "### **2.1. Aritmética básica**\n",
    "Revisaremos las operaciones aritméticas básicas a través del siguiente ejemplo:\n",
    "\n",
    "Una mina de cobre produjo durante 4 semanas las siguientes toneladas de concentrado: 910, 825, 1070, 940.\\\n",
    "Calcularemos el total producido en un mes sumando las 4 cantidades y asignándolas a la variable `total`:"
   ]
  },
  {
   "cell_type": "code",
   "execution_count": null,
   "id": "db3cbf1c-2ef6-4f19-a82c-74141bc7eba8",
   "metadata": {},
   "outputs": [],
   "source": [
    "total = 910 + 825 + 1070 + 940\n",
    "total"
   ]
  },
  {
   "cell_type": "markdown",
   "id": "e273b149-fa47-4930-bd40-95f062eb77a7",
   "metadata": {},
   "source": [
    "En un mes (4 semanas), la mina produjo 3745 toneladas de concentrado."
   ]
  },
  {
   "cell_type": "markdown",
   "id": "f3b2e422-798c-4f60-8b15-fbb3cb5eab35",
   "metadata": {},
   "source": [
    "También calcularemos el promedio de concentrado producido por la mina cada semana y la asignaremos a la variable llamada `promedio`:"
   ]
  },
  {
   "cell_type": "code",
   "execution_count": null,
   "id": "4766a8a7-e157-4097-94ec-5f86b1c9afce",
   "metadata": {
    "tags": []
   },
   "outputs": [],
   "source": [
    "promedio = total / 4\n",
    "promedio"
   ]
  },
  {
   "cell_type": "markdown",
   "id": "162e78ba-363b-4092-8564-9687ded48032",
   "metadata": {},
   "source": [
    "Ahora, calcularemos la ganancia producida por la mina teniendo en cuenta que el precio de concentrado por tonelada es de 5 dólares y el costo de operación en ese mes fue de 10 000 dólares. Usaremos la siguiente fórmula:\n",
    "<center> $\\Large ganancia = total_{concentrado} \\times precio_{concentrado} - costo_{operacion}$ </center>\n",
    "\n",
    "\\\n",
    "Asignaremos el precio de concentrado a la variable `precio_concentrado` y el costo de operación a la variable `costo_operacion`:"
   ]
  },
  {
   "cell_type": "code",
   "execution_count": null,
   "id": "b257214b-b32f-47b1-b077-f8c137586252",
   "metadata": {},
   "outputs": [],
   "source": [
    "precio_concentrado = 5\n",
    "costo_operacion = 10000"
   ]
  },
  {
   "cell_type": "markdown",
   "id": "906714dc-8c4b-4535-9506-36ca0d00c59a",
   "metadata": {},
   "source": [
    "La ganancia será asignada a la variable `ganancia` y también usaremos la variable `total` calculada anteriormente:"
   ]
  },
  {
   "cell_type": "code",
   "execution_count": null,
   "id": "80ccaf3b-f662-4795-8b64-0ed7c62acb40",
   "metadata": {},
   "outputs": [],
   "source": [
    "ganancia = total * precio_concentrado - costo_operacion\n",
    "ganancia"
   ]
  },
  {
   "cell_type": "markdown",
   "id": "281eb405-04f1-45ae-b595-00011311c7e3",
   "metadata": {},
   "source": [
    "La ganancia de la mina en ese mes fue de 8725 dólares."
   ]
  },
  {
   "cell_type": "markdown",
   "id": "c6ebf8d1-d949-4fd2-8243-62041996239e",
   "metadata": {},
   "source": [
    "Ahora, calcularemos la varianza de la producción usando la siguiente fórmula:\n",
    "\n",
    "<center> $\\Large s^{2} = \\frac{\\sum (x - \\bar{x})^{2}}{n - 1}$ </center>\n",
    "\n",
    "Donde:\n",
    "\n",
    "> $s^{2}$ : varianza\\\n",
    "> $\\bar{x}$ : promedio\\\n",
    "> $x$ : dato\\\n",
    "> $n$ : número de datos"
   ]
  },
  {
   "cell_type": "markdown",
   "id": "387fd636-ed98-41d1-a9c3-0a2ae6e853bb",
   "metadata": {},
   "source": [
    "Recordemos que la producción semanal en la mina fue de 910, 825, 1070 y 940 toneladas. Por lo tanto `n` será igual a 4."
   ]
  },
  {
   "cell_type": "code",
   "execution_count": null,
   "id": "6aa236a3-f8f0-42ad-b42d-3d5395a5fcf3",
   "metadata": {},
   "outputs": [],
   "source": [
    "n = 4"
   ]
  },
  {
   "cell_type": "markdown",
   "id": "3e5c40a6-946c-495c-a357-31bf194e2a19",
   "metadata": {},
   "source": [
    "Calcularemos la diferencia entre la producción obtenida cada semana y el promedio semanal, y lo elevaremos al cuadrado:"
   ]
  },
  {
   "cell_type": "code",
   "execution_count": null,
   "id": "21fb0fb3-420f-459c-9827-ac0235a1ad6f",
   "metadata": {},
   "outputs": [],
   "source": [
    "x1 = (910 - promedio)**2\n",
    "x2 = (825 - promedio)**2\n",
    "x3 = (1070 - promedio)**2\n",
    "x4 = (940 - promedio)**2"
   ]
  },
  {
   "cell_type": "markdown",
   "id": "2899c730-cb63-4134-a156-2b63baa9ba87",
   "metadata": {},
   "source": [
    "Ahora sumaremos todas estas cantidades:"
   ]
  },
  {
   "cell_type": "code",
   "execution_count": null,
   "id": "a761e7c6-260e-454e-9f2d-f1884f9c0dcf",
   "metadata": {},
   "outputs": [],
   "source": [
    "sumatoria = x1 + x2 + x3 + x4"
   ]
  },
  {
   "cell_type": "markdown",
   "id": "2226c937-74c8-4967-9beb-a1366b914351",
   "metadata": {},
   "source": [
    "Y finalmente, calcularemos la varianza:"
   ]
  },
  {
   "cell_type": "code",
   "execution_count": null,
   "id": "6b1f67e4-63b8-45ab-9f99-e18627d69a69",
   "metadata": {},
   "outputs": [],
   "source": [
    "varianza = sumatoria / (n - 1)\n",
    "varianza"
   ]
  },
  {
   "cell_type": "markdown",
   "id": "12c5b725-7c76-482b-abc9-ca54d99748ff",
   "metadata": {},
   "source": [
    "Si quisiera obtener la desviación estándar, solamente tenemos que sacar la raíz cuadrada a la varianza.\\\n",
    "Asignaremos la desviación a una variable llamada `sigma`:"
   ]
  },
  {
   "cell_type": "code",
   "execution_count": null,
   "id": "48b39ad1-ae4d-4eb9-b29c-2ec8d1b3151f",
   "metadata": {},
   "outputs": [],
   "source": [
    "sigma = varianza**0.5\n",
    "sigma"
   ]
  },
  {
   "cell_type": "markdown",
   "id": "63b939e3-066f-4399-b4d6-f2284e68b74d",
   "metadata": {},
   "source": [
    "### **2.2. Comparación entre valores**\n",
    "\n",
    "Usaremos **expresiones lógicas** para comparar dos valores y determinar la relación existente entre ambos.\n",
    "\n",
    "Tenemos las edades radiométricas de dos muestras A y B en millones de años:"
   ]
  },
  {
   "cell_type": "code",
   "execution_count": null,
   "id": "f19cfb5b-3602-4e50-a169-91d9e33bbb52",
   "metadata": {},
   "outputs": [],
   "source": [
    "A = 100\n",
    "B = 250"
   ]
  },
  {
   "cell_type": "markdown",
   "id": "75c426b1-d5f0-4e40-b50c-26e3547aa53b",
   "metadata": {},
   "source": [
    "Podemos comparar las edades y obtener como resultado un dato de tipo lógico (True o False).\\\n",
    "Por ejemplo, evaluaremos si la muestra A es más antigua que B:"
   ]
  },
  {
   "cell_type": "code",
   "execution_count": null,
   "id": "e7aac836-ec4b-4485-a328-04ec9bae6518",
   "metadata": {},
   "outputs": [],
   "source": [
    "A > B"
   ]
  },
  {
   "cell_type": "markdown",
   "id": "af75911f-69a8-4af0-89f4-9007ca756f9d",
   "metadata": {},
   "source": [
    "Vemos que el resultado es falso, por lo tanto, la muestra A es más reciente que B:"
   ]
  },
  {
   "cell_type": "code",
   "execution_count": null,
   "id": "34cacb82-8c00-4724-b3f4-c9221e9e3aab",
   "metadata": {},
   "outputs": [],
   "source": [
    "A < B"
   ]
  },
  {
   "cell_type": "markdown",
   "id": "fa5f3c88-4683-47ed-9808-b0199e1e5cdc",
   "metadata": {},
   "source": [
    "También evaluaremos si la muestra B tiene una edad menor a 500 millones de años:"
   ]
  },
  {
   "cell_type": "code",
   "execution_count": null,
   "id": "3c6165c7-e7d9-4690-b7c2-0e6ebd54ca2a",
   "metadata": {},
   "outputs": [],
   "source": [
    "B <= 500"
   ]
  },
  {
   "cell_type": "markdown",
   "id": "06bc02f5-0a2d-41d7-9263-ec67f45fb9c1",
   "metadata": {},
   "source": [
    "Ahora, evaluaremos si las muestras tienen la misma edad radiométrica:"
   ]
  },
  {
   "cell_type": "code",
   "execution_count": null,
   "id": "9d5a5a8a-3ed8-4be1-9af7-0291a99e8caa",
   "metadata": {},
   "outputs": [],
   "source": [
    "A == B"
   ]
  },
  {
   "cell_type": "markdown",
   "id": "5b91660c-7c27-41bf-99c0-6f2e7decff4b",
   "metadata": {},
   "source": [
    "Nuevamente obtenemos un resultado falso, es decir, las muestras tienen edades diferentes:"
   ]
  },
  {
   "cell_type": "code",
   "execution_count": null,
   "id": "091f00f2-ad5b-4a51-8def-4d05394987c0",
   "metadata": {},
   "outputs": [],
   "source": [
    "A != B"
   ]
  },
  {
   "cell_type": "markdown",
   "id": "247c280a-804d-43bc-a972-949cc9b821c1",
   "metadata": {},
   "source": [
    "Por último, evaluaremos el valor de verdad de la siguiente frase:\\\n",
    "**\"La edad de la muestra A o B es mayor a 50 Ma y la edad de la muestra B es de 250 Ma\"**.\n",
    "\n",
    "Para combinar expresiones lógicas, podemos usar las palabras reservadas `or` y `and` que sirven de conectores lógicos."
   ]
  },
  {
   "cell_type": "code",
   "execution_count": null,
   "id": "21687263-b049-4019-a132-d93a1ae666b6",
   "metadata": {},
   "outputs": [],
   "source": [
    "((A > 50) or (B > 50)) and (B == 250)"
   ]
  },
  {
   "cell_type": "markdown",
   "id": "943d8e55-6e53-4357-85a7-f14ee13838b8",
   "metadata": {},
   "source": [
    "### **2.3. Otros operadores en Python**\n",
    "Para obtener el residuo de dividir un número entre otro, usaremos el símbolo del porcentaje `%`.\\\n",
    "Por ejemplo, calcularemos el residuo de dividir 20 entre 3:"
   ]
  },
  {
   "cell_type": "code",
   "execution_count": null,
   "id": "637a9865-023c-4739-b714-b2523747031b",
   "metadata": {},
   "outputs": [],
   "source": [
    "20 % 3"
   ]
  },
  {
   "cell_type": "markdown",
   "id": "88498afd-33be-4a55-8976-6229dc5118cb",
   "metadata": {},
   "source": [
    "Un número es par si el residuo de dividir dicho número entre 2 es 0:"
   ]
  },
  {
   "cell_type": "code",
   "execution_count": null,
   "id": "e83edad3-5e7a-46b2-ba58-25eea1e174b5",
   "metadata": {},
   "outputs": [],
   "source": [
    "12 % 2"
   ]
  },
  {
   "cell_type": "markdown",
   "id": "435cf1c9-e376-4b34-9dc0-e8205d118d59",
   "metadata": {},
   "source": [
    "Para obtener el valor absoluto de un número, podemos usar la función `abs`:"
   ]
  },
  {
   "cell_type": "code",
   "execution_count": null,
   "id": "f359bd4b-9212-48a4-8547-8929dcd09896",
   "metadata": {},
   "outputs": [],
   "source": [
    "abs(-7.5)"
   ]
  },
  {
   "cell_type": "markdown",
   "id": "e6b821db-9913-4153-97c2-63bafc307535",
   "metadata": {},
   "source": [
    "***"
   ]
  },
  {
   "cell_type": "markdown",
   "id": "7529fc89-18e2-43d1-b812-6521bc43cdb2",
   "metadata": {},
   "source": [
    "## **¿Cómo escribir comentarios dentro de un bloque de código?**\n",
    "\n",
    "Para escribir un comentario y anotar algún detalle que busquemos documentar acerca del código, debemos colocar un hash `#` seguido del comentario que queremos hacer."
   ]
  },
  {
   "cell_type": "code",
   "execution_count": null,
   "id": "9015b7eb-6c42-4d4e-b86d-7f45657a86ff",
   "metadata": {},
   "outputs": [],
   "source": [
    "# Esto es una anotación"
   ]
  },
  {
   "cell_type": "code",
   "execution_count": null,
   "id": "e14ee79f-51ad-4fe6-83d1-93d7a4d648eb",
   "metadata": {},
   "outputs": [],
   "source": [
    "# Esto es una anotación\n",
    "5 + 5"
   ]
  },
  {
   "cell_type": "code",
   "execution_count": null,
   "id": "a6a4ad71-ddb6-472e-a84b-d5f66f9df52b",
   "metadata": {},
   "outputs": [],
   "source": [
    "5 + 5 # Esto es una anotación"
   ]
  },
  {
   "cell_type": "code",
   "execution_count": null,
   "id": "75723d26-c459-4c09-ab26-a6b1e6de97de",
   "metadata": {},
   "outputs": [],
   "source": [
    "# Esto es una anotación\n",
    "# Esto es otra anotación\n",
    "5 + 5"
   ]
  },
  {
   "cell_type": "markdown",
   "id": "67a570e9-a937-4c6c-abed-aae91b28a5a1",
   "metadata": {},
   "source": [
    "***"
   ]
  },
  {
   "cell_type": "markdown",
   "id": "cb2ad6e4-17cd-43aa-b7f8-4d17a8ee8c82",
   "metadata": {},
   "source": [
    "<a id=\"parte3\"></a>"
   ]
  },
  {
   "cell_type": "markdown",
   "id": "77fec00e-38c3-4d58-bd65-d627235f5b57",
   "metadata": {},
   "source": [
    "## **3. Funciones input y print**\n",
    "***\n",
    "\n",
    "Usaremos la función `input` para ingresar información dentro del sistema.\\\n",
    "Los datos ingresados usando esta función serán representados como un **string**.\n",
    "\n",
    "Por ejemplo, ingresaremos el nombre de una roca dentro del sistema:"
   ]
  },
  {
   "cell_type": "code",
   "execution_count": null,
   "id": "b3e24a1f-9ba7-4e95-97c5-ec18e8c6a092",
   "metadata": {},
   "outputs": [],
   "source": [
    "input(\"Ingrese el nombre de una roca:\")"
   ]
  },
  {
   "cell_type": "markdown",
   "id": "87812cfa-0d35-44a6-8d04-225f9abf45e6",
   "metadata": {},
   "source": [
    "Podemos almacenar el resultado de un input dentro de una variable, en este caso usaremos la palabra `roca`:"
   ]
  },
  {
   "cell_type": "code",
   "execution_count": null,
   "id": "56b9a751-7e85-4a91-850d-fc13b7287390",
   "metadata": {},
   "outputs": [],
   "source": [
    "roca = input(\"Ingrese el nombre de una roca:\")"
   ]
  },
  {
   "cell_type": "code",
   "execution_count": null,
   "id": "2c8c65cc-1a56-4b95-923e-209ea6da0393",
   "metadata": {},
   "outputs": [],
   "source": [
    "roca"
   ]
  },
  {
   "cell_type": "markdown",
   "id": "8b4495fa-8c32-45a8-9924-f65eea6b9044",
   "metadata": {},
   "source": [
    "Por otro lado, tenemos la función `print`, que nos muestra información dentro del sistema.\n",
    "\n",
    "Por ejemplo, mostraremos el nombre de la roca:"
   ]
  },
  {
   "cell_type": "code",
   "execution_count": null,
   "id": "d8be3c22-8c04-4c58-be34-0f9bf0d4112d",
   "metadata": {},
   "outputs": [],
   "source": [
    "print(roca)"
   ]
  },
  {
   "cell_type": "markdown",
   "id": "3961c7b8-2b34-4d5a-83ca-827915f30456",
   "metadata": {},
   "source": [
    "La función `print` es comúnmente usada para establecer puntos de control en un algoritmo o para mostrarnos el resultado de alguna tarea.\n",
    "\n",
    "Por ejemplo, calcularemos el RQD en un tramo de testigos y usaremos `print` para que nos muestre el valor del RQD.\\\n",
    "La longitud de cada fragmento de testigo (en cm) es: $8, 12, 15, 9, 25, 19, 11, 4$.\n",
    "\n",
    "Empezaremos calculando la longitud total y la longitud de los fragmentos mayores a 10 cm.\\\n",
    "Para esto, usaremos las variables `total` y `mayor_10`:"
   ]
  },
  {
   "cell_type": "code",
   "execution_count": null,
   "id": "2ac047f0-1fdf-4cb2-9eed-fd4217424468",
   "metadata": {},
   "outputs": [],
   "source": [
    "total = 8 + 12 + 15 + 9 + 25 + 19 + 11 + 4\n",
    "mayor_10 = 12 + 15 + 25 + 19 + 11"
   ]
  },
  {
   "cell_type": "markdown",
   "id": "853cca2f-a5aa-48cf-8584-8ccb799213bd",
   "metadata": {},
   "source": [
    "Ahora, calcularemos el RQD dividiendo la suma de fragmentos mayores a 10 cm entre el total y multiplicando por 100:"
   ]
  },
  {
   "cell_type": "code",
   "execution_count": null,
   "id": "7139f411-777a-4b08-9688-3a0d63248e99",
   "metadata": {},
   "outputs": [],
   "source": [
    "rqd = (mayor_10 / total) * 100"
   ]
  },
  {
   "cell_type": "markdown",
   "id": "e18a1123-0885-466b-9e65-681288b3f86e",
   "metadata": {},
   "source": [
    "Ahora que ya tenemos calculado el RQD, lo uniremos a un **string** para formar una frase:\n",
    "> Usaremos la función `str` para transformar el valor del RQD en un string."
   ]
  },
  {
   "cell_type": "code",
   "execution_count": null,
   "id": "e5cdef64-0522-4cd6-9b55-8dc4e9472873",
   "metadata": {},
   "outputs": [],
   "source": [
    "resultado = \"El RQD del tramo es de \" + str(rqd) + \" %\""
   ]
  },
  {
   "cell_type": "markdown",
   "id": "a994301c-c006-45c4-a4e5-d880a6b80722",
   "metadata": {},
   "source": [
    "Y usaremos `print` para observar el resultado:"
   ]
  },
  {
   "cell_type": "code",
   "execution_count": null,
   "id": "581caab5-e015-48c5-bc19-e88f33a77177",
   "metadata": {},
   "outputs": [],
   "source": [
    "print(resultado)"
   ]
  },
  {
   "cell_type": "markdown",
   "id": "a4834bf8-cd50-412e-a8ac-cedbe3d1137c",
   "metadata": {},
   "source": [
    "Como podemos ver, la función `print` devuelve un resultado que podemos leer de manera sencilla."
   ]
  },
  {
   "cell_type": "markdown",
   "id": "8fb17d8a-0c31-40e6-8ebd-9efcb24f8a29",
   "metadata": {},
   "source": [
    "Sin embargo, podemos mejorar el grado de exactitud decimal en el RQD.\\\n",
    "Para esto, tenemos 2 opciones:\n",
    "\n",
    "### **3.1. Usar la función `round` para redondear el valor del RQD**\n",
    "La función `round` hace uso de 2 parámetros:\n",
    "- El valor a redondear,\n",
    "- El número de decimales que se desea mantener.\n",
    "\n",
    "Redondeando el RQD:"
   ]
  },
  {
   "cell_type": "code",
   "execution_count": null,
   "id": "9355804f-6115-431d-9b6f-6bd567bd4233",
   "metadata": {},
   "outputs": [],
   "source": [
    "rqd_redondeado = round(rqd, 1)"
   ]
  },
  {
   "cell_type": "code",
   "execution_count": null,
   "id": "022c2bf1-c0c3-4fa3-9f87-2b45931b08a5",
   "metadata": {},
   "outputs": [],
   "source": [
    "rqd_redondeado"
   ]
  },
  {
   "cell_type": "markdown",
   "id": "5fc09115-421a-4b16-9566-948d0182ae90",
   "metadata": {},
   "source": [
    "Unimos los strings y mostramos el resultado:"
   ]
  },
  {
   "cell_type": "code",
   "execution_count": null,
   "id": "a2d0137e-9552-4bbb-b43f-9e2f55402c3c",
   "metadata": {},
   "outputs": [],
   "source": [
    "resultado = \"El RQD del tramo es de \" + str(rqd_redondeado) + \" %\"\n",
    "\n",
    "print(resultado)"
   ]
  },
  {
   "cell_type": "markdown",
   "id": "187a4cf8-ba16-493c-a1ce-3336c959973b",
   "metadata": {},
   "source": [
    "### **3.2. Usar un `f-string` (string con formato literal)**\n",
    "\n",
    "Un f-string es similar a un string, pero también contiene espacios que pueden ser reemplazados por variables.\n",
    "\n",
    "Se debe agregar una **f** antes de empezar a escribir el string entre comillas.\\\n",
    "La variable se debe agregar dentro de un espacio separado por llaves `{}`.\\\n",
    "Editaremos el formato del valor de la variable usando dos puntos `:` seguido del tipo de formato (en este caso es `.1f`).\n",
    "\n",
    "Juntando la información en un f-string:"
   ]
  },
  {
   "cell_type": "code",
   "execution_count": null,
   "id": "b60804e3-f2d8-4e44-acd8-fa3cccce9bbf",
   "metadata": {},
   "outputs": [],
   "source": [
    "resultado = f\"El RQD del tramo es de {rqd:.1f} %\""
   ]
  },
  {
   "cell_type": "code",
   "execution_count": null,
   "id": "e9a224eb-9703-4866-9c6c-9db091e3156e",
   "metadata": {},
   "outputs": [],
   "source": [
    "print(resultado)"
   ]
  },
  {
   "cell_type": "markdown",
   "id": "9e33681a-ba70-4b10-a902-20c0dd77e18e",
   "metadata": {},
   "source": [
    "***"
   ]
  },
  {
   "cell_type": "markdown",
   "id": "df2acbd8-8dc9-45be-a9a8-b46b2334acdb",
   "metadata": {
    "tags": []
   },
   "source": [
    "<a id=\"parte4\"></a>"
   ]
  },
  {
   "cell_type": "markdown",
   "id": "f87ba283-44ce-4c37-a89c-7643c76de925",
   "metadata": {},
   "source": [
    "## **4. Condicionales**\n",
    "***\n",
    "\n",
    "Para evaluar el camino que seguirá un algoritmo, podemos establecer una **condición** a través de una expresión lógica.\\\n",
    "El algoritmo continuará por el camino que devuelva el valor `True`.\n",
    "\n",
    "Las palabras reservadas usadas en una condicional son:\n",
    "\n",
    "- `if`: toda condicional inicia con esta palabra:\n",
    "- `elif`: en caso la condición principal o anterior no se cumpla, `elif` ejecutará el bloque de código que tenga asignado.\n",
    "- `else`: en caso ninguna condición se cumpla, `else` ejecutará el bloque de código que tenga asignado.\n",
    "\n",
    "La estructura de una condicional es la siguiente:\n",
    "\n",
    "`if [condición]:`\\\n",
    "`   [bloque de código]`\\\n",
    "`elif [condición]:`\\\n",
    "`   [bloque de código]`\\\n",
    "`else:`\\\n",
    "`   [bloque de código]`\n",
    "\n",
    "Por ejemplo, crearemos una condicional que evalúe si una roca es ígnea (y si se trata específicamente, de una andesita):"
   ]
  },
  {
   "cell_type": "code",
   "execution_count": null,
   "id": "5db3c937-8e83-4a9f-8a82-baf8611e5630",
   "metadata": {},
   "outputs": [],
   "source": [
    "roca = input(\"Ingrese el nombre de una roca:\")\n",
    "\n",
    "if roca == \"andesita\":\n",
    "    print(\"La andesita es una roca ígnea.\")"
   ]
  },
  {
   "cell_type": "markdown",
   "id": "11aedd3a-3beb-47ef-80e8-d968bdfe8af5",
   "metadata": {},
   "source": [
    "> El algoritmo devuelve la frase **\"La andesita es una roca ígnea\"** solo cuando la variable asignada a `roca` es **\"andesita\"**.\n",
    "\n",
    "Podemos agregar una opción adicional, en caso de que la roca no se trate de una andesita:"
   ]
  },
  {
   "cell_type": "code",
   "execution_count": null,
   "id": "22699629-2336-4491-b6cf-1aff0fe3eebe",
   "metadata": {},
   "outputs": [],
   "source": [
    "roca = input(\"Ingrese el nombre de una roca:\")\n",
    "\n",
    "if roca == \"andesita\":\n",
    "    print(\"La andesita es una roca ígnea.\")\n",
    "else:\n",
    "    print(\"La roca no es una andesita.\")"
   ]
  },
  {
   "cell_type": "markdown",
   "id": "8e7d05a5-6081-47e5-af9a-866e5fb07488",
   "metadata": {},
   "source": [
    "> Cuando la condición establecida no se cumple, el algoritmo devuelve la frase **\"La roca no es una andesita\"**.\n",
    "\n",
    "También podemos agregar otras opciones con los nombres de otras rocas ígneas:"
   ]
  },
  {
   "cell_type": "code",
   "execution_count": null,
   "id": "8e93a663-1bd6-44bf-bd2f-f1b32d5f2a7a",
   "metadata": {},
   "outputs": [],
   "source": [
    "roca = input(\"Ingrese el nombre de una roca:\")\n",
    "\n",
    "if roca == \"andesita\":\n",
    "    print(\"La andesita es una roca ígnea.\")\n",
    "elif roca == \"basalto\":\n",
    "    print(\"El basalto es una roca ígnea.\")\n",
    "elif roca == \"granito\":\n",
    "    print(\"El granito es una roca ígnea.\")\n",
    "else:\n",
    "    print(\"La roca no es andesita, basalto o granito.\")"
   ]
  },
  {
   "cell_type": "markdown",
   "id": "f036bf9f-0b53-4240-bf25-734e3b26caa0",
   "metadata": {},
   "source": [
    "Ahora, agruparemos las condiciones en una sola expresión:"
   ]
  },
  {
   "cell_type": "code",
   "execution_count": null,
   "id": "366bc246-2df0-445f-b328-9a6229cc4295",
   "metadata": {},
   "outputs": [],
   "source": [
    "roca = input(\"Ingrese el nombre de una roca:\")\n",
    "\n",
    "if (roca == \"andesita\") or (roca == \"basalto\") or (roca == \"granito\"):\n",
    "    print(\"La roca es ígnea.\")\n",
    "else:\n",
    "    print(\"La roca no es andesita, basalto o granito.\")"
   ]
  },
  {
   "cell_type": "markdown",
   "id": "1aa90bf3-07b7-483a-af78-67e4e221b102",
   "metadata": {},
   "source": [
    "***"
   ]
  },
  {
   "cell_type": "markdown",
   "id": "f8b5fae4-91ba-4d1f-bf1e-829a554b4cc8",
   "metadata": {},
   "source": [
    "<a id=\"parte5\" ><a/>"
   ]
  },
  {
   "cell_type": "markdown",
   "id": "47bf31f4-4eb0-407a-8a04-89fc50587970",
   "metadata": {},
   "source": [
    "## **5. Listas**\n",
    "***\n",
    "\n",
    "Las listas son colecciones de datos modificables que se caracterizan por estar encerrados entre corchetes `[]`.\n",
    "\n",
    "Por ejemplo, si tenemos una colección con los siguientes minerales: pirita, cuarzo, galena y calcopirita.\\\n",
    "Podemos agrupar los minerales en una **lista** llamada `minerales`:"
   ]
  },
  {
   "cell_type": "code",
   "execution_count": null,
   "id": "851ea59b-1023-4064-bb43-aa3f07df12e5",
   "metadata": {},
   "outputs": [],
   "source": [
    "minerales = [\"pirita\", \"cuarzo\", \"galena\", \"calcopirita\"]"
   ]
  },
  {
   "cell_type": "markdown",
   "id": "f6d5dcf4-b943-4a57-a4ba-f74a24166a9a",
   "metadata": {},
   "source": [
    "Ahora, mostraremos el contenido de la lista:"
   ]
  },
  {
   "cell_type": "code",
   "execution_count": null,
   "id": "ef063401-b86f-4de0-8aa8-2a91d801d9e2",
   "metadata": {},
   "outputs": [],
   "source": [
    "print(minerales)"
   ]
  },
  {
   "cell_type": "markdown",
   "id": "eead1367-5096-4b7a-899c-a33248a372a7",
   "metadata": {},
   "source": [
    "Si en la colección también tuvieramos *esfalerita*, ¿cómo la agregamos dentro de la lista?\\\n",
    "Para eso usaremos el método `.append`:"
   ]
  },
  {
   "cell_type": "code",
   "execution_count": null,
   "id": "c090c223-6514-4a91-be52-ee6edc3d3623",
   "metadata": {},
   "outputs": [],
   "source": [
    "minerales.append(\"esfalerita\")\n",
    "\n",
    "print(minerales)"
   ]
  },
  {
   "cell_type": "markdown",
   "id": "1d243c61-094d-4195-83c5-2aa5e9da368e",
   "metadata": {},
   "source": [
    "¿Cómo agregaríamos los siguientes minerales en la lista: acantita y molibdenita?\\\n",
    "Para eso usaremos el método `.extend`:"
   ]
  },
  {
   "cell_type": "code",
   "execution_count": null,
   "id": "326e3f31-532f-4288-8a6a-d3cd9cfc53ac",
   "metadata": {},
   "outputs": [],
   "source": [
    "minerales.extend([\"acantita\", \"molibdenita\"])\n",
    "\n",
    "print(minerales)"
   ]
  },
  {
   "cell_type": "markdown",
   "id": "4d098fdb-f460-4b6b-9697-33886983ae69",
   "metadata": {},
   "source": [
    "¿Cuántos tipos de minerales tengo en la colección?\\\n",
    "Para saber esto usaremos la función `len`:"
   ]
  },
  {
   "cell_type": "code",
   "execution_count": null,
   "id": "2eafbdea-c269-48d2-8b5b-45cee0f6cbfc",
   "metadata": {},
   "outputs": [],
   "source": [
    "len(minerales)"
   ]
  },
  {
   "cell_type": "markdown",
   "id": "dd6af63d-2679-4c43-a430-e2b297929c2c",
   "metadata": {},
   "source": [
    "> La colección contiene 7 tipos de minerales.\n",
    "\n",
    "¿Cómo hago para seleccionar algunos elementos específicos dentro la lista de minerales?\\\n",
    "A través de un método en Python conocido como **slicing**:\n",
    "> Para realizar slicing se sigue el siguiente formato: `lista[inicio:final:paso]`\\\n",
    "> El orden de posición en Python empieza desde 0, 1, 2, 3...\n",
    "\n",
    "Para seleccionar todos los elementos de la lista:"
   ]
  },
  {
   "cell_type": "code",
   "execution_count": null,
   "id": "e9201227-96a2-4eb4-89cf-dc7a3198cd0d",
   "metadata": {},
   "outputs": [],
   "source": [
    "print(minerales[:])"
   ]
  },
  {
   "cell_type": "markdown",
   "id": "03690a86-1d81-4d5e-994f-bd750f2ce96c",
   "metadata": {},
   "source": [
    "El primer elemento:"
   ]
  },
  {
   "cell_type": "code",
   "execution_count": null,
   "id": "f9cef9fb-e3f0-414e-bddc-b4d3ec75f067",
   "metadata": {},
   "outputs": [],
   "source": [
    "print(minerales[0])"
   ]
  },
  {
   "cell_type": "markdown",
   "id": "00ddf0a5-012c-4b47-a3f2-7a0404ba7bc4",
   "metadata": {},
   "source": [
    "Los 3 primeros elementos:"
   ]
  },
  {
   "cell_type": "code",
   "execution_count": null,
   "id": "83563d69-382d-4d2b-8d1d-a2521cb1ba75",
   "metadata": {},
   "outputs": [],
   "source": [
    "print(minerales[:3])"
   ]
  },
  {
   "cell_type": "markdown",
   "id": "40168fcb-a5bf-4a8d-80ab-92b901c4797c",
   "metadata": {},
   "source": [
    "El último elemento:"
   ]
  },
  {
   "cell_type": "code",
   "execution_count": null,
   "id": "18d00d67-9210-4b07-a543-3f909a63aa0c",
   "metadata": {},
   "outputs": [],
   "source": [
    "print(minerales[-1])"
   ]
  },
  {
   "cell_type": "markdown",
   "id": "43f4ca14-7c9d-48d6-9b0c-5e2dd9ab128c",
   "metadata": {},
   "source": [
    "Los últimos 3 elementos:"
   ]
  },
  {
   "cell_type": "code",
   "execution_count": null,
   "id": "cc3383a7-c2ad-44ba-a950-2d25e93fc25a",
   "metadata": {},
   "outputs": [],
   "source": [
    "print(minerales[-3:])"
   ]
  },
  {
   "cell_type": "markdown",
   "id": "95bd6889-f9be-4659-9b8f-b1167b661494",
   "metadata": {},
   "source": [
    "Por último, seleccionamos elementos de la lista de 2 en 2:"
   ]
  },
  {
   "cell_type": "code",
   "execution_count": null,
   "id": "8019abba-d86e-46c7-8dd3-dafc039ff9e5",
   "metadata": {},
   "outputs": [],
   "source": [
    "print(minerales[::2])"
   ]
  },
  {
   "cell_type": "markdown",
   "id": "b0c516be-7a64-4e62-9901-77e83f6b1543",
   "metadata": {},
   "source": [
    "Imaginemos que ahora en la colección solo queda cuarzo, pirita, esfalerita y calcopirita. ¿Cómo removemos los otros minerales de la lista?\\\n",
    "Los removeremos usando el método `.remove`:"
   ]
  },
  {
   "cell_type": "code",
   "execution_count": null,
   "id": "6c1269bc-a659-46fc-a0b8-b40b8013c161",
   "metadata": {},
   "outputs": [],
   "source": [
    "minerales.remove(\"galena\")\n",
    "minerales.remove(\"acantita\")\n",
    "minerales.remove(\"molibdenita\")"
   ]
  },
  {
   "cell_type": "code",
   "execution_count": null,
   "id": "25590aa9-fd7f-46ef-8e56-5591991c341f",
   "metadata": {},
   "outputs": [],
   "source": [
    "print(minerales)"
   ]
  },
  {
   "cell_type": "markdown",
   "id": "dd9854f6-030d-4241-8666-a0d6d08260a8",
   "metadata": {},
   "source": [
    "Como siguiente ejemplo, tenemos las concentraciones de Au (en ppm) de varias muestras agrupadas en una lista:"
   ]
  },
  {
   "cell_type": "code",
   "execution_count": null,
   "id": "0605d75d-3db2-4b34-ab76-96f345ad0cec",
   "metadata": {},
   "outputs": [],
   "source": [
    "au_ppm = [10.1, 2.0, 0.4, 11.7, 6.3, 1.3, 0.1, 2.6, 8.1, 7.0]"
   ]
  },
  {
   "cell_type": "markdown",
   "id": "66c3686e-35bc-484f-a72a-5add3e847456",
   "metadata": {},
   "source": [
    "Si queremos obtener el promedio de concentración de las muestras, dividiremos la suma de los elementos entre el total:\n",
    "> La suma de los elementos en una lista se puede calcular con la función `sum`."
   ]
  },
  {
   "cell_type": "code",
   "execution_count": null,
   "id": "d7f19ea2-1cbf-4191-ada9-6184d8701863",
   "metadata": {},
   "outputs": [],
   "source": [
    "suma = sum(au_ppm)\n",
    "total = len(au_ppm)"
   ]
  },
  {
   "cell_type": "code",
   "execution_count": null,
   "id": "2d3e51c4-d5dc-4ff8-adac-7238524e2ad3",
   "metadata": {},
   "outputs": [],
   "source": [
    "promedio = suma / total\n",
    "promedio"
   ]
  },
  {
   "cell_type": "markdown",
   "id": "35a50e05-d4e4-4dee-b87d-abb5e9e0b817",
   "metadata": {},
   "source": [
    "> El promedio de concentración de oro en las muestras es de 4.96 ppm.\n",
    "\n",
    "Ahora calcularemos los valores máximos y mínimos usando las funciones `max` y `min`:"
   ]
  },
  {
   "cell_type": "code",
   "execution_count": null,
   "id": "111ce02c-6a38-45cb-964d-42a71f4d0a16",
   "metadata": {},
   "outputs": [],
   "source": [
    "print(f\"La concentración máxima de Au en las muestras es de {max(au_ppm)} ppm\")"
   ]
  },
  {
   "cell_type": "code",
   "execution_count": null,
   "id": "099c4313-aeb7-443e-9581-728a64ac7ccc",
   "metadata": {},
   "outputs": [],
   "source": [
    "print(f\"La concentración mínima de Au en las muestras es de {min(au_ppm)} ppm\")"
   ]
  },
  {
   "cell_type": "markdown",
   "id": "6859270b-4bf3-4811-bfe9-fdfd72f87101",
   "metadata": {},
   "source": [
    "Por último, ordenaremos los elementos en la lista de menor a mayor usando la función `sorted`:"
   ]
  },
  {
   "cell_type": "code",
   "execution_count": null,
   "id": "a89fae5e-b700-48d8-9ab0-8a3fac652373",
   "metadata": {},
   "outputs": [],
   "source": [
    "sorted(au_ppm)"
   ]
  },
  {
   "cell_type": "markdown",
   "id": "aa2d7431-65f3-4923-99e0-099e7cf8da01",
   "metadata": {},
   "source": [
    "Y también ordenados de mayor a menor activando la opción `reverse=True`:"
   ]
  },
  {
   "cell_type": "code",
   "execution_count": null,
   "id": "c855e13b-2f99-4b77-9162-23366384ea17",
   "metadata": {},
   "outputs": [],
   "source": [
    "sorted(au_ppm, reverse=True)"
   ]
  },
  {
   "cell_type": "markdown",
   "id": "3e733640-c174-4598-b012-d9a3c43d5c3e",
   "metadata": {},
   "source": [
    "***"
   ]
  },
  {
   "cell_type": "markdown",
   "id": "192f7bfc-7661-44c8-ac96-59ee061923fd",
   "metadata": {},
   "source": [
    "<a id=\"parte6\"></a>"
   ]
  },
  {
   "cell_type": "markdown",
   "id": "23ca5e6e-c67c-42a6-bd97-545b42d477cf",
   "metadata": {},
   "source": [
    "## **6. Tuplas**\n",
    "***\n",
    "\n",
    "Las tuplas son colecciones de datos **no modificables** que se caracterizan por estar encerrados entre paréntesis `()`.\n",
    "\n",
    "Por ejemplo, las coordenadas de un punto se pueden guardar en una tupla:"
   ]
  },
  {
   "cell_type": "code",
   "execution_count": null,
   "id": "6a50d0cd-e39d-4f41-b40d-a5964f082d07",
   "metadata": {},
   "outputs": [],
   "source": [
    "punto = (10, 25, 15)"
   ]
  },
  {
   "cell_type": "markdown",
   "id": "1da30be2-95d4-49d8-9946-24f2b3a6e938",
   "metadata": {},
   "source": [
    "Calcularemos la distancia del punto a las coordenadas **(5, 15, 4)**.\\\n",
    "Primero, asignaremos las coordenadas por separado:"
   ]
  },
  {
   "cell_type": "code",
   "execution_count": null,
   "id": "292858c9-5c47-4dd1-b956-26bf5fe173b6",
   "metadata": {},
   "outputs": [],
   "source": [
    "x, y, z = punto"
   ]
  },
  {
   "cell_type": "markdown",
   "id": "9a83f334-72b4-4e88-a78e-097407b3ed51",
   "metadata": {},
   "source": [
    "Usaremos estas variables para calcular la distancia euclidiana:"
   ]
  },
  {
   "cell_type": "code",
   "execution_count": null,
   "id": "5adf4c95-d591-4b64-8dd3-11a081a89691",
   "metadata": {},
   "outputs": [],
   "source": [
    "distancia = ((x - 5)**2 + (y - 15)**2 + (z - 4)**2)**(1/2)"
   ]
  },
  {
   "cell_type": "code",
   "execution_count": null,
   "id": "8a87a459-72cd-43f9-8c54-06891b48488a",
   "metadata": {},
   "outputs": [],
   "source": [
    "print(f\"La distancia del punto a la coordenada es de {distancia:.1f}\")"
   ]
  },
  {
   "cell_type": "markdown",
   "id": "3473fab9-151a-40fd-9719-2a855ef30177",
   "metadata": {},
   "source": [
    "***"
   ]
  },
  {
   "cell_type": "markdown",
   "id": "8afe2028-5735-4b2d-86d1-c27080a250c1",
   "metadata": {},
   "source": [
    "<a id=\"parte7\"></a>"
   ]
  },
  {
   "cell_type": "markdown",
   "id": "5eabf831-e1c5-4307-a8bf-71a0d5a815ab",
   "metadata": {},
   "source": [
    "## **7. Diccionarios**\n",
    "***\n",
    "\n",
    "Los diccionarios son colecciones de datos modificables que se caracterizan por estar encerrados entre llaves `{}`.\\\n",
    "Además, cada elemento en un diccionario está compuesto por una llave **(key)** y un valor **(value)**."
   ]
  },
  {
   "cell_type": "markdown",
   "id": "2bc6e77d-85a7-47e1-84df-040242b9f1a5",
   "metadata": {},
   "source": [
    "Por ejemplo, crearemos un diccionario que contenga la composición mineralógica de una muestra:"
   ]
  },
  {
   "cell_type": "code",
   "execution_count": null,
   "id": "bdea529f-7e8c-4927-be90-0cfd892af627",
   "metadata": {},
   "outputs": [],
   "source": [
    "muestra = {\"cuarzo\": 35, \"feldespato\": 20, \"plagioclasas\": 30, \"micas\": 10}"
   ]
  },
  {
   "cell_type": "markdown",
   "id": "0744c47f-8167-4a0a-8700-538dcb31448c",
   "metadata": {},
   "source": [
    "Como podemos ver, cada elemento de la muestra está compuesto por una **llave** (nombre del mineral) y un **valor** (porcentaje en la muestra):"
   ]
  },
  {
   "cell_type": "code",
   "execution_count": null,
   "id": "03fa6c7f-5275-4253-a012-4c3cec04c80f",
   "metadata": {},
   "outputs": [],
   "source": [
    "print(muestra)"
   ]
  },
  {
   "cell_type": "markdown",
   "id": "636f0b7f-d630-425e-a8dd-1039242ebf4a",
   "metadata": {},
   "source": [
    "Podemos seleccionar el porcentaje de un mineral de la siguiente forma:"
   ]
  },
  {
   "cell_type": "code",
   "execution_count": null,
   "id": "01f93cf9-46a9-408c-80c2-f9ba9e308d5f",
   "metadata": {},
   "outputs": [],
   "source": [
    "muestra[\"cuarzo\"]"
   ]
  },
  {
   "cell_type": "markdown",
   "id": "59587907-519b-4e82-bb4b-f97295ddc968",
   "metadata": {},
   "source": [
    "Y también podemos modificar el valor de un porcentaje:"
   ]
  },
  {
   "cell_type": "code",
   "execution_count": null,
   "id": "e154bcf9-42cb-4774-a961-346084b079b2",
   "metadata": {},
   "outputs": [],
   "source": [
    "muestra[\"cuarzo\"] = 40"
   ]
  },
  {
   "cell_type": "code",
   "execution_count": null,
   "id": "7505a5c9-43a9-432f-8d4f-5f90223de2e5",
   "metadata": {},
   "outputs": [],
   "source": [
    "print(muestra)"
   ]
  },
  {
   "cell_type": "markdown",
   "id": "12570add-8913-48b4-94cb-7c8e4ebde97e",
   "metadata": {},
   "source": [
    "Podemos obtener el porcentaje de un mineral incluso si no ha sido indicado previamente (por ejemplo, pirita).\\\n",
    "Para esto, usaremos la función `get` e incluiremos un valor de porcentaje por defecto:"
   ]
  },
  {
   "cell_type": "code",
   "execution_count": null,
   "id": "1e61f135-63fb-4fdd-aef4-42cc1504b6e4",
   "metadata": {},
   "outputs": [],
   "source": [
    "muestra.get(\"pirita\", 0)"
   ]
  },
  {
   "cell_type": "markdown",
   "id": "622a24d9-7010-4af9-a865-7d0fe4e416c7",
   "metadata": {},
   "source": [
    "Ahora, crearemos un nuevo elemento en el diccionario:"
   ]
  },
  {
   "cell_type": "code",
   "execution_count": null,
   "id": "0736e13f-8f47-48c0-8379-d7e95b46e43e",
   "metadata": {},
   "outputs": [],
   "source": [
    "muestra[\"pirita\"] = 0"
   ]
  },
  {
   "cell_type": "code",
   "execution_count": null,
   "id": "d3bece16-fae2-47e8-a937-2153fc44664e",
   "metadata": {},
   "outputs": [],
   "source": [
    "print(muestra)"
   ]
  },
  {
   "cell_type": "markdown",
   "id": "a08c21cf-34a9-4f85-8919-eb80f849c3cf",
   "metadata": {},
   "source": [
    "Si quiero obtener solamente las llaves del diccionario:"
   ]
  },
  {
   "cell_type": "code",
   "execution_count": null,
   "id": "0b137357-b13a-4c9f-96db-1817f992c920",
   "metadata": {},
   "outputs": [],
   "source": [
    "muestra.keys()"
   ]
  },
  {
   "cell_type": "markdown",
   "id": "56397a2e-2259-43ba-9b00-b910714b4948",
   "metadata": {},
   "source": [
    "O solamente los valores:"
   ]
  },
  {
   "cell_type": "code",
   "execution_count": null,
   "id": "c1451f19-7c04-4db2-a492-6a0a723f4da4",
   "metadata": {},
   "outputs": [],
   "source": [
    "muestra.values()"
   ]
  },
  {
   "cell_type": "markdown",
   "id": "02ee1a27-b42a-46ba-823d-7823b70fb56a",
   "metadata": {},
   "source": [
    "También podemos seleccionar los elementos separados en tuplas:"
   ]
  },
  {
   "cell_type": "code",
   "execution_count": null,
   "id": "7177a93c-84fa-4b4f-befb-71311debd7db",
   "metadata": {},
   "outputs": [],
   "source": [
    "muestra.items()"
   ]
  },
  {
   "cell_type": "markdown",
   "id": "4719702f-cdda-4231-ae64-5b420ae3209c",
   "metadata": {},
   "source": [
    "Puedo transformar los elementos que provienen de un diccionario usando la función `list`:"
   ]
  },
  {
   "cell_type": "code",
   "execution_count": null,
   "id": "48869d1b-89fa-4c16-87af-acc32edac27e",
   "metadata": {},
   "outputs": [],
   "source": [
    "list(muestra.keys())"
   ]
  },
  {
   "cell_type": "markdown",
   "id": "342df6ab-0118-4769-9260-22cb512035b9",
   "metadata": {},
   "source": [
    "### **7.1. Sets**\n",
    "Los sets o conjuntos son colecciones de datos desordenados que no pueden tener valores repetidos.\\\n",
    "Para crear un set, podemos usar la función `set` o encasillar un conjunto de elementos entre llaves `{}`.\n",
    "\n",
    "Por ejemplo, probaremos a crear un set a partir de una lista con minerales repetidos:"
   ]
  },
  {
   "cell_type": "code",
   "execution_count": null,
   "id": "f7b2f661-c26c-430f-a48e-93499be113df",
   "metadata": {},
   "outputs": [],
   "source": [
    "minerales = set([\"pirita\", \"cuarzo\", \"galena\", \"cuarzo\", \"calcopirita\", \"cuarzo\", \"pirita\"])"
   ]
  },
  {
   "cell_type": "markdown",
   "id": "bca58b11-c13f-4e7b-aef4-31cb355dbccd",
   "metadata": {},
   "source": [
    "Observamos que el set solamente guardó los elementos únicos:"
   ]
  },
  {
   "cell_type": "code",
   "execution_count": null,
   "id": "87b91a53-e0be-4444-a574-b38b9e9ee187",
   "metadata": {},
   "outputs": [],
   "source": [
    "minerales"
   ]
  },
  {
   "cell_type": "markdown",
   "id": "e4001219-3edc-4013-9046-82b58c7e2e26",
   "metadata": {},
   "source": [
    "***"
   ]
  },
  {
   "cell_type": "markdown",
   "id": "f2250213-c63c-41c2-a2c0-1fb9d1c35b8c",
   "metadata": {},
   "source": [
    "<a id=\"parte8\"></a>"
   ]
  },
  {
   "cell_type": "markdown",
   "id": "102faa3e-f749-49d4-a20e-e63dbc82b327",
   "metadata": {},
   "source": [
    "## **8. Bucles**\n",
    "***\n",
    "\n",
    "Usaremos **bucles** si queremos realizar una tarea de manera repetitiva, iterativa, o cíclica.\\\n",
    "Existen dos tipos de bucles: definidos e indefinidos.\n",
    "\n",
    "### **8.1. Bucles definidos**\n",
    "Este tipo de bucle realiza una iteración por cada elemento dentro de un conjunto.\\\n",
    "Las palabras reservadas usadas en un bucle definido son `for` e `ìn` y siguen la siguiente estructura:\n",
    "\n",
    "`for [elemento] in [conjunto]:`\\\n",
    "`    [bloque de código]`\n",
    "\n",
    "Es importante **indentar** el bloque de código que seguirá luego de la primera línea del bucle.\n",
    "\n",
    "Por ejemplo, crearemos un bucle que muestre los elementos de la función `range`:\n",
    "> **Nota:** La función `range` devuelve una secuencia de **integers** ordenados."
   ]
  },
  {
   "cell_type": "code",
   "execution_count": null,
   "id": "4a10fc2c-f684-4e94-b6dd-640e915f7cab",
   "metadata": {},
   "outputs": [],
   "source": [
    "for numero in range(5):\n",
    "    print(numero)"
   ]
  },
  {
   "cell_type": "markdown",
   "id": "d5092448-af06-49ce-a4f8-9256c3c71d0a",
   "metadata": {},
   "source": [
    "Si tengo una lista de minerales, podemos mostrar cada elemento de la lista usando un bucle:"
   ]
  },
  {
   "cell_type": "code",
   "execution_count": null,
   "id": "4b4a3848-def1-48db-96cc-0c4bdaf18494",
   "metadata": {},
   "outputs": [],
   "source": [
    "minerales = [\"cuarzo\", \"biotita\", \"ortoclasa\", \"muscovita\"]"
   ]
  },
  {
   "cell_type": "code",
   "execution_count": null,
   "id": "1c03ea8d-0953-4cd9-bc5b-c4432490efbc",
   "metadata": {},
   "outputs": [],
   "source": [
    "for mineral in minerales:\n",
    "    print(mineral)"
   ]
  },
  {
   "cell_type": "markdown",
   "id": "384205ff-92ff-44f5-9d0d-6e6ba17d41d8",
   "metadata": {},
   "source": [
    "Podemos usar la función `enumerate` para enumerar cada elemento en el conjunto:\n",
    "> La función `enumerate` devuelve los elementos usando tuplas que contienen el número de orden de cada elemento."
   ]
  },
  {
   "cell_type": "code",
   "execution_count": null,
   "id": "a6e03457-74fc-4ae4-9729-52c2416089fc",
   "metadata": {},
   "outputs": [],
   "source": [
    "for mineral in enumerate(minerales):\n",
    "    print(mineral)"
   ]
  },
  {
   "cell_type": "markdown",
   "id": "55dee709-d716-4b42-9d42-f8243d89bdce",
   "metadata": {},
   "source": [
    "Por último, podemos usar la función `zip` para agrupar conjuntos de elementos en grupos de tuplas:"
   ]
  },
  {
   "cell_type": "code",
   "execution_count": null,
   "id": "6555cc82-b343-4171-8310-aa86fe72e019",
   "metadata": {},
   "outputs": [],
   "source": [
    "minerales = [\"pirita\", \"galena\", \"cuarzo\"]\n",
    "dureza = [6, 2, 7]"
   ]
  },
  {
   "cell_type": "code",
   "execution_count": null,
   "id": "28e2e67d-56df-4703-9695-da029494f209",
   "metadata": {},
   "outputs": [],
   "source": [
    "for grupo in zip(minerales, dureza):\n",
    "    print(grupo)"
   ]
  },
  {
   "cell_type": "markdown",
   "id": "24faffda-07f0-4a76-8166-2e406eb4879e",
   "metadata": {},
   "source": [
    "### **8.2. Bucles indefinidos**\n",
    "\n",
    "Este tipo de bucle permanece activo hasta que la condición principal deja de ser verdadera (True), por lo cual puede ser ejecutada de manera indefinida.\\\n",
    "Para detener un bucle indefinido, debemos establecer una medida que termine con la ejecución del bucle.\n",
    "\n",
    "Las palabras reservadas usadas en un bucle indefinido son:\n",
    "\n",
    "- `while`: repite el bucle mientras se mantenga la condición principal.\n",
    "- `continue`: termina la secuencia del bucle y empieza desde el inicio.\n",
    "- `pass`: continúa con la secuencia del bucle.\n",
    "- `break`: termina con el bucle y pasa a la siguiente línea de código fuera de este.\n",
    "\n",
    "La estructura de un bucle indefinido es el siguiente:\n",
    "\n",
    "`while [condición]:`\\\n",
    "`      [bloque de código]`\n",
    "\n",
    "Recuerda que es importante **indentar** el bloque de código dentro del bucle.\n",
    "\n",
    "Por ejemplo, usaremos un bucle indefinido para crear un algoritmo que nos pida el nombre de una roca y solo termine de ejecutarse cuando el nombre pertenezca a la lista indicada:"
   ]
  },
  {
   "cell_type": "code",
   "execution_count": null,
   "id": "1aa89a4d-c5bd-48dc-b4a1-067f90a82071",
   "metadata": {},
   "outputs": [],
   "source": [
    "rocas = [\"andesita\", \"diorita\", \"basalto\", \"sienita\"]\n",
    "\n",
    "while True:\n",
    "    roca = input(\"Ingrese el nombre de la roca:\")\n",
    "    if roca in rocas:\n",
    "        break\n",
    "    else:\n",
    "        print(\"El nombre ingresado no pertenece a la lista, intente denuevo.\")\n",
    "\n",
    "print(f\"Bucle terminado, la roca ingresada es {roca}\")"
   ]
  },
  {
   "cell_type": "markdown",
   "id": "3f8d949a-ddc8-4d43-9f94-3d1946f0b6ff",
   "metadata": {},
   "source": [
    "***"
   ]
  },
  {
   "cell_type": "markdown",
   "id": "e6090a5b-0388-4b86-810c-ce839273181b",
   "metadata": {},
   "source": [
    "<a id=\"parte9\"> </a>"
   ]
  },
  {
   "cell_type": "markdown",
   "id": "74adfaf3-08bc-4147-a357-5afa6940e767",
   "metadata": {},
   "source": [
    "## **9. Funciones**\n",
    "***\n",
    "\n",
    "Una función es una pieza de código que puede ser reutilizada en diferentes algoritmos.\\\n",
    "Para usar una función debemos colocar su nombre con un par de paréntesis `()` al final de la función.\n",
    "\n",
    "Para crear una función en Python debemos usar las siguientes palabras reservadas:\n",
    "\n",
    "- `def`: define el nombre de la función, le siguen los parámetros en paréntesis.\n",
    "- `assert`: evalúa una condición dentro de la función, de ser falsa, devolverá un `AssertionError`.\n",
    "- `return`: devuelve el resultado de la función.\n",
    "\n",
    "La estructura para crear una función es la siguiente:\n",
    "\n",
    "`def [función](parámetros):`\\\n",
    "`    [bloque de código]`\\\n",
    "`    return [resultado]`\n",
    "\n",
    "Es importante tener en cuenta que la estructura de la función debe ir **indentada** luego de la primera línea.\n",
    "\n",
    "Por ejemplo, crearemos una función llamada `frase` que devolverá un comentario:\n",
    "> **Nota:** En este primer ejemplo, usaremos `print` en vez de `return` para devolver el resultado."
   ]
  },
  {
   "cell_type": "code",
   "execution_count": null,
   "id": "82587e1a-4d12-4349-b3fc-15a43aa3d22c",
   "metadata": {},
   "outputs": [],
   "source": [
    "def frase():\n",
    "    print(\"Una roca es un agregado de minerales.\")"
   ]
  },
  {
   "cell_type": "markdown",
   "id": "97a6f862-d9bc-4754-8ce4-7330f62037ad",
   "metadata": {},
   "source": [
    "Y ahora llamaremos la función:"
   ]
  },
  {
   "cell_type": "code",
   "execution_count": null,
   "id": "5272a319-f3b8-4394-b38d-5d301420fb60",
   "metadata": {},
   "outputs": [],
   "source": [
    "frase()"
   ]
  },
  {
   "cell_type": "markdown",
   "id": "cae63f0d-704e-4732-a73d-7fb44015ddf8",
   "metadata": {},
   "source": [
    "Ahora crearemos una función un poco más compleja, llamada `clasificacion`, para clasificar tipos de rocas.\\\n",
    "Para esto, usaremos un **parámetro** llamado `tipo` que corresponde a uno de los tres tipos de rocas: ígneas, sedimentarias o metamórficas."
   ]
  },
  {
   "cell_type": "code",
   "execution_count": null,
   "id": "24e94942-7bef-445d-9078-2a9b5c8e8a14",
   "metadata": {},
   "outputs": [],
   "source": [
    "def clasificacion(tipo):\n",
    "    if tipo == \"ignea\":\n",
    "        print(\"Es una roca ígnea.\")\n",
    "    elif tipo == \"sedimentaria\":\n",
    "        print(\"Es una roca sedimentaria.\")\n",
    "    elif tipo == \"metamorfica\":\n",
    "        print(\"Es una roca metamórfica.\")"
   ]
  },
  {
   "cell_type": "markdown",
   "id": "e7199b5e-9c8d-4bda-890e-90351857caa4",
   "metadata": {},
   "source": [
    "Un parámetro puede tener diferentes valores, representa una variable dentro de la función:"
   ]
  },
  {
   "cell_type": "code",
   "execution_count": null,
   "id": "9b064ffc-6833-40e6-906d-a8c278c3f05b",
   "metadata": {},
   "outputs": [],
   "source": [
    "tipo = \"ignea\""
   ]
  },
  {
   "cell_type": "code",
   "execution_count": null,
   "id": "c3dbff8f-9592-4587-b34b-dda16fd70fe9",
   "metadata": {},
   "outputs": [],
   "source": [
    "clasificacion(tipo)"
   ]
  },
  {
   "cell_type": "markdown",
   "id": "68175e72-3b95-4208-9331-8f3ed3aa2009",
   "metadata": {},
   "source": [
    "También podemos llamar la función usando el string directamente:"
   ]
  },
  {
   "cell_type": "code",
   "execution_count": null,
   "id": "efdd5d27-2dcc-4001-a761-1e26dc6714c4",
   "metadata": {},
   "outputs": [],
   "source": [
    "clasificacion(\"metamorfica\")"
   ]
  },
  {
   "cell_type": "markdown",
   "id": "28e54962-e6c8-4b6f-8a4a-7418ed5357e3",
   "metadata": {},
   "source": [
    "O también, señalando el valor del parámetro:"
   ]
  },
  {
   "cell_type": "code",
   "execution_count": null,
   "id": "606ba878-cbc1-4140-a331-4fec31482693",
   "metadata": {},
   "outputs": [],
   "source": [
    "clasificacion(tipo=\"ignea\")"
   ]
  },
  {
   "cell_type": "code",
   "execution_count": null,
   "id": "91ad29b4-0a54-4433-888e-33ad11e54d84",
   "metadata": {},
   "outputs": [],
   "source": [
    "clasificacion(tipo=tipo)"
   ]
  },
  {
   "cell_type": "markdown",
   "id": "37205c30-f656-4876-92c1-306a401f6a8e",
   "metadata": {},
   "source": [
    "Ahora que tenemos una mejor idea acerca de las funciones, crearemos una función llamada `normalizar`.\\\n",
    "Usando 3 números como **parámetros**, la función normalizará estos valores con la finalidad de que su suma sea igual a 1.\\\n",
    "Por último, la función devolverá una tupla conteniendo los 3 números normalizados:"
   ]
  },
  {
   "cell_type": "code",
   "execution_count": null,
   "id": "7c168ff7-a71e-443d-a74b-36b00253ee34",
   "metadata": {},
   "outputs": [],
   "source": [
    "def normalizar(a, b, c):\n",
    "    suma = a + b + c\n",
    "    a /= suma\n",
    "    b /= suma\n",
    "    c /= suma\n",
    "    return (a, b, c)"
   ]
  },
  {
   "cell_type": "markdown",
   "id": "8b62efea-e159-4b10-9be0-e1ebca6b8fc4",
   "metadata": {},
   "source": [
    "Usaremos los valores 1, 5 y 10:"
   ]
  },
  {
   "cell_type": "code",
   "execution_count": null,
   "id": "f806c68e-07f8-43ef-8d2c-c0a8767a1328",
   "metadata": {},
   "outputs": [],
   "source": [
    "normalizar(1, 5, 10)"
   ]
  },
  {
   "cell_type": "markdown",
   "id": "a171c4e1-2e3b-466c-9c69-def11c24af7e",
   "metadata": {},
   "source": [
    "### **9.1. La función lambda**\n",
    "\n",
    "Si queremos definir una función breve y que solo será usada una sola vez, podemos usar la función `lambda`.\\\n",
    "Por ejemplo, definiremos la sumatoria de los **n** primeros números naturales y la asignaremos a la variable `sumatoria`:"
   ]
  },
  {
   "cell_type": "code",
   "execution_count": null,
   "id": "2fdd41fa-52e4-4b3e-b5cd-d778f2f4becd",
   "metadata": {},
   "outputs": [],
   "source": [
    "sumatoria = lambda n: n*(n + 1)/2"
   ]
  },
  {
   "cell_type": "markdown",
   "id": "20da0845-c764-4776-bca4-3a4a75e2fbef",
   "metadata": {},
   "source": [
    "Ahora, calcularemos la suma de los **20** primeros números naturales:"
   ]
  },
  {
   "cell_type": "code",
   "execution_count": null,
   "id": "21b99e96-7d42-4fa3-82c5-02b667d2f8f5",
   "metadata": {},
   "outputs": [],
   "source": [
    "sumatoria(20)"
   ]
  },
  {
   "cell_type": "markdown",
   "id": "0bed6a30-2a23-4f23-9485-baec27912fa6",
   "metadata": {},
   "source": [
    "### **9.2. Las funciones filter y map**\n",
    "\n",
    "Tenemos una lista con las concentraciones de Au de unas muestras en ppm:"
   ]
  },
  {
   "cell_type": "code",
   "execution_count": null,
   "id": "bb137c84-60c5-463e-b8ea-5c92fdfe225b",
   "metadata": {},
   "outputs": [],
   "source": [
    "au = [3, 10, 5, 6, 8, 15, 24, 4, 2, 12, 7, 7, 5, 11, 21, 9, 10]"
   ]
  },
  {
   "cell_type": "markdown",
   "id": "ff7f9465-8411-4d2b-aef8-02f523ed552e",
   "metadata": {},
   "source": [
    "Para crear una lista con aquellas concentraciones de Au mayores a 10 ppm, usaremos la función `filter`:"
   ]
  },
  {
   "cell_type": "code",
   "execution_count": null,
   "id": "4e941daa-6ccf-414b-9942-2bf83de10ffb",
   "metadata": {},
   "outputs": [],
   "source": [
    "filter(lambda x: x > 10, au)"
   ]
  },
  {
   "cell_type": "markdown",
   "id": "1a26c103-b57f-429b-8fb4-a1b3938020fe",
   "metadata": {},
   "source": [
    "Notamos que al usar la función `filter` obtenemos un generador.\n",
    "> **¿Qué es un generador en Python?** \\\n",
    "> Un generador es una función que te permite crear una secuencia de valores definidos.\\\n",
    "> Para obtener los valores dentro de este generador podemos usar un bucle o una lista.\\\n",
    "> La función `range` es también un generador.\n",
    "\n",
    "Para este caso, almacenaremos los valores de `filter` en una lista:"
   ]
  },
  {
   "cell_type": "code",
   "execution_count": null,
   "id": "a898236a-9de9-4a0d-8fd3-8bcdfc02fe50",
   "metadata": {},
   "outputs": [],
   "source": [
    "list(filter(lambda x: x > 10, au))"
   ]
  },
  {
   "cell_type": "markdown",
   "id": "f0e6cb9d-dc1d-4adf-9ccc-1611569b0145",
   "metadata": {},
   "source": [
    "Ahora, clasificaremos la lista de acuerdo a sus valores, `\"bajo\"` si es menor o igual a 10 ppm y `\"alto\"` si es mayor.\\\n",
    "Para esto, usaremos la función `map` y asignaremos la nueva lista a una variable llamada `valores`.\n",
    "> La función `map` también devuelve un generador, por lo tanto, obtendremos sus valores a través de una lista."
   ]
  },
  {
   "cell_type": "code",
   "execution_count": null,
   "id": "864ac499-7012-4ec0-b1a5-8ff79735eea1",
   "metadata": {},
   "outputs": [],
   "source": [
    "valores = list(map(lambda x: \"alto\" if x > 10 else \"bajo\", au))"
   ]
  },
  {
   "cell_type": "code",
   "execution_count": null,
   "id": "8880bfa6-601c-46a6-a997-2c1943dfd20f",
   "metadata": {},
   "outputs": [],
   "source": [
    "print(valores)"
   ]
  },
  {
   "cell_type": "markdown",
   "id": "200d4c55-a1ae-4634-9a58-ddc92a4bbd86",
   "metadata": {},
   "source": [
    "Por último, para obtener el número de valores altos y bajos, usaremos el método `count`.\n",
    "> Nota: `count` solo se puede aplicar a listas y tuplas."
   ]
  },
  {
   "cell_type": "code",
   "execution_count": null,
   "id": "5624c86b-b7fe-4d5b-9c31-3b0663f758ec",
   "metadata": {},
   "outputs": [],
   "source": [
    "valores.count(\"bajo\")"
   ]
  },
  {
   "cell_type": "code",
   "execution_count": null,
   "id": "4cdcb303-b390-4514-bc0b-fbdd419ba38b",
   "metadata": {},
   "outputs": [],
   "source": [
    "valores.count(\"alto\")"
   ]
  },
  {
   "cell_type": "markdown",
   "id": "db32f6ae-552e-4bbb-8fbe-4cc215e30ca9",
   "metadata": {},
   "source": [
    "***"
   ]
  },
  {
   "cell_type": "markdown",
   "id": "4f4a8bc3-2c5c-4c5d-8038-e96dbba8798e",
   "metadata": {},
   "source": [
    "<a id=\"parte10\"></a>"
   ]
  },
  {
   "cell_type": "markdown",
   "id": "72420ad4-019f-48bd-9f77-30a829b5097c",
   "metadata": {},
   "source": [
    "## **10. Clases y objetos**\n",
    "***\n",
    "\n",
    "**Python es un lenguaje de programación orientado a objetos.**\n",
    "\n",
    "Un **objeto** es una colección de datos y funciones que representa una entidad de la vida real. Cada objeto pertenece a una **clase**.\\\n",
    "Todo dentro de Python es tratado como un objeto: variables, funciones, listas, tuplas, diccionarios, etc.\\\n",
    "La palabra reservada usada para crear una clase es `class`.\n",
    "\n",
    "Por ejemplo, crearemos una clase que represente a una roca: \n",
    "> Por convención, el nombre de una clase debe empezar con mayúscula."
   ]
  },
  {
   "cell_type": "code",
   "execution_count": null,
   "id": "15973e8e-d462-4b1f-a84d-729ed2f23731",
   "metadata": {},
   "outputs": [],
   "source": [
    "class Roca:\n",
    "    def __init__(self):\n",
    "        print(\"Has creado una roca dentro de Python!!\")"
   ]
  },
  {
   "cell_type": "markdown",
   "id": "d5f9b95f-9fe3-4c7f-952a-1ec30ef4ecfd",
   "metadata": {},
   "source": [
    "La función `__init__` representa el estado inicial del objeto, se ejecuta al mismo tiempo que el objeto es creado.\\\n",
    "El parámetro `self` es una referencia del mismo objeto y se usa para establecer los métodos y atributos de la clase creada.\n",
    "\n",
    "> Un **método** es una función específica creada dentro de una clase.\\\n",
    "> Un **atributo** es un valor específico almacenado dentro de una clase.\n",
    "\n",
    "Crearemos una instancia de la clase `Roca`:"
   ]
  },
  {
   "cell_type": "code",
   "execution_count": null,
   "id": "aa089841-bf81-4dab-88b8-5a922433ccba",
   "metadata": {},
   "outputs": [],
   "source": [
    "roca = Roca()"
   ]
  },
  {
   "cell_type": "markdown",
   "id": "955e7589-031a-4f0c-8541-0316064fb632",
   "metadata": {},
   "source": [
    "Ahora agregaremos algunos atributos:"
   ]
  },
  {
   "cell_type": "code",
   "execution_count": null,
   "id": "3fe868a2-9189-4fc3-8490-85ec1a1a8552",
   "metadata": {},
   "outputs": [],
   "source": [
    "class Roca:\n",
    "    def __init__(self, nombre, textura):\n",
    "        self.nombre = nombre\n",
    "        self.textura = textura\n",
    "        print(\"Has creado una roca dentro de Python!!\")"
   ]
  },
  {
   "cell_type": "markdown",
   "id": "b2fc5e33-faed-416c-9083-344d809a0ae3",
   "metadata": {},
   "source": [
    "Y crearemos una nueva instancia:"
   ]
  },
  {
   "cell_type": "code",
   "execution_count": null,
   "id": "333cb6d1-ef49-40b4-8925-d09076c7c924",
   "metadata": {},
   "outputs": [],
   "source": [
    "roca = Roca(\"andesita\", \"afanítica\")"
   ]
  },
  {
   "cell_type": "markdown",
   "id": "9eed2730-6648-4d87-8561-f5ab37711be4",
   "metadata": {},
   "source": [
    "Ahora podemos observar sus atributos:"
   ]
  },
  {
   "cell_type": "code",
   "execution_count": null,
   "id": "259a012a-c504-41b6-b07f-9448583dc1b9",
   "metadata": {},
   "outputs": [],
   "source": [
    "roca.nombre"
   ]
  },
  {
   "cell_type": "code",
   "execution_count": null,
   "id": "a07f9cc9-b7bf-479b-b0b0-bab333200b8e",
   "metadata": {},
   "outputs": [],
   "source": [
    "roca.textura"
   ]
  },
  {
   "cell_type": "markdown",
   "id": "45e9d3c0-49a0-4876-ac3c-dfb353708da8",
   "metadata": {},
   "source": [
    "Por último, crearemos un método llamado `resumen` que resuma los atributos de la roca en una frase:"
   ]
  },
  {
   "cell_type": "code",
   "execution_count": null,
   "id": "48d0df54-e613-474d-8064-20ed829372c1",
   "metadata": {},
   "outputs": [],
   "source": [
    "class Roca:\n",
    "    def __init__(self, nombre, textura):\n",
    "        self.nombre = nombre\n",
    "        self.textura = textura\n",
    "        print(\"Has creado una roca dentro de Python!!\")\n",
    "    def resumen(self):\n",
    "        print(f\"La roca es una {self.nombre} de textura {self.textura}.\")"
   ]
  },
  {
   "cell_type": "markdown",
   "id": "ec877054-d57a-4bfb-a997-9b0f3a7fef7d",
   "metadata": {},
   "source": [
    "Volvemos a crear la instancia:"
   ]
  },
  {
   "cell_type": "code",
   "execution_count": null,
   "id": "b3803066-a8b0-4966-9de7-4342adbc0d01",
   "metadata": {},
   "outputs": [],
   "source": [
    "roca = Roca(\"andesita\", \"afanítica\")"
   ]
  },
  {
   "cell_type": "markdown",
   "id": "2e1b0405-0b02-46d0-870d-07983b600bc4",
   "metadata": {},
   "source": [
    "Y usaremos el método para observar el resumen:"
   ]
  },
  {
   "cell_type": "code",
   "execution_count": null,
   "id": "1da297a0-2428-4ec0-a6d5-a016afcecbca",
   "metadata": {},
   "outputs": [],
   "source": [
    "roca.resumen()"
   ]
  },
  {
   "cell_type": "markdown",
   "id": "0439ed66-621e-40c5-8ba4-0d8e76b737ec",
   "metadata": {},
   "source": [
    "***"
   ]
  }
 ],
 "metadata": {
  "kernelspec": {
   "display_name": "Python 3 (ipykernel)",
   "language": "python",
   "name": "python3"
  },
  "language_info": {
   "codemirror_mode": {
    "name": "ipython",
    "version": 3
   },
   "file_extension": ".py",
   "mimetype": "text/x-python",
   "name": "python",
   "nbconvert_exporter": "python",
   "pygments_lexer": "ipython3",
   "version": "3.8.10"
  }
 },
 "nbformat": 4,
 "nbformat_minor": 5
}
