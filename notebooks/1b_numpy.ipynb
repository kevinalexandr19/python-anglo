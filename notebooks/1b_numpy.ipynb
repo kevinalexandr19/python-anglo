{
 "cells": [
  {
   "cell_type": "markdown",
   "id": "77a66736-7cf5-477b-91d2-1a266481a78c",
   "metadata": {},
   "source": [
    "# <span style=\"color:gold\">**Numpy**</span>\n",
    "***\n",
    "\n",
    "### **Editado por: Kevin Alexander Gómez**\n",
    "#### Contacto: kevinalexandr19@gmail.com | [Linkedin](https://www.linkedin.com/in/kevin-alexander-g%C3%B3mez-2b0263111/) | [Github](https://github.com/kevinalexandr19)\n",
    "***"
   ]
  },
  {
   "cell_type": "markdown",
   "id": "30c714a6-ea2e-4669-83a0-ab7b2ac25458",
   "metadata": {},
   "source": [
    "### **Descripción**\n",
    "\n",
    "En este tutorial, le daremos un vistazo a <span style=\"color:gold\">Numpy</span>, la librería de álgebra lineal y matemática en Python.\n",
    "\n",
    "Este Notebook es parte del proyecto [**Python para Geólogos**](https://github.com/kevinalexandr19/manual-python-geologia), y ha sido creado con la finalidad de facilitar el aprendizaje en Python para estudiantes y profesionales en el campo de la Geología.\n",
    "***"
   ]
  },
  {
   "cell_type": "markdown",
   "id": "36658d22-5688-4bd0-9a07-39ffa51f7146",
   "metadata": {},
   "source": [
    "## **1. ¿Qué es Numpy?**\n",
    "***\n",
    "Numpy (abreviación de `Numeric Python`) es un paquete fundamental para computación científica en Python a través del uso de objetos en arreglos multidimensionales.\\\n",
    "Contiene herramientas para álgebra lineal, matemática, variables aleatorias y estadística básica.\n",
    "\n",
    "### **1.1. ¿Cómo usar Numpy?**\n",
    "La base de Numpy es el `ndarray`, también nos podemos referir a este objeto como un **arreglo**.\\\n",
    "Los arreglos agrupan datos homogéneos en una o más dimensiones, tienen un tamaño fijo, y son más rápidos y eficientes en comparación a las listas o tuplas.\n",
    "\n",
    "Una de las ventajas más importantes de Numpy es el `broadcast`, que consiste en la habilidad de procesar arreglos de diferente tamaño como si todos tuvieran el mismo tamaño.\n",
    "\n",
    "Podemos considerar que un **vector** es un arreglo de 1 dimensión, mientras que una **matriz** es un arreglo de 2 dimensiones."
   ]
  },
  {
   "cell_type": "markdown",
   "id": "e3d87377-5d94-45f7-bd1a-58d8bce190da",
   "metadata": {},
   "source": [
    "Para usar Numpy dentro de Python, debemos importar la librería con el mismo nombre: \n",
    "> Usaremos `np` como una referencia abreviada de la librería.\\\n",
    "> Para usar una función de Numpy, debemos anteponer su referencia (ejemplo: la función `np.log` calcula el logaritmo de un número)."
   ]
  },
  {
   "cell_type": "code",
   "execution_count": null,
   "id": "e688b732-640b-44bb-9ae4-0363494e3b67",
   "metadata": {},
   "outputs": [],
   "source": [
    "import numpy as np"
   ]
  },
  {
   "cell_type": "markdown",
   "id": "99b1a91f-163a-4586-830a-c11d541793d1",
   "metadata": {},
   "source": [
    "## **2. Vectores**\n",
    "***\n",
    "Usaremos la función `array` para crear un vector:"
   ]
  },
  {
   "cell_type": "code",
   "execution_count": null,
   "id": "b02aa9cd-b5b0-4fd4-8b2b-156570ebc3d4",
   "metadata": {},
   "outputs": [],
   "source": [
    "vector = np.array([0, 1, 2, 3, 4, 5])"
   ]
  },
  {
   "cell_type": "code",
   "execution_count": null,
   "id": "f47efa59-d89f-49de-9a83-4b8b2719589f",
   "metadata": {},
   "outputs": [],
   "source": [
    "print(vector)"
   ]
  },
  {
   "cell_type": "markdown",
   "id": "2370264e-0004-48df-8ca4-bd7966b8eda3",
   "metadata": {},
   "source": [
    "Este **vector** contiene el mismo tipo de información en cada posición. Lo verificamos usando el atributo `dtype`:"
   ]
  },
  {
   "cell_type": "code",
   "execution_count": null,
   "id": "f3e4ecc1-2759-4f33-b663-a0e5af178ce9",
   "metadata": {},
   "outputs": [],
   "source": [
    "vector.dtype"
   ]
  },
  {
   "cell_type": "markdown",
   "id": "50f5a096-33e6-4cf8-906f-887b6466f5a0",
   "metadata": {},
   "source": [
    "Para transformar los valores del vector de **integer** a **float**, usaremos la función `astype`:"
   ]
  },
  {
   "cell_type": "code",
   "execution_count": null,
   "id": "98bef0bf-8dde-4d89-8f68-4c2d20e94b3c",
   "metadata": {},
   "outputs": [],
   "source": [
    "vector.astype(float)"
   ]
  },
  {
   "cell_type": "markdown",
   "id": "faa39e1c-c7fa-46e7-8162-b5d1d7ad3026",
   "metadata": {},
   "source": [
    "De manera similar a una lista o tupla, podemos seleccionar partes de un arreglo haciendo **slicing**:"
   ]
  },
  {
   "cell_type": "code",
   "execution_count": null,
   "id": "e8b855fa-66c3-4889-990b-938d27ad2dc7",
   "metadata": {},
   "outputs": [],
   "source": [
    "# Primer elemento\n",
    "vector[0]"
   ]
  },
  {
   "cell_type": "code",
   "execution_count": null,
   "id": "e52282fc-62e8-4e5b-9b2e-29f168db63ac",
   "metadata": {},
   "outputs": [],
   "source": [
    "# Del tercer al quinto elemento\n",
    "vector[2:5]"
   ]
  },
  {
   "cell_type": "markdown",
   "id": "37bb6848-5aee-4dad-aa08-7de9a1c9ab5d",
   "metadata": {},
   "source": [
    "También podemos reemplazar valores dentro del vector:"
   ]
  },
  {
   "cell_type": "code",
   "execution_count": null,
   "id": "51239926-94d1-4f1c-88a6-f33298abf879",
   "metadata": {},
   "outputs": [],
   "source": [
    "vector[-1] = 10"
   ]
  },
  {
   "cell_type": "code",
   "execution_count": null,
   "id": "3adedbcf-c7c6-4162-93dd-c2831c4228fc",
   "metadata": {},
   "outputs": [],
   "source": [
    "vector"
   ]
  },
  {
   "cell_type": "markdown",
   "id": "c4f83ffb-138a-4135-884e-e32ad8712239",
   "metadata": {},
   "source": [
    "Podemos crear una copia del arreglo usando el método `copy`:"
   ]
  },
  {
   "cell_type": "code",
   "execution_count": null,
   "id": "828811fd-087b-40eb-8162-a254b8f2fe77",
   "metadata": {},
   "outputs": [],
   "source": [
    "copia = vector.copy()"
   ]
  },
  {
   "cell_type": "markdown",
   "id": "d7db24d1-57b8-4ecd-85b4-52069ae42309",
   "metadata": {},
   "source": [
    "De esta forma, si modificamos un valor de la copia, el original permanecerá igual:"
   ]
  },
  {
   "cell_type": "code",
   "execution_count": null,
   "id": "c310ce12-583e-4e5d-8ba8-bbd724e56e84",
   "metadata": {},
   "outputs": [],
   "source": [
    "copia[0] = -1"
   ]
  },
  {
   "cell_type": "code",
   "execution_count": null,
   "id": "b9626a65-4161-4a0b-bc66-46d0239e707d",
   "metadata": {},
   "outputs": [],
   "source": [
    "print(vector)\n",
    "print(copia)"
   ]
  },
  {
   "cell_type": "markdown",
   "id": "4da8818b-a5a9-4d4a-b7bd-9a8f521df924",
   "metadata": {},
   "source": [
    "Podemos ordenar los elementos en un arreglo con `sort`:"
   ]
  },
  {
   "cell_type": "code",
   "execution_count": null,
   "id": "deadafa6-81c3-48ff-80ee-91655d0a5258",
   "metadata": {},
   "outputs": [],
   "source": [
    "x = np.array([3, 1, 4, 6, 2, 5, 0])"
   ]
  },
  {
   "cell_type": "code",
   "execution_count": null,
   "id": "9f3ffbf0-43ab-4dee-b3f2-6ff967ffa894",
   "metadata": {},
   "outputs": [],
   "source": [
    "np.sort(x)"
   ]
  },
  {
   "cell_type": "markdown",
   "id": "999a39b3-bc94-4817-9fdd-7cee078bc68a",
   "metadata": {},
   "source": [
    "## **3. Matrices**\n",
    "***\n",
    "Usaremos la función `array` y una **lista de listas** para crear una matriz:"
   ]
  },
  {
   "cell_type": "code",
   "execution_count": null,
   "id": "c91cabc1-9936-4fa3-afd7-541235b88e6b",
   "metadata": {},
   "outputs": [],
   "source": [
    "matriz = np.array([[1, 2, 3], [4, 5, 6], [7, 8, 9]])"
   ]
  },
  {
   "cell_type": "code",
   "execution_count": null,
   "id": "e5637a3b-aa7b-4e90-9f89-e01f6d881083",
   "metadata": {},
   "outputs": [],
   "source": [
    "print(matriz)"
   ]
  },
  {
   "cell_type": "markdown",
   "id": "3855099d-82bc-4999-8e52-7fb9f7ccb0fe",
   "metadata": {},
   "source": [
    "Para obtener el número de dimensiones, usaremos el atributo `ndim`:"
   ]
  },
  {
   "cell_type": "code",
   "execution_count": null,
   "id": "aaba813f-1ee0-4453-aed3-af257f1d2846",
   "metadata": {},
   "outputs": [],
   "source": [
    "matriz.ndim"
   ]
  },
  {
   "cell_type": "markdown",
   "id": "8e495953-386c-486f-8f0d-820017250ace",
   "metadata": {},
   "source": [
    "Para obtener el número de elementos en un arreglo, usaremos el atributo `size`:"
   ]
  },
  {
   "cell_type": "code",
   "execution_count": null,
   "id": "fa2b1261-608b-4a73-b127-ed464fb5fd8d",
   "metadata": {},
   "outputs": [],
   "source": [
    "matriz.size"
   ]
  },
  {
   "cell_type": "markdown",
   "id": "2289e4e1-c66b-434a-bcb5-07613358944e",
   "metadata": {},
   "source": [
    "Para obtener la forma de un arreglo, usaremos el atributo `shape`:"
   ]
  },
  {
   "cell_type": "code",
   "execution_count": null,
   "id": "48ebfd19-cdde-4b4e-922d-ab1c40faa59f",
   "metadata": {},
   "outputs": [],
   "source": [
    "matriz.shape"
   ]
  },
  {
   "cell_type": "markdown",
   "id": "bf7de75f-bc81-4d1c-a5e3-bf466ea43d0d",
   "metadata": {},
   "source": [
    "Para hacer **slicing** a una matriz, debemos señalar la posición de la fila y columna en el siguiente orden: `arreglo[fila, columna]`"
   ]
  },
  {
   "cell_type": "code",
   "execution_count": null,
   "id": "2b4433bc-95cf-4199-b0c6-e4dcf411348a",
   "metadata": {},
   "outputs": [],
   "source": [
    "# Primera fila, primera columna\n",
    "matriz[0, 0]"
   ]
  },
  {
   "cell_type": "code",
   "execution_count": null,
   "id": "593b7a2c-8fb8-4c1f-9d43-749a2132ab2e",
   "metadata": {},
   "outputs": [],
   "source": [
    "# Primera fila, todas las columnas\n",
    "matriz[0, :]"
   ]
  },
  {
   "cell_type": "code",
   "execution_count": null,
   "id": "2f08f283-d58a-4563-8359-4860e8104cba",
   "metadata": {},
   "outputs": [],
   "source": [
    "# A partir de la segunda fila, escoge todas las columnas\n",
    "matriz[1:, :]"
   ]
  },
  {
   "cell_type": "markdown",
   "id": "45302252-035d-4ce9-b8e9-b3f4d202119e",
   "metadata": {},
   "source": [
    "Podemos usar el método `reshape` para cambiar la forma del arreglo:"
   ]
  },
  {
   "cell_type": "code",
   "execution_count": null,
   "id": "20522e1d-01b6-4916-9c8c-64b76755c27e",
   "metadata": {},
   "outputs": [],
   "source": [
    "matriz.reshape((1, 9))"
   ]
  },
  {
   "cell_type": "markdown",
   "id": "f48fc26c-630a-4263-810d-2ef2a03f6102",
   "metadata": {},
   "source": [
    "La transpuesta de una matriz se calcula usando el atributo `T`:"
   ]
  },
  {
   "cell_type": "code",
   "execution_count": null,
   "id": "14bc79aa-9ddf-4fb6-bfa4-949413a93a63",
   "metadata": {},
   "outputs": [],
   "source": [
    "print(matriz.T)"
   ]
  },
  {
   "cell_type": "markdown",
   "id": "dce619a6-612c-4ecc-8c14-aacaa0580658",
   "metadata": {},
   "source": [
    "Para reordenar los elementos de una matriz en un solo vector, podemos utilizar la función `flatten`:"
   ]
  },
  {
   "cell_type": "code",
   "execution_count": null,
   "id": "84c0b3f5-e309-4fe5-9ba4-2d230781242b",
   "metadata": {},
   "outputs": [],
   "source": [
    "matriz.flatten()"
   ]
  },
  {
   "cell_type": "markdown",
   "id": "a125fe9f-8f93-4a30-9526-24c3bc9e4050",
   "metadata": {},
   "source": [
    "Para el siguiente ejemplo, tenemos dos matrices de 2 x 2, llamadas A y B:"
   ]
  },
  {
   "cell_type": "code",
   "execution_count": null,
   "id": "09ac809f-e691-481e-a93a-cc2410f9581c",
   "metadata": {},
   "outputs": [],
   "source": [
    "A = np.array([[1, 1], [1, 1]])\n",
    "B = np.array([[-1, 0], [0, -1]])"
   ]
  },
  {
   "cell_type": "code",
   "execution_count": null,
   "id": "4d808a22-62d3-4ed2-af44-52415ad1a981",
   "metadata": {},
   "outputs": [],
   "source": [
    "print(A)"
   ]
  },
  {
   "cell_type": "code",
   "execution_count": null,
   "id": "814c637f-8662-4a30-96c5-8f8f9936705d",
   "metadata": {},
   "outputs": [],
   "source": [
    "print(B)"
   ]
  },
  {
   "cell_type": "markdown",
   "id": "2bc67d2a-1a6a-454b-b731-81406380fd62",
   "metadata": {},
   "source": [
    "Podemos agrupar las matrices horizontalmente usando la función `hstack`:"
   ]
  },
  {
   "cell_type": "code",
   "execution_count": null,
   "id": "774f9f15-eae8-41bf-8b34-026d03a1c37c",
   "metadata": {},
   "outputs": [],
   "source": [
    "np.hstack([A, B])"
   ]
  },
  {
   "cell_type": "markdown",
   "id": "c839d385-c015-4040-857b-abd3e80669bc",
   "metadata": {},
   "source": [
    "O verticalmente usando `vstack`:"
   ]
  },
  {
   "cell_type": "code",
   "execution_count": null,
   "id": "51bc7935-703f-4b68-9712-04bada04e3fd",
   "metadata": {},
   "outputs": [],
   "source": [
    "np.vstack([A, B])"
   ]
  },
  {
   "cell_type": "markdown",
   "id": "65d13935-a1e7-459e-a4a3-1e4dc54d21c2",
   "metadata": {},
   "source": [
    "También podemos usar la función `concatenate` para agruparlos de acuerdo a un eje (0 para vertical y 1 para horizontal)."
   ]
  },
  {
   "cell_type": "code",
   "execution_count": null,
   "id": "c532c4a2-f8f7-4f79-9b7d-b776796d3d58",
   "metadata": {},
   "outputs": [],
   "source": [
    "np.concatenate([A, B], axis=0)"
   ]
  },
  {
   "cell_type": "code",
   "execution_count": null,
   "id": "b105baba-3971-4a88-8743-a93851c261e5",
   "metadata": {},
   "outputs": [],
   "source": [
    "np.concatenate([A, B], axis=1)"
   ]
  },
  {
   "cell_type": "markdown",
   "id": "7b65dbe9-2d2c-4042-8a51-eff104cc2803",
   "metadata": {},
   "source": [
    "Podemos crear matrices de valores 0 o 1 con las funciones `zeros` y `ones` respectivamente:"
   ]
  },
  {
   "cell_type": "code",
   "execution_count": null,
   "id": "e48ae3e4-b110-4d1c-b5da-2c02f111e1fb",
   "metadata": {},
   "outputs": [],
   "source": [
    "np.zeros(shape=(3, 3))"
   ]
  },
  {
   "cell_type": "code",
   "execution_count": null,
   "id": "6311485c-1a8b-4d7b-bf6d-8b4e79f49643",
   "metadata": {},
   "outputs": [],
   "source": [
    "np.ones(shape=(3, 3))"
   ]
  },
  {
   "cell_type": "markdown",
   "id": "caf25ba6-ebd7-4acb-b828-e010b5f39f6a",
   "metadata": {},
   "source": [
    "## **4. Álgebra lineal en Numpy**\n",
    "***\n",
    "Tenemos dos vectores $v_{1}$ y $v_{2}$:"
   ]
  },
  {
   "cell_type": "code",
   "execution_count": null,
   "id": "610adabe-d5a1-4576-9ae6-19703acfc545",
   "metadata": {},
   "outputs": [],
   "source": [
    "v1 = np.array([1, 2, 3, 4])\n",
    "v2 = np.array([5, 6, 7, 8])"
   ]
  },
  {
   "cell_type": "markdown",
   "id": "b5086da9-3696-4f82-b74d-a0ed9607b48e",
   "metadata": {},
   "source": [
    "Podemos sumar y restar los vectores:"
   ]
  },
  {
   "cell_type": "code",
   "execution_count": null,
   "id": "ef547207-39d1-4c75-8083-7293faf8d10a",
   "metadata": {},
   "outputs": [],
   "source": [
    "print(v1 + v2)"
   ]
  },
  {
   "cell_type": "code",
   "execution_count": null,
   "id": "5b3efb2e-fe9e-4816-aaef-8e3d409325c0",
   "metadata": {},
   "outputs": [],
   "source": [
    "print(v1 - v2)"
   ]
  },
  {
   "cell_type": "markdown",
   "id": "64aa1a15-e778-4d5f-903e-7b7b25bee0f0",
   "metadata": {},
   "source": [
    "Multiplicar y dividirlos:"
   ]
  },
  {
   "cell_type": "code",
   "execution_count": null,
   "id": "aa286d3e-b338-45d9-a554-882ff838b1ef",
   "metadata": {},
   "outputs": [],
   "source": [
    "print(v1 * v2)"
   ]
  },
  {
   "cell_type": "code",
   "execution_count": null,
   "id": "9d81625a-dff7-4295-9fc4-91f7e443546e",
   "metadata": {},
   "outputs": [],
   "source": [
    "print(v1 / v2)"
   ]
  },
  {
   "cell_type": "markdown",
   "id": "4e7df69c-3f04-4f10-9103-f93539035393",
   "metadata": {},
   "source": [
    "Calcular el producto escalar:"
   ]
  },
  {
   "cell_type": "code",
   "execution_count": null,
   "id": "cbf1aa5d-57a4-4de7-a7a2-d81cc054194a",
   "metadata": {},
   "outputs": [],
   "source": [
    "np.dot(v1, v2)"
   ]
  },
  {
   "cell_type": "markdown",
   "id": "49f3db05-4d5f-4be1-832e-10ba8c19ec96",
   "metadata": {},
   "source": [
    "### **Arreglo de valores booleanos**\n",
    "Si establecemos una condición sobre un arreglo, obtenemos un arreglo de valores booleanos. A este tipo de arreglos se les conoce como **máscaras** o **mask** en inglés:"
   ]
  },
  {
   "cell_type": "code",
   "execution_count": null,
   "id": "f73ad90e-d086-4e7d-b95d-d848722a452e",
   "metadata": {},
   "outputs": [],
   "source": [
    "x = np.array([1, 2, 3, 4, 5])\n",
    "print(x)"
   ]
  },
  {
   "cell_type": "code",
   "execution_count": null,
   "id": "36d57be3-8b6a-48ad-821c-9ebe3e77779d",
   "metadata": {},
   "outputs": [],
   "source": [
    "mask = (x > 2)\n",
    "print(mask)"
   ]
  },
  {
   "cell_type": "markdown",
   "id": "1137e900-dcd8-4a43-874a-c54057c334b2",
   "metadata": {},
   "source": [
    "También podemos establecer condiciones y devolver resultados en base a estos usando la función `where`.\\\n",
    "Por ejemplo, reemplazaremos los valores de `x` mayores a 2 por el valor de 0 y los menores por el valor de 1:"
   ]
  },
  {
   "cell_type": "code",
   "execution_count": null,
   "id": "38969a2e-759e-4380-a4a0-cb6a43a68439",
   "metadata": {},
   "outputs": [],
   "source": [
    "np.where(x > 2, 0, 1)"
   ]
  },
  {
   "cell_type": "markdown",
   "id": "a8682d22-f742-4452-8e5c-6fc8cd587096",
   "metadata": {},
   "source": [
    "### **Funciones básicas para un arreglo**"
   ]
  },
  {
   "cell_type": "markdown",
   "id": "4b781a0f-0583-481a-b587-74f5a94b74df",
   "metadata": {},
   "source": [
    "También podemos calcular la suma de componentes, máximo, mínimo, media, varianza y desviación estándar de cada vector:"
   ]
  },
  {
   "cell_type": "code",
   "execution_count": null,
   "id": "6a57d1db-b5fc-4601-872c-c6e953e9d284",
   "metadata": {},
   "outputs": [],
   "source": [
    "print(v1)"
   ]
  },
  {
   "cell_type": "code",
   "execution_count": null,
   "id": "0a0f1cb5-5ada-4d06-80c0-003060a6347f",
   "metadata": {},
   "outputs": [],
   "source": [
    "v1.sum()"
   ]
  },
  {
   "cell_type": "code",
   "execution_count": null,
   "id": "5b566065-7de5-437f-8b75-7337506a16bb",
   "metadata": {},
   "outputs": [],
   "source": [
    "v1.max()"
   ]
  },
  {
   "cell_type": "code",
   "execution_count": null,
   "id": "0f15dd5d-8337-4ab3-8322-270ae775cace",
   "metadata": {},
   "outputs": [],
   "source": [
    "v1.min()"
   ]
  },
  {
   "cell_type": "code",
   "execution_count": null,
   "id": "cdea7ee2-78fd-44e3-a756-312e49337f4f",
   "metadata": {},
   "outputs": [],
   "source": [
    "v1.mean()"
   ]
  },
  {
   "cell_type": "code",
   "execution_count": null,
   "id": "b0116f9e-5137-425f-a3b0-476132196e3b",
   "metadata": {},
   "outputs": [],
   "source": [
    "v1.var()"
   ]
  },
  {
   "cell_type": "code",
   "execution_count": null,
   "id": "8f5f6f17-b52b-4487-a3c4-85e5c5616a79",
   "metadata": {},
   "outputs": [],
   "source": [
    "v1.std()"
   ]
  },
  {
   "cell_type": "markdown",
   "id": "8c10a778-2767-4816-812c-999fc22d09fc",
   "metadata": {},
   "source": [
    "### **Constantes**"
   ]
  },
  {
   "cell_type": "code",
   "execution_count": null,
   "id": "7a4f405c-b0ff-4eb3-af5d-33d02f78df60",
   "metadata": {},
   "outputs": [],
   "source": [
    "# Infinito\n",
    "np.inf"
   ]
  },
  {
   "cell_type": "code",
   "execution_count": null,
   "id": "b61ff788-1095-416f-b3e1-40459504c0d7",
   "metadata": {},
   "outputs": [],
   "source": [
    "# Valor nulo o vacío\n",
    "np.nan"
   ]
  },
  {
   "cell_type": "code",
   "execution_count": null,
   "id": "bba43835-d842-4d63-81ce-c33871d7f68a",
   "metadata": {},
   "outputs": [],
   "source": [
    "# Número de Euler\n",
    "np.e"
   ]
  },
  {
   "cell_type": "code",
   "execution_count": null,
   "id": "36e725b2-b20e-4813-a301-416120ae7133",
   "metadata": {},
   "outputs": [],
   "source": [
    "# Pi\n",
    "np.pi"
   ]
  },
  {
   "cell_type": "markdown",
   "id": "b4c6b8fd-b6e5-4de9-abdd-8450ad4393f7",
   "metadata": {},
   "source": [
    "### **Espacios lineales**\n",
    "\n",
    "Podemos crear espacios lineales usando la función `arange`:"
   ]
  },
  {
   "cell_type": "code",
   "execution_count": null,
   "id": "d9275062-8961-4748-bd4a-72630b306eea",
   "metadata": {},
   "outputs": [],
   "source": [
    "np.arange(1, 10, 1)"
   ]
  },
  {
   "cell_type": "markdown",
   "id": "1fe0734d-6330-4dac-ab47-d0fab1f34251",
   "metadata": {},
   "source": [
    "Y también usando `linspace`:"
   ]
  },
  {
   "cell_type": "code",
   "execution_count": null,
   "id": "0c26ca98-02af-4c52-8503-f7738e93bd69",
   "metadata": {},
   "outputs": [],
   "source": [
    "np.linspace(1, 10, 10)"
   ]
  },
  {
   "cell_type": "markdown",
   "id": "45125e00-919d-4258-b039-1a99e4957adb",
   "metadata": {},
   "source": [
    "### **Valores aleatorios**\n",
    "Podemos obtener valores aleatorios usando el módulo `random`. El resultado es un arreglo cuyo tamaño se indica como parámetro de la función.\\\n",
    "Para crear un **RNG (Random Number Generator)** que genera valores aleatorios, usaremos la función `default_rng`:"
   ]
  },
  {
   "cell_type": "code",
   "execution_count": null,
   "id": "17c22613-80aa-44cb-af48-8d474f41259a",
   "metadata": {},
   "outputs": [],
   "source": [
    "rng = np.random.default_rng()"
   ]
  },
  {
   "cell_type": "markdown",
   "id": "03ae1c61-0193-4a07-92da-377dcaee85b4",
   "metadata": {},
   "source": [
    "Por ejemplo, eligiremos un número aleatorio entre 0 y 1:"
   ]
  },
  {
   "cell_type": "code",
   "execution_count": null,
   "id": "cd0942a0-1dde-4398-8ee3-01c39f84fb87",
   "metadata": {},
   "outputs": [],
   "source": [
    "rng.random()"
   ]
  },
  {
   "cell_type": "markdown",
   "id": "c93fa31b-5f07-48a7-939b-a9372a5b6aa0",
   "metadata": {},
   "source": [
    "Un número aleatorio de una distribución uniforme entre 0 y 5:"
   ]
  },
  {
   "cell_type": "code",
   "execution_count": null,
   "id": "2ef441bd-dbd4-4b7d-ae39-d70ac0e40529",
   "metadata": {},
   "outputs": [],
   "source": [
    "rng.uniform(0, 5)"
   ]
  },
  {
   "cell_type": "markdown",
   "id": "e7fe0342-9bf1-4f0c-becb-1e04ad1d331a",
   "metadata": {},
   "source": [
    "Un número entero aleatorio entre 0 y 5:"
   ]
  },
  {
   "cell_type": "code",
   "execution_count": null,
   "id": "c179f425-e214-4daf-989f-87b06de8c8fd",
   "metadata": {},
   "outputs": [],
   "source": [
    "rng.integers(0, 5)"
   ]
  },
  {
   "cell_type": "markdown",
   "id": "74dd47c7-3612-4cb3-b790-2830312c33cc",
   "metadata": {},
   "source": [
    "Una matriz de tamaño 2 $\\times$ 2 compuesta por valores aleatorios de una distribución normal de media 0 y varianza 1"
   ]
  },
  {
   "cell_type": "code",
   "execution_count": null,
   "id": "86c638fd-09f8-402c-b431-42aa05eea37f",
   "metadata": {},
   "outputs": [],
   "source": [
    "rng.normal(size=(2, 2))"
   ]
  },
  {
   "cell_type": "markdown",
   "id": "59e0ac82-4549-4e90-b1b6-c0a298bc0029",
   "metadata": {},
   "source": [
    "### **Simulación de valores aleatorios**"
   ]
  },
  {
   "cell_type": "markdown",
   "id": "e5ab688d-1632-43c1-a9ad-97d42b8826db",
   "metadata": {},
   "source": [
    "Podemos crear conjuntos de datos aleatorios usando distribuciones aleatorias.\\\n",
    "Por ejemplo, crearemos 100 números aleatorios que se aproximen a la recta `y = 3x + 1`"
   ]
  },
  {
   "cell_type": "code",
   "execution_count": null,
   "id": "b304cdea-a90e-46da-855b-6074b5907cc7",
   "metadata": {},
   "outputs": [],
   "source": [
    "x = rng.normal(size=(10, 10))\n",
    "y = 3*x + rng.normal(size=(10, 10)) + 1"
   ]
  },
  {
   "cell_type": "markdown",
   "id": "66e63b8c-af84-4b20-a5af-c24b9cc15fc4",
   "metadata": {},
   "source": [
    "Usaremos `matplotlib` para graficar los datos:"
   ]
  },
  {
   "cell_type": "code",
   "execution_count": null,
   "id": "39bae9fc-7700-4a2b-b618-6d73539fddbd",
   "metadata": {},
   "outputs": [],
   "source": [
    "import matplotlib.pyplot as plt\n",
    "plt.scatter(x, y);"
   ]
  },
  {
   "cell_type": "markdown",
   "id": "d7f6be78-48ed-4af5-80b4-e41d20383bb9",
   "metadata": {},
   "source": [
    "### **Reproduciendo la aleatoriedad en Numpy**\n",
    "Podemos establecer un estado de aleatoriedad fijo a través del parámetro `seed`:"
   ]
  },
  {
   "cell_type": "code",
   "execution_count": null,
   "id": "8b36542a-3dba-4280-b96f-835a17288180",
   "metadata": {},
   "outputs": [],
   "source": [
    "rng = np.random.default_rng(seed=42)"
   ]
  },
  {
   "cell_type": "markdown",
   "id": "fa589b05-d7b7-41d0-9e95-08d5e9ae6e42",
   "metadata": {},
   "source": [
    "El primer resultado obtenido con la función `random` luego de establecer el estado aleatorio debe ser 0.7739560485559633:"
   ]
  },
  {
   "cell_type": "code",
   "execution_count": null,
   "id": "2d94c350-7785-4fcb-b525-b9e9ac7fe103",
   "metadata": {},
   "outputs": [],
   "source": [
    "rng.random()"
   ]
  },
  {
   "cell_type": "markdown",
   "id": "392d988d-ffc8-43dc-bc23-d28a5a45f6b3",
   "metadata": {},
   "source": [
    "De esta forma, nos aseguramos de que nuestro trabajo pueda ser reproducido por otras personas usando diferentes entornos."
   ]
  },
  {
   "cell_type": "markdown",
   "id": "55bc37ba-52a6-4249-88f6-91e6a97e18e4",
   "metadata": {},
   "source": [
    "### **Sobre la aleatoriedad**\n",
    "\n",
    "El módulo `random` de Numpy no genera valores verdaderamente aleatorios, por lo cual no puede ser usado en aplicaciones de ciberseguridad o criptografía.\\\n",
    "El uso principal de este módulo se encuentra en la **simulación** para computación científica."
   ]
  }
 ],
 "metadata": {
  "kernelspec": {
   "display_name": "Python 3 (ipykernel)",
   "language": "python",
   "name": "python3"
  },
  "language_info": {
   "codemirror_mode": {
    "name": "ipython",
    "version": 3
   },
   "file_extension": ".py",
   "mimetype": "text/x-python",
   "name": "python",
   "nbconvert_exporter": "python",
   "pygments_lexer": "ipython3",
   "version": "3.8.10"
  }
 },
 "nbformat": 4,
 "nbformat_minor": 5
}
