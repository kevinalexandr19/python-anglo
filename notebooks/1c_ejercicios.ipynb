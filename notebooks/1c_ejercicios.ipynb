{
 "cells": [
  {
   "cell_type": "markdown",
   "id": "da087cb8-c06f-4dd1-a6fb-7ee1c2295ae6",
   "metadata": {},
   "source": [
    "# <span style=\"color:gold\">**Ejercicios de Python para Geología**</span>\n",
    "***\n",
    "\n",
    "### **Editado por: Kevin Alexander Gómez**\n",
    "#### Contacto: kevinalexandr19@gmail.com | [Linkedin](https://www.linkedin.com/in/kevin-alexander-g%C3%B3mez-2b0263111/) | [Github](https://github.com/kevinalexandr19)\n",
    "***"
   ]
  },
  {
   "cell_type": "markdown",
   "id": "9dcd870e-a842-4e44-a989-555ddd1d1ce0",
   "metadata": {},
   "source": [
    "### **Descripción**\n",
    "\n",
    "En este documento encontrarás problemas de Geología cuya solución será desarrollada a través del uso de Python.\n",
    "\n",
    "Este Notebook es parte del proyecto [**Python para Geólogos**](https://github.com/kevinalexandr19/manual-python-geologia), y ha sido creado con la finalidad de facilitar el aprendizaje en Python para estudiantes y profesionales en el campo de la Geología.\n",
    "\n",
    "***"
   ]
  },
  {
   "cell_type": "markdown",
   "id": "e1c25fe9-f00e-4a4a-8cec-be8a7d20f2d0",
   "metadata": {},
   "source": [
    "### **1. Reporte de resultados en una mina**\n",
    "\n",
    "Una mina de Au obtuvo los siguientes resultados de producción para un determinado semestre:\n",
    "\n",
    "| Mes | Au (onzas) |\n",
    "| --- | --- |\n",
    "| Enero | 80 |\n",
    "| Febrero | 105 |\n",
    "| Marzo | 45 |\n",
    "| Abril | 80 |\n",
    "| Mayo | 75 |\n",
    "| Junio | 125 |\n",
    "\n",
    "Para obtener un reporte general de los resultados, se pide:\n",
    " - El total de onzas Au producidas en el semestre. Asignarlo a la variable `total`.\n",
    " - El costo de operación mensual de la mina fue de 40000 dólares. Asignarlo a la variable `costo_operacion`.\n",
    " - El precio de una onza de Au es de 1000 dólares. Asignarlo a la variable `precio`.\n",
    " - Usando estas tres variables, calcular la ganancia semestral de la mina asignándola a la variable `ganancia`.\n",
    " - Mostrar el resultado general usando la función `print`, usando el siguiente formato:\\\n",
    " `\"Durante el semestre, la mina produjo ___ onzas de Au con una ganancia total de ___ dólares\"`"
   ]
  },
  {
   "cell_type": "code",
   "execution_count": null,
   "id": "6ea317e4-7dc1-4eeb-8eea-f4eb43907da7",
   "metadata": {},
   "outputs": [],
   "source": []
  },
  {
   "cell_type": "markdown",
   "id": "bd1713d5-6145-477c-a162-a2d2b756413d",
   "metadata": {},
   "source": [
    "***\n",
    "### **2. Riesgo geológico en una edificación**\n",
    "¿Cuál es la probabilidad de que un edificio sufra un terremoto de magnitud 7 teniendo en cuenta que su vida útil es de 100 años, y el período de retorno del terremoto es de 500 años?. Usar la siguiente fórmula para el cálculo de la probabilidad de excedencia:\n",
    "\n",
    "<center> $\\Large p = 1 - (1 - \\frac{1}{T})^{t}$ </center>\n",
    "\n",
    "Donde:\n",
    "\n",
    "- $p$ : probabilidad de excedencia\n",
    "- $t$ : vida útil de la estructura\n",
    "- $T$ : período de retorno"
   ]
  },
  {
   "cell_type": "code",
   "execution_count": null,
   "id": "2f504959-903d-4beb-a0e5-3e2f987104e3",
   "metadata": {},
   "outputs": [],
   "source": []
  },
  {
   "cell_type": "markdown",
   "id": "ef8cc0f4-d7ab-46cf-8bff-2615662149a7",
   "metadata": {
    "tags": []
   },
   "source": [
    "***\n",
    "### **3. Mineralogía de una muestra de roca (Parte 1)**\n",
    "\n",
    "Una muestra de granodiorita tiene la siguiente composición mineralógica: cuarzo $(48\\%)$, plagioclasas $(27\\%)$, feldespato $(11\\%)$, biotita $(8\\%)$, pirita $(6\\%)$.\\\n",
    "Crear un diccionario en Python que guarde la mineralogía de la muestra, el porcentaje debe ser representado en fracción (ejemplo: 25% es igual a 0.25)."
   ]
  },
  {
   "cell_type": "code",
   "execution_count": null,
   "id": "635d9045-1ce0-413e-99ef-1c9203a15c43",
   "metadata": {},
   "outputs": [],
   "source": []
  },
  {
   "cell_type": "markdown",
   "id": "307ebd99-9696-48bc-ab49-f67f16f460dd",
   "metadata": {},
   "source": [
    "### **4. Mineralogía de una muestra de roca (Parte 2)**\n",
    "\n",
    "Usando el diccionario obtenido en el ejercicio **3**, crear un bucle definido que muestre el nombre y el porcentaje de cada mineral.\\\n",
    "Usar el siguiente formato: `Abundancia de ____ en la muestra: _____ %`\n",
    "> Nota: usar la función `print` para mostrar los resultados de cada mineral."
   ]
  },
  {
   "cell_type": "code",
   "execution_count": null,
   "id": "c8a333d2-575d-449e-953a-27c5434034ec",
   "metadata": {},
   "outputs": [],
   "source": []
  },
  {
   "cell_type": "markdown",
   "id": "62422aec-03a5-4905-9cfc-177ef81ceb71",
   "metadata": {},
   "source": [
    "***\n",
    "### **5. Normalización de porcentajes para clasificación petrográfica**\n",
    "\n",
    "Crear una función de nombre `streckeisen` con las siguientes características:\n",
    "- La función usará como parámetro de entrada a un **diccionario**.\n",
    "- La función tomará los porcentajes de `cuarzo`, `feldespato` y `plagioclasas` del diccionario y los normalizará.\n",
    "- La función debe devolver como resultado un diccionario conteniendo solamente los 3 minerales y sus respectivos porcentajes normalizados.\n",
    "\n",
    "Usar el diccionario del ejercicio **3** en la función y mostrar el resultado final."
   ]
  },
  {
   "cell_type": "code",
   "execution_count": null,
   "id": "2ca12420-e3ef-4753-bc60-d3d0d39764f4",
   "metadata": {},
   "outputs": [],
   "source": []
  },
  {
   "cell_type": "markdown",
   "id": "03f2caa8-20b3-49f7-a88e-8f8f7b1e98c4",
   "metadata": {},
   "source": [
    "### **6. Prueba de algoritmo**\n",
    "\n",
    "Usar la función `streckeisen` creada en el ejercicio **5** para normalizar una muestra con la siguiente mineralogía:\\\n",
    "Cuarzo $(41\\%)$, plagioclasas $(25\\%)$, anfíboles $(17\\%)$, biotita $(12\\%)$, pirita $(5\\%)$.\n",
    "> Nota:  en caso la función no evalúe la muestra de forma correcta o indique error, se deberá modificar la función hasta que pueda resolverla."
   ]
  },
  {
   "cell_type": "code",
   "execution_count": null,
   "id": "6f7ccf20-8d6f-486a-a4c5-71f010714e12",
   "metadata": {},
   "outputs": [],
   "source": []
  },
  {
   "cell_type": "markdown",
   "id": "bb0afb99-89c1-4b2b-a931-3d0a85edd9ab",
   "metadata": {},
   "source": [
    "***\n",
    "### **7. Propagación de ondas sísmicas**\n",
    "\n",
    "Un sismo fue detectado dentro de una estación de observación.\\\n",
    "La llegada de las ondas P se produjo a las 10h 23m 37s, mientras que a las 10h 24m 22s, se registraron las ondas S.\\\n",
    "Las velocidades estimadas de las ondas sísmisca fueron: $V_{P}=7.2 \\space km/s$ y $V_{S}=4.15 \\space km/s$.\n",
    "\n",
    "Utilizando el siguiente modelo de propagación de ondas sísmicas, calcular la distancia al epicentro del sismo:\n",
    "<center> $ \\Large d = \\frac{T_{S} - T_{P}}{\\frac{1}{V_{S}} - \\frac{1}{V_{P}}} $ </center>\n",
    "\n",
    "Donde:\n",
    "- $d$: distancia al epicentro del sismo\n",
    "- $V_{P}$, $V_{S}$: velocidad de las ondas sísmicas P y S\n",
    "- $T_{P}$, $T_{S}$: tiempo de llegada de las ondas sísmicas P y S"
   ]
  },
  {
   "cell_type": "code",
   "execution_count": null,
   "id": "7eb6ade9-da8b-4905-a1a2-2e1f3695ae62",
   "metadata": {},
   "outputs": [],
   "source": []
  },
  {
   "cell_type": "code",
   "execution_count": null,
   "id": "1a36736a-253a-48a3-85f1-610af96de90a",
   "metadata": {},
   "outputs": [],
   "source": []
  },
  {
   "cell_type": "code",
   "execution_count": null,
   "id": "ae06cee0-6163-4931-acfe-f1e87e6a93b7",
   "metadata": {},
   "outputs": [],
   "source": []
  },
  {
   "cell_type": "code",
   "execution_count": null,
   "id": "331150a1-e89b-46c0-89f5-2f8ef47f265f",
   "metadata": {},
   "outputs": [],
   "source": []
  },
  {
   "cell_type": "markdown",
   "id": "dc63c8fb-2386-497b-983b-e3210297840b",
   "metadata": {},
   "source": [
    "***\n",
    "### **8. Modelo de gradiente geotérmico terrestre**\n",
    "\n",
    "Bajo cierto punto de la superficie terrestre, la temperatura interna de la Tierra varía de acuerdo al siguiente modelo:\n",
    "- La temperatura promedio en la superficie es de 25°C.\n",
    "- Para los primeros 100km de profundidad, la temperatura aumenta en forma lineal con un gradiente de 15°C/km.\n",
    "- A partir de los 100 km (y hasta un máximo de 6360 km), la temperatura aumenta de acuerdo a la siguiente expresión cuadrática: $ T(z) = -6\\times10^{-5}\\space z^{2} + 1.05\\space z + 1395.6 $\n",
    "\n",
    "Desarrollar una función en Python de nombre `temperatura` que represente este modelo de gradiente geotérmico.\\\n",
    "La función debe tomar como parámetro la profundidad `z` y devolver la siguiente frase: `A una profundidad de z km, la temperatura interna de la Tierra es de T °C`.\\\n",
    "Si el valor de profundidad es negativo o mayor a 6360, la función debe devolver la siguiente frase: `Valor de profundidad incorrecto`.\n",
    "\n",
    "Por último, se debe evaluar la función para los siguientes valores de profundidad: -100, 0, 50, 100, 2000 y 6400 km."
   ]
  },
  {
   "cell_type": "code",
   "execution_count": null,
   "id": "339cd2f6-74b2-46e4-9969-a1669f3637e8",
   "metadata": {},
   "outputs": [],
   "source": []
  },
  {
   "cell_type": "code",
   "execution_count": null,
   "id": "92efb787-3b5f-4ed9-bc23-f12494178939",
   "metadata": {},
   "outputs": [],
   "source": []
  },
  {
   "cell_type": "markdown",
   "id": "affb0e13-3adc-45c4-92e1-0956923f65a9",
   "metadata": {
    "tags": []
   },
   "source": [
    "### **9. Modelo de gradiente geotérmico terrestre (Parte 2)**\n",
    "A partir de la función `temperatura` del ejercicio **8**, desarrollar una función con el mismo nombre que devuelva el valor de temperatura en °C.\\\n",
    "Usando esta función, generar un gráfico en Matplotlib que muestre la variación de Profundidad vs. Temperatura en el rango de 0 a 6360 km.\n",
    "> **Nota:** puedes usar la librería `numpy` para generar un espacio lineal con los valores de Profundidad."
   ]
  },
  {
   "cell_type": "code",
   "execution_count": null,
   "id": "a32652a3-938c-41e6-a2d3-286a2e52acf7",
   "metadata": {},
   "outputs": [],
   "source": []
  },
  {
   "cell_type": "code",
   "execution_count": null,
   "id": "d1467ed1-ca22-4d3f-b754-3b2daf29cf68",
   "metadata": {},
   "outputs": [],
   "source": []
  },
  {
   "cell_type": "code",
   "execution_count": null,
   "id": "20872a1f-0714-45c2-8f6f-2e0ba5d8c18a",
   "metadata": {},
   "outputs": [],
   "source": []
  },
  {
   "cell_type": "code",
   "execution_count": null,
   "id": "84b57622-d232-4ab2-bcf7-281a75059dc1",
   "metadata": {},
   "outputs": [],
   "source": []
  },
  {
   "cell_type": "markdown",
   "id": "c8155594-b470-4add-b5a1-c1db166c690b",
   "metadata": {},
   "source": [
    "***\n",
    "### **10. Buzamiento aparente en un talud**\n",
    "Un estrato rocoso que aflora en el talud de una carretera tiene un azimut de 150° y un buzamiento aparente de 33°. Calcular el buzamiento real del estrato teniendo en cuenta que el azimut del talud de carretera es de 180°. Usar la siguiente fórmula:\n",
    "<center> $ \\Large \\phi_{real} = arctan(\\frac{tan(\\phi_{aparente})}{cos(\\beta)})$ </center>\n",
    "Donde:\n",
    "\n",
    "- $\\phi_{real}$ : buzamiento real\n",
    "- $\\phi_{aparente}$ : buzamiento aparente\n",
    "- $\\beta$ : ángulo entre el azimut del estrato y el azimut del talud\n",
    "\n",
    "> **Nota:** puedes usar la librería `numpy` para realizar el cálculo trigonométrico."
   ]
  },
  {
   "cell_type": "markdown",
   "id": "d8f2ea20-630c-4973-8a8e-c2a0d3843ba4",
   "metadata": {},
   "source": [
    "***"
   ]
  },
  {
   "cell_type": "markdown",
   "id": "c05699d0-5c78-4e92-be0e-e5752ef7aa50",
   "metadata": {},
   "source": [
    "### **11. Abrir información con `pandas`**\n",
    "Usando la librería `pandas`, cargar el archivo `rocas.csv` ubicado en la carpeta `files` y mostrar las primeras 5 filas del DataFrame."
   ]
  },
  {
   "cell_type": "code",
   "execution_count": null,
   "id": "84f282ef-84dc-4552-8a1a-f5a79e67cf3a",
   "metadata": {},
   "outputs": [],
   "source": []
  },
  {
   "cell_type": "code",
   "execution_count": null,
   "id": "e0dfecdb-f05a-49b1-a07f-652b8b261da4",
   "metadata": {},
   "outputs": [],
   "source": []
  },
  {
   "cell_type": "markdown",
   "id": "b2220cee-5320-4509-9226-a5cd55e2c510",
   "metadata": {
    "tags": []
   },
   "source": [
    "### **12. Creación de columnas en `pandas`**\n",
    "Usando el DataFrame del ejercicio **11**, crear una columna llamada `FeOT + MgO`, que sume los valores de las columnas `FeOT` y `Mg`."
   ]
  },
  {
   "cell_type": "code",
   "execution_count": null,
   "id": "62c551b9-2a22-4301-82ca-e47ba133d503",
   "metadata": {},
   "outputs": [],
   "source": []
  },
  {
   "cell_type": "code",
   "execution_count": null,
   "id": "5eeea3ab-04b4-4b59-b025-979342c074c5",
   "metadata": {},
   "outputs": [],
   "source": []
  },
  {
   "cell_type": "markdown",
   "id": "fea8f003-79a0-4cff-9bb3-dedb8e648b5e",
   "metadata": {},
   "source": [
    "***"
   ]
  }
 ],
 "metadata": {
  "kernelspec": {
   "display_name": "Python 3 (ipykernel)",
   "language": "python",
   "name": "python3"
  },
  "language_info": {
   "codemirror_mode": {
    "name": "ipython",
    "version": 3
   },
   "file_extension": ".py",
   "mimetype": "text/x-python",
   "name": "python",
   "nbconvert_exporter": "python",
   "pygments_lexer": "ipython3",
   "version": "3.8.10"
  }
 },
 "nbformat": 4,
 "nbformat_minor": 5
}
