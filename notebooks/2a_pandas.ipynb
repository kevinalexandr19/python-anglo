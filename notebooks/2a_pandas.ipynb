{
 "cells": [
  {
   "cell_type": "markdown",
   "id": "c492ff15-e2bb-4dae-a362-7264ee49a4ad",
   "metadata": {},
   "source": [
    "# <span style=\"color:gold\">**Pandas**</span>\n",
    "***\n",
    "\n",
    "### **Editado por: Kevin Alexander Gómez**\n",
    "#### Contacto: kevinalexandr19@gmail.com | [Linkedin](https://www.linkedin.com/in/kevin-alexander-g%C3%B3mez-2b0263111/) | [Github](https://github.com/kevinalexandr19)\n",
    "***"
   ]
  },
  {
   "cell_type": "markdown",
   "id": "7d6f7440-6254-4f97-ae05-ef24af8f860f",
   "metadata": {},
   "source": [
    "### **Descripción**\n",
    "\n",
    "En este tutorial, le daremos un vistazo a <span style=\"color:gold\">Pandas</span>, la librería estándar para el análisis de datos tabulares con Python.\n",
    "\n",
    "Este Notebook es parte del proyecto [**Python para Geólogos**](https://github.com/kevinalexandr19/manual-python-geologia), y ha sido creado con la finalidad de facilitar el aprendizaje en Python para estudiantes y profesionales en el campo de la Geología.\n",
    "\n",
    "***"
   ]
  },
  {
   "cell_type": "markdown",
   "id": "a5cd7345-616c-4c8b-b4a6-661eef08c208",
   "metadata": {},
   "source": [
    "## **1. ¿Qué es Pandas?**\n",
    "***\n",
    "Pandas (abreviación de `Panel Data`) es una herramienta rápida, flexible y poderosa para el análisis y manipulación de datos, desarrollado en Python.\\\n",
    "Con Pandas, podemos representar información tabular (hojas de trabajo o bases de datos) a través de los objetos `Series` y `DataFrame`.\n",
    "\n",
    "### **1.1 ¿Cuáles son las ventajas de usar Pandas?**\n",
    "- Podemos explorar, limpiar y procesar nuestros datos de manera eficiente.\n",
    "- Permite la integración de diversos formatos de archivo o fuentes de datos como `csv`, `excel`, `sql`, `json`, etc.\n",
    "- Contiene funciones de selección y filtrado para filas y columnas específicas.\n",
    "- No hay necesidad de usar bucles para procesar cada fila de una tabla, la manipulación de datos en una columna se realiza por elementos.\n",
    "- Se pueden realizar cálculos estadísticos básicos (media, mediana, varianza, etc.) de manera sencilla.\n",
    "- Permite agrupar y desagrupar datos por categorías de una forma rápida.\n",
    "- Permite la concatenación de múltiples tablas por columna o por fila.\n",
    "- Contiene herramientas para el análisis de series temporales.\n",
    "- Contiene herramientas para la limpieza y extracción de datos textuales."
   ]
  },
  {
   "cell_type": "markdown",
   "id": "2d8548db-0d9e-4f7e-a11f-fdc5af926278",
   "metadata": {},
   "source": [
    "En este tutorial, revisaremos los objetos `Series` y `DataFrame` usando el siguiente ejemplo:\n",
    "\n",
    "### Análisis químico de muestras\n",
    "Usando la siguiente información tabular, se pide transcribir la información y almacenarla en archivos de formato CSV y Excel.\n",
    "\n",
    "| Muestra |Au (ppm)  |Ag (ppm)  |Cu (%)   |Zn (%)  |Pb (%)  |\n",
    "|:-------:|:--------:|:--------:|:-------:|:------:|:------:|\n",
    "|A        |5.0       |51.2      |3.2      |4.0     |3.4     |\n",
    "|B        |6.1       |62.7      |4.5      |6.1     |5.5     |\n",
    "|C        |4.2       |54.8      |2.1      |3.5     |3.1     |\n",
    "|D        |2.4       |47.1      |4.8      |6.4     |5.8     |\n",
    "|E        |8.3       |40.3      |5.4      |8.9     |6.7     |"
   ]
  },
  {
   "cell_type": "markdown",
   "id": "d3f93285-2be7-4a6a-9b40-9c4d7bc940d9",
   "metadata": {},
   "source": [
    "Empezaremos importando `pandas` y usaremos `pd` como una referencia abreviada de esta librería:"
   ]
  },
  {
   "cell_type": "code",
   "execution_count": null,
   "id": "5526cf17-ae8e-423b-970c-05b76d1ad43f",
   "metadata": {},
   "outputs": [],
   "source": [
    "import pandas as pd"
   ]
  },
  {
   "cell_type": "markdown",
   "id": "5297d30f-c50e-4838-a09d-7d0479f447b7",
   "metadata": {},
   "source": [
    "## **2. Series**\n",
    "***\n",
    "Empezaremos creando un objeto llamado `Series`, que es similar a un `array` de Numpy, pero además lleva un **índice** o `index`.\\\n",
    "En este caso, lo crearemos a partir de una lista que contenga los valores de la columna de `Au`:"
   ]
  },
  {
   "cell_type": "code",
   "execution_count": null,
   "id": "37781cba-2de6-415e-8d52-9c1fd8332a5b",
   "metadata": {},
   "outputs": [],
   "source": [
    "au = pd.Series([5.0, 6.1, 4.2, 2.4, 8.3], index=[\"A\", \"B\", \"C\", \"D\", \"E\"])"
   ]
  },
  {
   "cell_type": "code",
   "execution_count": null,
   "id": "8f9eb034-e5c4-4507-947e-23bbb14e4322",
   "metadata": {},
   "outputs": [],
   "source": [
    "au"
   ]
  },
  {
   "cell_type": "markdown",
   "id": "0180e8e3-8b4d-4b67-91c5-a4aa5511436c",
   "metadata": {},
   "source": [
    "Los objetos de tipo `Series` representan unidades de filas y columnas.\n",
    "\n",
    "También podemos crear una serie a partir de un diccionario. En este caso, usaremos la columna de `Ag`:"
   ]
  },
  {
   "cell_type": "code",
   "execution_count": null,
   "id": "0cec5829-7da4-45bf-86c5-f789aa858b5d",
   "metadata": {},
   "outputs": [],
   "source": [
    "ag = pd.Series({\"A\": 51.2, \"B\": 62.7, \"C\": 54.8, \"D\": 47.1, \"E\": 40.3})"
   ]
  },
  {
   "cell_type": "code",
   "execution_count": null,
   "id": "ae9c6ab6-275a-4a83-8547-d13f128851f2",
   "metadata": {},
   "outputs": [],
   "source": [
    "ag"
   ]
  },
  {
   "cell_type": "markdown",
   "id": "60ec6e24-e35a-4834-bca4-faf7da497616",
   "metadata": {},
   "source": [
    "Podemos obtener el índice a través del atributo `index`:"
   ]
  },
  {
   "cell_type": "code",
   "execution_count": null,
   "id": "a4a8305b-cf6d-48e9-8311-a5bad74fe6cd",
   "metadata": {},
   "outputs": [],
   "source": [
    "ag.index"
   ]
  },
  {
   "cell_type": "markdown",
   "id": "1857edf0-1977-45fa-a689-cd8df1bc1732",
   "metadata": {},
   "source": [
    "Y los valores a través del atributo `values`:"
   ]
  },
  {
   "cell_type": "code",
   "execution_count": null,
   "id": "843e88d9-1892-4e7c-946c-42c1384dc1e2",
   "metadata": {},
   "outputs": [],
   "source": [
    "ag.values"
   ]
  },
  {
   "cell_type": "markdown",
   "id": "9d781ca5-3fca-4a95-8e20-7b031f4c633f",
   "metadata": {},
   "source": [
    "Crearemos una nueva serie para la columna de `Cu`:"
   ]
  },
  {
   "cell_type": "code",
   "execution_count": null,
   "id": "2164f488-5977-4f23-9ce2-771b93a8af3a",
   "metadata": {},
   "outputs": [],
   "source": [
    "cu = pd.Series({\"A\": 3.2, \"B\": 4.5, \"C\": 2.1, \"D\": 4.8, \"E\": 5.4})\n",
    "cu"
   ]
  },
  {
   "cell_type": "markdown",
   "id": "535a4cfe-2367-44d4-b385-e125e6c92cc6",
   "metadata": {},
   "source": [
    "Podemos crear una copia usando el método `copy`:"
   ]
  },
  {
   "cell_type": "code",
   "execution_count": null,
   "id": "c254196e-5ba6-4f13-9a9f-2349f704c26a",
   "metadata": {},
   "outputs": [],
   "source": [
    "copia = cu.copy()\n",
    "copia"
   ]
  },
  {
   "cell_type": "markdown",
   "id": "3289b1b0-345f-4c3a-910f-5cccb2925e70",
   "metadata": {},
   "source": [
    "Y también podemos modificar y agregar valores dentro de una serie.\\\n",
    "Si modificamos una copia, el original no es alterado:"
   ]
  },
  {
   "cell_type": "code",
   "execution_count": null,
   "id": "32dd96d9-e718-4978-bf80-092613baa93a",
   "metadata": {},
   "outputs": [],
   "source": [
    "copia[0] = 0\n",
    "copia[\"F\"] = 10\n",
    "copia"
   ]
  },
  {
   "cell_type": "markdown",
   "id": "cca18fab-a7e7-4ef7-9ae2-1859575af2cf",
   "metadata": {},
   "source": [
    "Ahora crearemos las columnas para el `Zn` y el `Pb`:"
   ]
  },
  {
   "cell_type": "code",
   "execution_count": null,
   "id": "4d21b17d-5ec4-44f9-a01d-ed37a2ed150d",
   "metadata": {},
   "outputs": [],
   "source": [
    "index = [\"A\", \"B\", \"C\", \"D\", \"E\"]\n",
    "\n",
    "zn = pd.Series(dict(zip(index, [4.0, 6.1, 3.5, 6.4, 8.9])))\n",
    "pb = pd.Series(dict(zip(index, [3.4, 5.5, 3.1, 5.8, 6.7])))"
   ]
  },
  {
   "cell_type": "code",
   "execution_count": null,
   "id": "5141100e-cd2b-445e-91e7-abc125d2fe68",
   "metadata": {},
   "outputs": [],
   "source": [
    "zn"
   ]
  },
  {
   "cell_type": "code",
   "execution_count": null,
   "id": "bd17361a-b208-4742-add4-5665c6ab0eeb",
   "metadata": {},
   "outputs": [],
   "source": [
    "pb"
   ]
  },
  {
   "cell_type": "markdown",
   "id": "4468dbca-7e07-47bd-95b1-b4a5603d656f",
   "metadata": {},
   "source": [
    "Podemos hacer slicing dentro de una serie:"
   ]
  },
  {
   "cell_type": "code",
   "execution_count": null,
   "id": "d7dbe192-07f4-44ae-977e-c58b40da5e88",
   "metadata": {},
   "outputs": [],
   "source": [
    "# Segunda y tercera fila de la columna Zn\n",
    "zn[1:3]"
   ]
  },
  {
   "cell_type": "code",
   "execution_count": null,
   "id": "09b1f9ad-e9c6-48df-a1a5-8edcaf7fc7ef",
   "metadata": {},
   "outputs": [],
   "source": [
    "# De la tercera a la quinta fila de la columna Pb\n",
    "pb[\"C\": \"E\"]"
   ]
  },
  {
   "cell_type": "markdown",
   "id": "b1892707-4861-4ce4-8680-c5a6958da1dc",
   "metadata": {},
   "source": [
    "Podemos usar el método `loc` para ubicar un elemento dentro de una serie a partir del nombre asignado en su índice:"
   ]
  },
  {
   "cell_type": "code",
   "execution_count": null,
   "id": "15d729ec-2b9a-49f3-bae8-7b5be95fac5e",
   "metadata": {},
   "outputs": [],
   "source": [
    "# La segunda fila de la columna Zn tiene por nombre \"B\"\n",
    "zn.loc[\"B\"]"
   ]
  },
  {
   "cell_type": "markdown",
   "id": "c57d6f1e-8754-42a3-9979-1c8296139a9c",
   "metadata": {},
   "source": [
    "O también podemos usar `iloc` para ubicar el elemento de acuerdo al orden de posición en la serie:"
   ]
  },
  {
   "cell_type": "code",
   "execution_count": null,
   "id": "7e23ecb8-fec0-4e26-ab7a-92d2cf2afb48",
   "metadata": {},
   "outputs": [],
   "source": [
    "# La segunda fila de la columna Zn tiene por posición 1\n",
    "zn.iloc[1]"
   ]
  },
  {
   "cell_type": "markdown",
   "id": "343b2fe6-b44c-41c2-b989-ec590ba6f4f8",
   "metadata": {},
   "source": [
    "## **3. DataFrame**\n",
    "***\n",
    "Un `DataFrame` agrupa objetos de tipo `Series` para generar una tabla de filas y columnas.\\\n",
    "Cada fila y columna del DataFrame puede llevar un nombre específico.\n",
    "\n",
    "Usaremos las columnas de `Au`, `Ag`, `Cu`, `Zn` y `Pb` que hemos creado anteriormente para generar el DataFrame:"
   ]
  },
  {
   "cell_type": "code",
   "execution_count": null,
   "id": "82e9c7cb-8a4d-441f-82cc-90aec4080bf8",
   "metadata": {},
   "outputs": [],
   "source": [
    "data = pd.DataFrame({\"Au\": au, \"Ag\": ag, \"Cu\": cu, \"Zn\": zn, \"Pb\": pb})\n",
    "data"
   ]
  },
  {
   "cell_type": "markdown",
   "id": "d7161eed-7a13-40e5-8222-4c6cd8d90eb5",
   "metadata": {},
   "source": [
    "Podemos usar el método `head` para observar solamente las primeras filas de una tabla:"
   ]
  },
  {
   "cell_type": "code",
   "execution_count": null,
   "id": "6806f423-6f3f-4ae1-ae5f-53860ce2b133",
   "metadata": {},
   "outputs": [],
   "source": [
    "data.head(2)"
   ]
  },
  {
   "cell_type": "markdown",
   "id": "ba19b0d3-0e4c-44b2-86b3-92062244f09d",
   "metadata": {},
   "source": [
    "Y también podemos usar el método `tail` para observar solamente las últimas fila de una tabla:"
   ]
  },
  {
   "cell_type": "code",
   "execution_count": null,
   "id": "971a3079-743a-4e0b-a7bf-4e81480ffdd1",
   "metadata": {},
   "outputs": [],
   "source": [
    "data.tail(3)"
   ]
  },
  {
   "cell_type": "markdown",
   "id": "44cccded-55cd-439b-8e21-92ece2369aea",
   "metadata": {},
   "source": [
    "Para crear una copia del DataFrame, podemos usar el método `copy`:"
   ]
  },
  {
   "cell_type": "code",
   "execution_count": null,
   "id": "1173e997-1f9b-40e1-ba52-706a514d1c64",
   "metadata": {},
   "outputs": [],
   "source": [
    "copia = data.copy()\n",
    "copia"
   ]
  },
  {
   "cell_type": "markdown",
   "id": "dc65ff82-1eb2-40b4-84fc-5b5df1afae0e",
   "metadata": {},
   "source": [
    "## **4. Manipulación de datos**\n",
    "***\n",
    "### **4.1. Índices y columnas**\n",
    "Para renombrar índices y columnas, podemos utilizar el método `rename`:"
   ]
  },
  {
   "cell_type": "code",
   "execution_count": null,
   "id": "0a41ddbf-7b89-446c-8a4e-fc53243d353a",
   "metadata": {},
   "outputs": [],
   "source": [
    "data.rename(columns={\"Au\": \"Oro\"}, index={\"A\": \"M1\"})"
   ]
  },
  {
   "cell_type": "markdown",
   "id": "a08ae48b-297b-4fc0-9599-bdc2240e14c3",
   "metadata": {},
   "source": [
    "Podemos eliminar los índices utilizando el método `reset_index`:"
   ]
  },
  {
   "cell_type": "code",
   "execution_count": null,
   "id": "91479fc1-8148-4513-9a96-2222cf480654",
   "metadata": {},
   "outputs": [],
   "source": [
    "data.reset_index()"
   ]
  },
  {
   "cell_type": "markdown",
   "id": "2be930b5-111b-4999-a6d7-af5a5f73c92a",
   "metadata": {},
   "source": [
    "Si agregamos el parámetro `drop=True`, el índice anterior será descartado:"
   ]
  },
  {
   "cell_type": "code",
   "execution_count": null,
   "id": "d74613d2-6028-4768-80bd-ab8083fa3224",
   "metadata": {},
   "outputs": [],
   "source": [
    "data.reset_index(drop=True)"
   ]
  },
  {
   "cell_type": "markdown",
   "id": "1637c18a-cb11-483c-ac60-cacc3f9642b5",
   "metadata": {},
   "source": [
    "Si queremos hacer permanente el cambio, podemos utilizar el parámetro `inplace=True`:"
   ]
  },
  {
   "cell_type": "code",
   "execution_count": null,
   "id": "7ea349cf-db92-4445-97de-0f3b201dcdb6",
   "metadata": {},
   "outputs": [],
   "source": [
    "data.reset_index(drop=True, inplace=True)\n",
    "data"
   ]
  },
  {
   "cell_type": "markdown",
   "id": "0a6cc3e0-4dfd-41cf-968e-23122b72e530",
   "metadata": {},
   "source": [
    "Podemos agregar un nuevo índice usando el atributo `index`:"
   ]
  },
  {
   "cell_type": "code",
   "execution_count": null,
   "id": "7eaef4b1-e3df-4f50-aab0-e6cdf23e4aeb",
   "metadata": {},
   "outputs": [],
   "source": [
    "data.index = [\"A\", \"B\", \"C\", \"D\", \"E\"]\n",
    "data"
   ]
  },
  {
   "cell_type": "markdown",
   "id": "a0b50096-79e2-416c-9c6f-4165d94f9a8e",
   "metadata": {},
   "source": [
    "También podemos colocarle un nombre al índice:"
   ]
  },
  {
   "cell_type": "code",
   "execution_count": null,
   "id": "a30d1d5e-4e56-4da4-b686-e4640227a04e",
   "metadata": {},
   "outputs": [],
   "source": [
    "data.index.name = \"Muestras\"\n",
    "data"
   ]
  },
  {
   "cell_type": "markdown",
   "id": "3ecd0dec-79ff-4c14-afeb-b14fdf7aedec",
   "metadata": {},
   "source": [
    "Podemos extraer los nombres de las columnas con el atributo `columns`:"
   ]
  },
  {
   "cell_type": "code",
   "execution_count": null,
   "id": "f71721f2-9153-4c92-93a4-07f10ab26bbb",
   "metadata": {},
   "outputs": [],
   "source": [
    "data.columns"
   ]
  },
  {
   "cell_type": "markdown",
   "id": "bcd5488a-85b7-4bb1-bc35-f80aee138d70",
   "metadata": {},
   "source": [
    "Y también podemos consultar el tipo de dato en cada columna con el atributo `dtypes`:"
   ]
  },
  {
   "cell_type": "code",
   "execution_count": null,
   "id": "22a4fe82-33bc-4c2c-a80e-d0034515d85d",
   "metadata": {},
   "outputs": [],
   "source": [
    "data.dtypes"
   ]
  },
  {
   "cell_type": "markdown",
   "id": "99892b82-058b-4076-8b83-baa7fe1ec3f6",
   "metadata": {},
   "source": [
    "Para ordenar valores de acuerdo a una columna, podemos utilizar el método `sort_values`:"
   ]
  },
  {
   "cell_type": "code",
   "execution_count": null,
   "id": "8b9f36e4-bb6e-4cea-811a-04f6e2af5355",
   "metadata": {},
   "outputs": [],
   "source": [
    "data.sort_values(by=[\"Au\"])"
   ]
  },
  {
   "cell_type": "markdown",
   "id": "da0a34ae-372b-40d4-a060-d39cc0c94309",
   "metadata": {},
   "source": [
    "### **4.2. Selección de filas y columnas**\n",
    "Podemos seleccionar columnas a partir del nombre de la columna:"
   ]
  },
  {
   "cell_type": "code",
   "execution_count": null,
   "id": "97274fa1-3717-417e-94fa-386ed3aa439b",
   "metadata": {},
   "outputs": [],
   "source": [
    "data[\"Au\"]"
   ]
  },
  {
   "cell_type": "markdown",
   "id": "7665ce20-12a8-42a5-8594-f6cc377700c6",
   "metadata": {},
   "source": [
    "Y también podemos seleccionar varias columnas usando una lista de columnas:"
   ]
  },
  {
   "cell_type": "code",
   "execution_count": null,
   "id": "02b52801-5faf-41a3-a280-97966acf0ccf",
   "metadata": {},
   "outputs": [],
   "source": [
    "data[[\"Au\", \"Zn\", \"Cu\"]]"
   ]
  },
  {
   "cell_type": "markdown",
   "id": "40a940bf-bb09-478f-8b5c-e3b5f0c3c124",
   "metadata": {},
   "source": [
    "Para seleccionar filas, podemos hacer **slicing**:"
   ]
  },
  {
   "cell_type": "code",
   "execution_count": null,
   "id": "9d762e83-7464-4e3c-a96e-c9bb2618b554",
   "metadata": {},
   "outputs": [],
   "source": [
    "data[1:]"
   ]
  },
  {
   "cell_type": "code",
   "execution_count": null,
   "id": "a6bbfd67-806a-4862-a93b-28ebf2761a97",
   "metadata": {},
   "outputs": [],
   "source": [
    "data[\"B\":]"
   ]
  },
  {
   "cell_type": "markdown",
   "id": "5d9fd476-858c-4d6f-b5b6-b5edcb41bb79",
   "metadata": {},
   "source": [
    "Y también podemos seleccionar elementos específicos utilizando `loc`.\\\n",
    "Las filas y columnas se especifican usando listas separadas:"
   ]
  },
  {
   "cell_type": "code",
   "execution_count": null,
   "id": "56851ee2-d3bc-49ff-9215-578569317bf3",
   "metadata": {},
   "outputs": [],
   "source": [
    "data.loc[[\"A\", \"C\"], [\"Ag\", \"Pb\"]]"
   ]
  },
  {
   "cell_type": "markdown",
   "id": "19e1217c-c617-413d-ab36-c9c97fb4a2e0",
   "metadata": {},
   "source": [
    "También podemos utilizar rangos:"
   ]
  },
  {
   "cell_type": "code",
   "execution_count": null,
   "id": "ea7e583d-fa90-4fef-b49e-6130d3ce81db",
   "metadata": {},
   "outputs": [],
   "source": [
    "data.loc[\"A\": \"D\", :]"
   ]
  },
  {
   "cell_type": "markdown",
   "id": "4ca2d825-ea4a-452b-948f-bd806f9d06ba",
   "metadata": {},
   "source": [
    "Con `iloc` el proceso es similar, pero en vez de utilizar los nombres utilizamos el orden de posición:"
   ]
  },
  {
   "cell_type": "code",
   "execution_count": null,
   "id": "ade17472-aef3-4628-bb8f-f2e14723e68b",
   "metadata": {},
   "outputs": [],
   "source": [
    "data.iloc[[0, 2], [1, 4]]"
   ]
  },
  {
   "cell_type": "code",
   "execution_count": null,
   "id": "4d218fdf-f0ac-4719-ab11-39fdb1344e06",
   "metadata": {},
   "outputs": [],
   "source": [
    "data.iloc[0:4, :]"
   ]
  },
  {
   "cell_type": "markdown",
   "id": "8ea9789c-eb82-4e88-a237-f37f4bdec34b",
   "metadata": {},
   "source": [
    "Si utilizamos expresiones lógicas, obtendremos un arreglo con valores de tipo lógico:"
   ]
  },
  {
   "cell_type": "code",
   "execution_count": null,
   "id": "b3bfaeb7-b67c-40f6-8f6b-3e8473b3b42a",
   "metadata": {},
   "outputs": [],
   "source": [
    "data[\"Au\"] > 5.0"
   ]
  },
  {
   "cell_type": "markdown",
   "id": "21403cce-9ee6-45fa-bae6-701e21f294fc",
   "metadata": {},
   "source": [
    "Podemos usar este arreglo para filtrar los datos de acuerdo a una condición:"
   ]
  },
  {
   "cell_type": "code",
   "execution_count": null,
   "id": "89da9b44-37ab-47cf-8d11-eea0c9f3e858",
   "metadata": {},
   "outputs": [],
   "source": [
    "data[data[\"Au\"] > 5.0]"
   ]
  },
  {
   "cell_type": "markdown",
   "id": "beb15e5a-78f4-4bfe-9d33-e48f2f0cc256",
   "metadata": {},
   "source": [
    "### **4.3. Modificación de filas y columnas**\n",
    "Podemos eliminar filas y columnas utilizando el método `drop` (para hacer el cambio permanente, agregar el parámetro `inplace=True`:"
   ]
  },
  {
   "cell_type": "code",
   "execution_count": null,
   "id": "566276d8-7601-4162-bc61-bfbe8a4c4cbe",
   "metadata": {},
   "outputs": [],
   "source": [
    "data.drop(columns=[\"Au\", \"Ag\"], index=[\"A\", \"B\"])"
   ]
  },
  {
   "cell_type": "markdown",
   "id": "632a3d78-87a2-4ef4-a7e4-1fd046f78ec2",
   "metadata": {},
   "source": [
    "También podemos agregar nuevas columnas, como por ejemplo, la suma de concentraciones de `Cu`, `Zn` y `Pb`:"
   ]
  },
  {
   "cell_type": "code",
   "execution_count": null,
   "id": "f6bb5e90-ad11-430d-a350-caada71318ab",
   "metadata": {},
   "outputs": [],
   "source": [
    "data[\"Cu + Zn + Pb\"] = data[\"Cu\"] + data[\"Zn\"] + data[\"Pb\"]\n",
    "data"
   ]
  },
  {
   "cell_type": "markdown",
   "id": "e4a82a1e-d13d-43bb-b0d7-7da95e04e879",
   "metadata": {},
   "source": [
    "Si queremos ordenar los valores en una columna, podemos utilizar el método `sort_values`:"
   ]
  },
  {
   "cell_type": "code",
   "execution_count": null,
   "id": "8fd5e95d-da07-47fc-b81b-6cfc73c0680d",
   "metadata": {},
   "outputs": [],
   "source": [
    "data.sort_values(by=[\"Cu + Zn + Pb\"])"
   ]
  },
  {
   "cell_type": "markdown",
   "id": "98d08606-844d-4266-bbeb-e02ff4eec625",
   "metadata": {},
   "source": [
    "### **4.4. Valores vacíos en Pandas**\n",
    "Crearemos una columna de datos vacíos llamada `Null`:"
   ]
  },
  {
   "cell_type": "code",
   "execution_count": null,
   "id": "c99614f0-f447-48b4-b076-719c7743ed0f",
   "metadata": {},
   "outputs": [],
   "source": [
    "import numpy as np"
   ]
  },
  {
   "cell_type": "code",
   "execution_count": null,
   "id": "1d342d6d-14d6-4033-83f5-24e59c890518",
   "metadata": {},
   "outputs": [],
   "source": [
    "data[\"Null\"] = np.nan\n",
    "data"
   ]
  },
  {
   "cell_type": "markdown",
   "id": "7ad4bc48-896e-4792-882a-bdd2ef4a3607",
   "metadata": {},
   "source": [
    "Para ubicar valores de tipo `nan` en la tabla, podemos usar el método `isna`:"
   ]
  },
  {
   "cell_type": "code",
   "execution_count": null,
   "id": "fc08c8cd-3eb5-4b5e-a5b7-aa25e7de07ff",
   "metadata": {},
   "outputs": [],
   "source": [
    "data.isna()"
   ]
  },
  {
   "cell_type": "markdown",
   "id": "10ad5001-d589-4332-95f2-f10ccb33ed9d",
   "metadata": {},
   "source": [
    "Si queremos reemplazar los valores `nan`, podemos utilizar el método `fillna`:"
   ]
  },
  {
   "cell_type": "code",
   "execution_count": null,
   "id": "90c18815-1f27-409b-994f-662859a4e768",
   "metadata": {},
   "outputs": [],
   "source": [
    "data.fillna(\"\")"
   ]
  },
  {
   "cell_type": "markdown",
   "id": "7511dbe9-f9e9-44e8-a4f3-fa9c0b4b5ea9",
   "metadata": {},
   "source": [
    "Por último, si queremos eliminar los valores de tipo `nan`, podemos utilizar el método `dropna`.\\\n",
    "El párametro `axis` elimina todas las filas (0) o columnas (1) que contengan valores `nan`."
   ]
  },
  {
   "cell_type": "code",
   "execution_count": null,
   "id": "9238d3ad-0824-45bd-8eee-2e11422bca9c",
   "metadata": {},
   "outputs": [],
   "source": [
    "data.dropna(axis=1)"
   ]
  },
  {
   "cell_type": "markdown",
   "id": "921ea24e-338a-4042-8169-444e26a341f4",
   "metadata": {},
   "source": [
    "Si queremos hacer el cambio permanente, agregamos el parámetro `inplace=True`:"
   ]
  },
  {
   "cell_type": "code",
   "execution_count": null,
   "id": "e2b64bf1-ab22-4097-99a4-b870f6d04cfd",
   "metadata": {},
   "outputs": [],
   "source": [
    "data.dropna(axis=1, inplace=True)\n",
    "data"
   ]
  },
  {
   "cell_type": "markdown",
   "id": "9eadd588-691a-45be-b829-920fa7ad066d",
   "metadata": {},
   "source": [
    "### **4.5. Guardar y cargar archivos en Pandas**\n",
    "Para guardar la información en `csv`, utilizaremos el método `to_csv`:\n",
    "- La dirección del archivo será el de la carpeta `files/` unido al nombre del archivo `analisis_quimico.csv`."
   ]
  },
  {
   "cell_type": "code",
   "execution_count": null,
   "id": "49090ebe-0650-402d-b221-2bb40773186f",
   "metadata": {},
   "outputs": [],
   "source": [
    "data.to_csv(\"files/analisis_quimico.csv\")"
   ]
  },
  {
   "cell_type": "markdown",
   "id": "dc7f4aa6-5ae6-49da-823f-d8986badb81e",
   "metadata": {},
   "source": [
    "Podemos volver a cargar el `csv` usando la función `read_csv`:"
   ]
  },
  {
   "cell_type": "code",
   "execution_count": null,
   "id": "beaa6a41-d2dd-4dfd-807c-343038982a7b",
   "metadata": {},
   "outputs": [],
   "source": [
    "csv = pd.read_csv(\"files/analisis_quimico.csv\")\n",
    "csv"
   ]
  },
  {
   "cell_type": "markdown",
   "id": "e0bf6005-e4f8-4148-9dda-af418614029c",
   "metadata": {},
   "source": [
    "Para establecer una columna como índice, podemos utilizar el método `set_index`:"
   ]
  },
  {
   "cell_type": "code",
   "execution_count": null,
   "id": "4c6ebc8e-f396-4ccf-bea4-a7d1c6b19931",
   "metadata": {},
   "outputs": [],
   "source": [
    "csv.set_index(\"Muestras\")"
   ]
  },
  {
   "cell_type": "markdown",
   "id": "4cd6ca92-f347-4fff-a7d8-4f9a68f17ee9",
   "metadata": {},
   "source": [
    "Para guardar la información en `Excel`, utilizaremos el método `to_excel`:"
   ]
  },
  {
   "cell_type": "code",
   "execution_count": null,
   "id": "5ef8262e-9b02-4f7c-9d95-276818f041a8",
   "metadata": {},
   "outputs": [],
   "source": [
    "data.to_excel(\"files/analisis_quimico.xlsx\")"
   ]
  },
  {
   "cell_type": "markdown",
   "id": "888cf871-194f-433d-ab77-8d10ce50f619",
   "metadata": {},
   "source": [
    "Cargamos el `Excel` creado usando la función `read_excel`:"
   ]
  },
  {
   "cell_type": "code",
   "execution_count": null,
   "id": "d981432a-f9fa-492b-b305-0e4267023d24",
   "metadata": {},
   "outputs": [],
   "source": [
    "pd.read_excel(\"files/analisis_quimico.xlsx\")"
   ]
  },
  {
   "cell_type": "markdown",
   "id": "66181232-eaaa-4cb9-b3fc-ec2f2468e748",
   "metadata": {
    "tags": []
   },
   "source": [
    "### **4.6. Selección de filas aleatorias**\n",
    "En el siguiente ejemplo, utilizaremos el archivo `rocas.csv`:"
   ]
  },
  {
   "cell_type": "code",
   "execution_count": null,
   "id": "7bfe5db0-23b7-4624-b697-994439abcdf9",
   "metadata": {},
   "outputs": [],
   "source": [
    "rocas = pd.read_csv(\"files/rocas.csv\")"
   ]
  },
  {
   "cell_type": "markdown",
   "id": "160006f9-0946-4a52-87b2-418fa21f6c90",
   "metadata": {},
   "source": [
    "Para obtener un resumen estadístico de la tabla podemos usar el método `describe`:"
   ]
  },
  {
   "cell_type": "code",
   "execution_count": null,
   "id": "0c27385a-f477-47ac-be95-e674e6469ed4",
   "metadata": {},
   "outputs": [],
   "source": [
    "rocas.describe()"
   ]
  },
  {
   "cell_type": "markdown",
   "id": "ccdb9fcd-ac5f-454c-8441-1ea789666abf",
   "metadata": {},
   "source": [
    "Para observar el conjunto de valores únicos en una columna, podemos usar el método `unique`:"
   ]
  },
  {
   "cell_type": "code",
   "execution_count": null,
   "id": "d0c2bd55-7874-46ce-b177-18acf77559ea",
   "metadata": {},
   "outputs": [],
   "source": [
    "rocas[\"Nombre\"].unique()"
   ]
  },
  {
   "cell_type": "markdown",
   "id": "5f964695-8fce-481b-823c-15d8f24c1618",
   "metadata": {},
   "source": [
    "Para obtener muestras aleatorias de una tabla, podemos utilizar el método `sample`:"
   ]
  },
  {
   "cell_type": "code",
   "execution_count": null,
   "id": "5566ee78-e4b5-4592-968e-e75f8402c3a7",
   "metadata": {},
   "outputs": [],
   "source": [
    "rocas.sample(5)"
   ]
  },
  {
   "cell_type": "markdown",
   "id": "93583a16-35de-47e3-9af8-dd66046be80f",
   "metadata": {},
   "source": [
    "Podemos ordernar los índices de una tabla utilizando el método `sort_index`.\n",
    "> Podemos utilizar diferentes métodos de Pandas en una sola línea al agregar un punto `.` que los separe."
   ]
  },
  {
   "cell_type": "code",
   "execution_count": null,
   "id": "2c5aa829-c9fa-4236-809b-3a0c73611259",
   "metadata": {},
   "outputs": [],
   "source": [
    "rocas.sample(5).sort_index()"
   ]
  },
  {
   "cell_type": "markdown",
   "id": "973d3b11-3ac8-41a4-8d6c-629de864de5f",
   "metadata": {},
   "source": [
    "Para invertir el orden, podemos agregar el parámetro `ascending=False`:"
   ]
  },
  {
   "cell_type": "code",
   "execution_count": null,
   "id": "3472b4a7-a998-40a2-86e8-f41882f483d8",
   "metadata": {},
   "outputs": [],
   "source": [
    "rocas.sample(5).sort_index(ascending=False)"
   ]
  },
  {
   "cell_type": "markdown",
   "id": "d9e78dd6-28fe-4e53-a55b-867bc9f4b561",
   "metadata": {},
   "source": [
    "### **4.7. Creación de nuevas columnas de datos**\n",
    "Crearemos una nueva columna para nombrar las muestras usando el método `apply`.\\\n",
    "Para esto, necesitamos una función llamada `muestra` que genere un nombre para cada muestra:"
   ]
  },
  {
   "cell_type": "code",
   "execution_count": null,
   "id": "34d14569-b429-4a20-b2ac-a41feb240b64",
   "metadata": {},
   "outputs": [],
   "source": [
    "def muestra(row):\n",
    "    nombre = \"M-\" + str(row.name)\n",
    "    return nombre"
   ]
  },
  {
   "cell_type": "code",
   "execution_count": null,
   "id": "887751d7-ada0-4406-adb9-5ce91c1e750d",
   "metadata": {},
   "outputs": [],
   "source": [
    "rocas.apply(muestra, axis=1)"
   ]
  },
  {
   "cell_type": "markdown",
   "id": "d9cc0f24-476a-415c-82d7-c18bd482f458",
   "metadata": {},
   "source": [
    "Ahora, agregaremos esta columna de datos dentro de la tabla:"
   ]
  },
  {
   "cell_type": "code",
   "execution_count": null,
   "id": "0649c8d5-6951-47c2-be9d-36d956012ff7",
   "metadata": {},
   "outputs": [],
   "source": [
    "rocas[\"Muestra\"] = rocas.apply(muestra, axis=1)"
   ]
  },
  {
   "cell_type": "code",
   "execution_count": null,
   "id": "792a812a-c73b-4460-bc80-07c997e2298a",
   "metadata": {},
   "outputs": [],
   "source": [
    "rocas.sample(5)"
   ]
  },
  {
   "cell_type": "markdown",
   "id": "73f72a88-980f-4b5b-8950-d6a32b6438a9",
   "metadata": {},
   "source": [
    "De esta forma, tenemos una columna con valores únicos que identifica cada muestra.\n",
    "\n",
    "También podemos clasificar valores en una tabla usando la función `cut`.\\\n",
    "Por ejemplo, clasificaremos las filas de acuerdo a los valores de `SiO2`:"
   ]
  },
  {
   "cell_type": "code",
   "execution_count": null,
   "id": "5f58494a-ecc1-47a7-b4cc-a318c284cac5",
   "metadata": {},
   "outputs": [],
   "source": [
    "pd.cut(rocas[\"SiO2\"], bins=2)"
   ]
  },
  {
   "cell_type": "markdown",
   "id": "f1dea9ba-09ed-4640-96d9-2d7ec6cdc7d7",
   "metadata": {},
   "source": [
    "Para establecer el nombre de cada categoría, agregamos el parámetro `labels`:"
   ]
  },
  {
   "cell_type": "code",
   "execution_count": null,
   "id": "cb57c0a8-ba8a-468a-a2c3-f4ade03f839c",
   "metadata": {},
   "outputs": [],
   "source": [
    "pd.cut(rocas[\"SiO2\"], bins=2, labels=[\"Ultramáfico\", \"Intermedio\"])"
   ]
  },
  {
   "cell_type": "markdown",
   "id": "5bc9ead2-691f-4b52-be56-533e859af941",
   "metadata": {},
   "source": [
    "### **4.8. Concatenación de tablas**\n",
    "Separaremos la tabla en dos:\n",
    "- La primera tabla tendrá los valores de `Muestra` y `SiO2`.\n",
    "- La segunda tabla tendrá los valores de `Muestra` y `Al2O3`."
   ]
  },
  {
   "cell_type": "code",
   "execution_count": null,
   "id": "49e1a844-5bee-41b4-a010-1b6990a319bd",
   "metadata": {},
   "outputs": [],
   "source": [
    "tabla_1 = rocas[[\"Muestra\", \"SiO2\"]].copy()\n",
    "tabla_2 = rocas[[\"Muestra\", \"Al2O3\"]].copy()"
   ]
  },
  {
   "cell_type": "code",
   "execution_count": null,
   "id": "3fed4529-5eb8-4a0c-a37d-7fdaeb1f7aee",
   "metadata": {},
   "outputs": [],
   "source": [
    "tabla_1.sample(5)"
   ]
  },
  {
   "cell_type": "code",
   "execution_count": null,
   "id": "55a583d5-74a0-434b-a88e-6f1a65bbb47a",
   "metadata": {},
   "outputs": [],
   "source": [
    "tabla_2.sample(5)"
   ]
  },
  {
   "cell_type": "markdown",
   "id": "2450c161-1216-4e02-992e-8c79d98c709f",
   "metadata": {},
   "source": [
    "Podemos unir ambas tablas usando la función `merge`, el parámetro `on` corresponde a la columna bajo la cual se unirán ambas tablas.\\\n",
    "En este caso, eligiremos la columna `Muestra` pues contiene valores únicos que identifican cada muestra:"
   ]
  },
  {
   "cell_type": "code",
   "execution_count": null,
   "id": "acc7a5e2-d833-46cf-b505-de718fb34b08",
   "metadata": {},
   "outputs": [],
   "source": [
    "pd.merge(tabla_1, tabla_2, on=\"Muestra\")"
   ]
  },
  {
   "cell_type": "markdown",
   "id": "59ee73d2-8f3f-4d10-bd2f-378a64654b9e",
   "metadata": {},
   "source": [
    "Otra opción consiste en utilizar los parámetros `how`, `left_on` y `right_on`.\\\n",
    "El parámetro `how` puede ser `inner` para unir elementos en común o `outer` para unir todos los elementos en ambas tablas.\\\n",
    "Los parámetros `left_on` y `right_on` corresponden a las columnas de la primera y segunda tabla que serán usadas para la concatenación."
   ]
  },
  {
   "cell_type": "code",
   "execution_count": null,
   "id": "a3cba77a-5350-4e8e-b915-4911da22d29a",
   "metadata": {},
   "outputs": [],
   "source": [
    "pd.merge(tabla_1, tabla_2, how=\"inner\", left_on=\"Muestra\", right_on=\"Muestra\")"
   ]
  },
  {
   "cell_type": "markdown",
   "id": "abedfb8b-12d1-4e31-993e-1728c48a9b49",
   "metadata": {},
   "source": [
    "### **4.9. Agrupamiento de datos**\n",
    "Para agrupar datos de acuerdo a una o varias columnas, podemos utilizar el método `groupby`.\\\n",
    "El uso de esta función nos permite realizar operaciones sobre cada uno de los grupos de datos de forma independiente."
   ]
  },
  {
   "cell_type": "code",
   "execution_count": null,
   "id": "80f39448-1e4e-4748-bd27-fd23cee21fab",
   "metadata": {},
   "outputs": [],
   "source": [
    "rocas.groupby([\"Nombre\"])"
   ]
  },
  {
   "cell_type": "code",
   "execution_count": null,
   "id": "ff5fac45-f70f-41f7-b94f-04c676df6d84",
   "metadata": {
    "tags": []
   },
   "outputs": [],
   "source": [
    "# Conteo de elementos por grupo\n",
    "rocas.groupby(\"Nombre\").count()"
   ]
  },
  {
   "cell_type": "code",
   "execution_count": null,
   "id": "8703287f-8841-4853-af79-90e2c1d6e8bc",
   "metadata": {},
   "outputs": [],
   "source": [
    "# Media por grupo\n",
    "rocas.groupby([\"Nombre\"]).mean()"
   ]
  },
  {
   "cell_type": "code",
   "execution_count": null,
   "id": "8729aad9-bce3-4866-a285-00ea4206bcd2",
   "metadata": {},
   "outputs": [],
   "source": [
    "# Media de SiO2 por grupo\n",
    "rocas.groupby([\"Nombre\"])[\"SiO2\"].mean()"
   ]
  },
  {
   "cell_type": "code",
   "execution_count": null,
   "id": "9c443b14-543e-45e1-9e49-ee409f6f07cd",
   "metadata": {},
   "outputs": [],
   "source": [
    "# Mediana por grupo\n",
    "rocas.groupby([\"Nombre\"]).median()"
   ]
  },
  {
   "cell_type": "code",
   "execution_count": null,
   "id": "54aab8f6-0b15-4a8c-894d-ae61e33ec6b8",
   "metadata": {},
   "outputs": [],
   "source": [
    "# Coeficiente de variación por grupo\n",
    "rocas.groupby(\"Nombre\").std() / rocas.groupby(\"Nombre\").mean()"
   ]
  },
  {
   "cell_type": "markdown",
   "id": "a8f7b927-18a8-47b6-8d55-067a7e688053",
   "metadata": {},
   "source": [
    "Por último, si queremos ejecutar una o varias funciones sobre columnas específicas podemos usar el método `agg`:"
   ]
  },
  {
   "cell_type": "code",
   "execution_count": null,
   "id": "16d02aa5-e528-440d-ab3a-28a4237e56d9",
   "metadata": {},
   "outputs": [],
   "source": [
    "rocas.groupby(\"Nombre\").agg({\"SiO2\": [np.max, np.min], \"Al2O3\": [np.max, np.min]})"
   ]
  }
 ],
 "metadata": {
  "kernelspec": {
   "display_name": "Python 3 (ipykernel)",
   "language": "python",
   "name": "python3"
  },
  "language_info": {
   "codemirror_mode": {
    "name": "ipython",
    "version": 3
   },
   "file_extension": ".py",
   "mimetype": "text/x-python",
   "name": "python",
   "nbconvert_exporter": "python",
   "pygments_lexer": "ipython3",
   "version": "3.8.10"
  }
 },
 "nbformat": 4,
 "nbformat_minor": 5
}
