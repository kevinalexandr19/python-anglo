{
 "cells": [
  {
   "cell_type": "markdown",
   "id": "08a1f78b-c5b0-4ede-bff1-e5e33b3d5ddc",
   "metadata": {},
   "source": [
    "# <span style=\"color:gold\">**Matplotlib**</span>\n",
    "***\n",
    "\n",
    "### **Editado por: Kevin Alexander Gómez**\n",
    "#### Contacto: kevinalexandr19@gmail.com | [Linkedin](https://www.linkedin.com/in/kevin-alexander-g%C3%B3mez-2b0263111/) | [Github](https://github.com/kevinalexandr19)\n",
    "***"
   ]
  },
  {
   "cell_type": "markdown",
   "id": "85a64587-9351-4e15-9c59-27414571d4dd",
   "metadata": {},
   "source": [
    "### **Descripción**\n",
    "\n",
    "En este tutorial, le daremos un vistazo a <span style=\"color:gold\">Matplotlib</span>, una de las librerías fundamentales usada para la visualización de datos en Python.\n",
    "\n",
    "Este Notebook es parte del proyecto [**Python para Geólogos**](https://github.com/kevinalexandr19/manual-python-geologia), y ha sido creado con la finalidad de facilitar el aprendizaje en Python para estudiantes y profesionales en el campo de la Geología.\n",
    "***"
   ]
  },
  {
   "cell_type": "markdown",
   "id": "79d5e670-a7ee-406c-a703-b0412bb864dd",
   "metadata": {},
   "source": [
    "Empezaremos importando el módulo de figuras de `matplotlib` llamado `pyplot`: \n",
    "> Usaremos `plt` como una referencia abreviada del módulo.\\\n",
    "> También importaremos `numpy`."
   ]
  },
  {
   "cell_type": "code",
   "execution_count": null,
   "id": "80dc1e09-76d8-4da7-9c3e-0f037626ed62",
   "metadata": {},
   "outputs": [],
   "source": [
    "import matplotlib.pyplot as plt\n",
    "import numpy as np"
   ]
  },
  {
   "cell_type": "markdown",
   "id": "8ce1ba4f-1787-4b9a-884c-60b3a2b3c0a7",
   "metadata": {},
   "source": [
    "Para los ejemplos de visualización, usaremos las siguientes funciones:\n",
    "- `subplots`: crea el espacio para una o varias figuras ordenadas en filas y columnas.\n",
    "- `scatter`: crea un diagrama de dispersión de puntos.\n",
    "- `plot`: crea una figura de líneas.\n",
    "- `bar`: crea un diagrama de barras.\n",
    "- `hist`: crea un histograma.\n",
    "- `boxplot` y `violinplot`: crean figuras que nos ayudan a visualizar la distribución de los datos.\n",
    "\n",
    "Matplotlib es una librería fuertemente orientada a objetos, por lo tanto, usaremos identificadores.\\\n",
    "Para identificar las figuras, usaremos los siguientes nombres:\n",
    "- `fig`: referencia el cuadro general de la figura.\n",
    "- `axs` o `ax`: referencian a las subfiguras creadas."
   ]
  },
  {
   "cell_type": "markdown",
   "id": "7c78c62c-e07d-469a-a80e-45f3aaa6b93e",
   "metadata": {},
   "source": [
    "***\n",
    "\n",
    "## **1. Diagrama de dispersión**\n",
    "***"
   ]
  },
  {
   "cell_type": "code",
   "execution_count": null,
   "id": "0b868f8a-99fe-4237-b8eb-b34389294346",
   "metadata": {},
   "outputs": [],
   "source": [
    "# Input\n",
    "x = np.random.randn(1, 50)\n",
    "y = 3*x + np.random.randn(1, 50)\n",
    "\n",
    "\n",
    "# Figura principal\n",
    "fig, ax = plt.subplots(figsize=(6, 6))\n",
    "\n",
    "# Diagrama de dispersión\n",
    "ax.scatter(x, y)\n",
    "\n",
    "plt.show()"
   ]
  },
  {
   "cell_type": "markdown",
   "id": "0409f17a-66b9-43ac-aa11-ffe5736b1315",
   "metadata": {},
   "source": [
    "## **2. Figura de líneas**\n",
    "***"
   ]
  },
  {
   "cell_type": "code",
   "execution_count": null,
   "id": "18968232-b0a0-4640-8dfa-d44525707195",
   "metadata": {},
   "outputs": [],
   "source": [
    "# Input\n",
    "x = np.arange(1, 11, 1)\n",
    "y = x ** 2\n",
    "z = x ** 3\n",
    "\n",
    "\n",
    "# Figura principal\n",
    "fig, ax = plt.subplots(figsize=(6, 6))\n",
    "\n",
    "# Figura de líneas\n",
    "ax.plot(x, y)\n",
    "ax.plot(x, z)\n",
    "\n",
    "plt.show()"
   ]
  },
  {
   "cell_type": "markdown",
   "id": "4a3c4c5e-e71e-4342-b233-aa3d9e738e02",
   "metadata": {},
   "source": [
    "Usaremos además el método `legend` para agregar una leyenda y `fontsize` para modificar el tamaño de letra en la leyenda.\\\n",
    "La leyenda usará los valores asignados en el parámetro `label` de cada figura:"
   ]
  },
  {
   "cell_type": "code",
   "execution_count": null,
   "id": "18728467-fcd0-44f2-b075-a8bf7a5a8875",
   "metadata": {},
   "outputs": [],
   "source": [
    "# Figura principal\n",
    "fig, ax = plt.subplots(figsize=(6, 6))\n",
    "\n",
    "# Figura de líneas\n",
    "ax.plot(x, y, label=\"$x^{2}$\")\n",
    "ax.plot(x, z, label=\"$x^{3}$\")\n",
    "\n",
    "# Leyenda\n",
    "ax.legend(fontsize=16)\n",
    "\n",
    "plt.show()"
   ]
  },
  {
   "cell_type": "markdown",
   "id": "d810076e-d2e4-45c7-9357-3a8794bb05be",
   "metadata": {},
   "source": [
    "## **3. Diagrama de barras**\n",
    "***"
   ]
  },
  {
   "cell_type": "code",
   "execution_count": null,
   "id": "a89f6521-f3f1-4a86-beed-6be2957757d1",
   "metadata": {},
   "outputs": [],
   "source": [
    "# Input\n",
    "x = np.array([\"A\", \"B\", \"C\"])\n",
    "y = np.random.randint(1, 100, (3,))\n",
    "\n",
    "\n",
    "# Figura principal\n",
    "fig, ax = plt.subplots(figsize=(6, 6))\n",
    "\n",
    "# Diagrama de barras\n",
    "ax.bar(x, y)\n",
    "\n",
    "plt.show()"
   ]
  },
  {
   "cell_type": "markdown",
   "id": "04a8202d-708c-4d5e-af84-9e1deb0f3a54",
   "metadata": {},
   "source": [
    "## **4. Histograma**\n",
    "***"
   ]
  },
  {
   "cell_type": "code",
   "execution_count": null,
   "id": "e2196a45-c291-4265-b345-5772dfb46cf8",
   "metadata": {},
   "outputs": [],
   "source": [
    "# Input\n",
    "x = np.random.randn(10000,)\n",
    "\n",
    "\n",
    "# Figura principal\n",
    "fig, ax = plt.subplots(figsize=(6, 6))\n",
    "\n",
    "# Histograma\n",
    "ax.hist(x, bins=20)\n",
    "\n",
    "plt.show()"
   ]
  },
  {
   "cell_type": "markdown",
   "id": "01a5bc99-6939-4511-b330-b0f1e6c5e87b",
   "metadata": {},
   "source": [
    "## **5. Boxplot**\n",
    "***"
   ]
  },
  {
   "cell_type": "code",
   "execution_count": null,
   "id": "aa5105f9-2fd9-404f-a076-02bc429b24ab",
   "metadata": {},
   "outputs": [],
   "source": [
    "# Input\n",
    "x = np.random.randn(10000,)\n",
    "y = 2*x + 1\n",
    "z = 2 - x\n",
    "\n",
    "\n",
    "# Figura principal\n",
    "fig, ax = plt.subplots(figsize=(6, 6))\n",
    "\n",
    "# Boxplot\n",
    "ax.boxplot([x, y, z])\n",
    "\n",
    "plt.show()"
   ]
  },
  {
   "cell_type": "markdown",
   "id": "ba7aba1e-4629-46a3-9f50-cb0207a761c3",
   "metadata": {},
   "source": [
    "## **6. Violinplot**\n",
    "***"
   ]
  },
  {
   "cell_type": "code",
   "execution_count": null,
   "id": "2c1230aa-b517-48f9-a605-18cdceb04107",
   "metadata": {},
   "outputs": [],
   "source": [
    "# Input\n",
    "x = np.random.randn(10000,)\n",
    "y = 2*x + 1\n",
    "z = 2 - x\n",
    "\n",
    "\n",
    "# Figura principal\n",
    "fig, ax = plt.subplots(figsize=(6, 6))\n",
    "\n",
    "# Violinplot\n",
    "ax.violinplot([x, y, z])\n",
    "\n",
    "plt.show()"
   ]
  },
  {
   "cell_type": "markdown",
   "id": "e281c8d2-8483-4b98-a388-a1a0307cd984",
   "metadata": {},
   "source": [
    "## **7. Detalles adicionales en las figuras**\n",
    "***\n",
    "\n",
    "### **7.1. Diagrama de dispersión: puntos de tamaño variable**\n",
    "Usaremos el parámetro `s` o `size` de la función `scatter` para modificar el tamaño de los puntos. Este parámetro puede tomar un valor constante o un arreglo de valores."
   ]
  },
  {
   "cell_type": "code",
   "execution_count": null,
   "id": "0ccfeec1-fd86-4931-aef1-05985ce5edef",
   "metadata": {},
   "outputs": [],
   "source": [
    "# Input\n",
    "x = np.random.randn(1000)\n",
    "y = 3*x + np.random.randn(1000)\n",
    "z = np.random.randint(5, 100, (1000))\n",
    "\n",
    "\n",
    "# Figura principal\n",
    "fig, ax = plt.subplots(figsize=(6, 6))\n",
    "\n",
    "# Diagrama de dispersión\n",
    "im = ax.scatter(x, y, s=z)\n",
    "\n",
    "plt.show()"
   ]
  },
  {
   "cell_type": "markdown",
   "id": "a9ea416f-940a-4335-8788-0c42311bacc1",
   "metadata": {},
   "source": [
    "Para agregar un borde de color a los puntos, usaremos el parámetro `edgecolor` y para agregarles transparencia, usaremos el parámetro `alpha`:"
   ]
  },
  {
   "cell_type": "code",
   "execution_count": null,
   "id": "63cea502-c927-490e-bd00-a5cda282ede1",
   "metadata": {},
   "outputs": [],
   "source": [
    "# Figura principal\n",
    "fig, ax = plt.subplots(figsize=(6, 6))\n",
    "\n",
    "# Diagrama de dispersión\n",
    "im = ax.scatter(x, y, s=z, edgecolor=\"black\", alpha=0.8)\n",
    "\n",
    "plt.show()"
   ]
  },
  {
   "cell_type": "markdown",
   "id": "35b95853-0e84-48c8-851d-f6653995ae81",
   "metadata": {},
   "source": [
    "Empezaremos referenciando la figura en `ax` usando la variable `im`.\\\n",
    "Luego, usaremos el método `legend_elements` para obtener los símbolos `handles` y etiquetas `labels` que usaremos en la creación de la leyenda.\\\n",
    "Por último, crearemos la leyenda usando la función `legend` y los parámetros mencionados anteriormente."
   ]
  },
  {
   "cell_type": "code",
   "execution_count": null,
   "id": "7c39b384-cf4b-44c1-80dd-1cfed5868335",
   "metadata": {},
   "outputs": [],
   "source": [
    "# Figura principal\n",
    "fig, ax = plt.subplots(figsize=(6, 6))\n",
    "\n",
    "# Diagrama de dispersión\n",
    "im = ax.scatter(x, y, s=z, edgecolor=\"black\", alpha=0.8)\n",
    "\n",
    "# Leyenda\n",
    "handles, labels = im.legend_elements(prop=\"sizes\")\n",
    "ax.legend(handles, labels)\n",
    "\n",
    "plt.show()"
   ]
  },
  {
   "cell_type": "markdown",
   "id": "8711746b-39c6-4159-8b70-18cc0937854c",
   "metadata": {},
   "source": [
    "### **7.2. Diagrama de dispersión: barra de colores**\n",
    "\n",
    "Primero, generaremos un diagrama de dispersión en el cual los puntos `x` e `y` estarán coloreados de acuerdo a un conjunto de datos `z`.\\\n",
    "Para esto, utilizaremos un mapa de colores y lo asignaremos a la variable `cmap`."
   ]
  },
  {
   "cell_type": "code",
   "execution_count": null,
   "id": "a9dd6863-82f2-4b62-82ac-247a6b8a7aa9",
   "metadata": {},
   "outputs": [],
   "source": [
    "# Input\n",
    "x = np.random.randn(1000)\n",
    "y = 3*x + np.random.randn(1000)\n",
    "z = np.random.randn(1000)\n",
    "\n",
    "# Mapa de colores\n",
    "cmap = plt.cm.inferno\n",
    "\n",
    "\n",
    "# Figura principal\n",
    "fig, ax = plt.subplots(figsize=(6, 6))\n",
    "\n",
    "# Diagrama de dispersión\n",
    "im = ax.scatter(x, y, c=z, cmap=cmap, s=50, edgecolor=\"black\")\n",
    "\n",
    "plt.show()"
   ]
  },
  {
   "cell_type": "markdown",
   "id": "2d78e0a1-6d00-44c2-b09f-be7f81f3465d",
   "metadata": {},
   "source": [
    "Para agregar una barra de colores, usaremos el método `colorbar` y lo asignaremos a una variable llamada `cbar`.\\\n",
    "Este método utiliza los siguientes parámetros:\n",
    "- `mappable`: figura de la cual se describirán los colores\n",
    "- `ax` (opcional): la barra puede obtener espacio de una o varias figuras, estas figuras se señalan usando este parámetro"
   ]
  },
  {
   "cell_type": "code",
   "execution_count": null,
   "id": "be4cde6f-edad-44f4-8e1a-bf47ca741753",
   "metadata": {},
   "outputs": [],
   "source": [
    "# Figura principal\n",
    "fig, ax = plt.subplots(figsize=(6, 6))\n",
    "\n",
    "# Diagrama de dispersión\n",
    "im = ax.scatter(x, y, c=z, cmap=cmap, s=50, edgecolor=\"black\")\n",
    "\n",
    "# Barra de colores\n",
    "cbar = fig.colorbar(im, ax=ax)\n",
    "cbar.ax.set_title(\"Cu(%)\", fontsize=18, y=1.01)\n",
    "\n",
    "plt.show()"
   ]
  },
  {
   "cell_type": "markdown",
   "id": "14390d4e-f519-4dc0-bea6-93276f2a0e4c",
   "metadata": {},
   "source": [
    "### **7.3. Diagrama de barras: colocar el valor de frecuencia encima de cada barra**\n",
    "Primero, crearemos un diagrama de barras básico:"
   ]
  },
  {
   "cell_type": "code",
   "execution_count": null,
   "id": "296d5850-43b7-4d56-86b0-623736b8cfab",
   "metadata": {},
   "outputs": [],
   "source": [
    "# Input\n",
    "x = [\"A\", \"B\", \"C\"]\n",
    "y = np.random.randint(10, 100, (3,))\n",
    "\n",
    "\n",
    "# Figura principal\n",
    "fig, ax = plt.subplots(figsize=(6, 6))\n",
    "\n",
    "# Diagrama de barras\n",
    "ax.bar(x, y)\n",
    "\n",
    "plt.show()"
   ]
  },
  {
   "cell_type": "markdown",
   "id": "d2db6dba-7445-4293-a209-c94ebe24145e",
   "metadata": {},
   "source": [
    "Ahora, removeremos los ticks del eje y:"
   ]
  },
  {
   "cell_type": "code",
   "execution_count": null,
   "id": "ecb595ae-d266-473c-a0ec-bccb1de43ff2",
   "metadata": {},
   "outputs": [],
   "source": [
    "# Figura principal\n",
    "fig, ax = plt.subplots(figsize=(6, 6))\n",
    "\n",
    "# Diagrama de barras\n",
    "ax.bar(x, y)\n",
    "\n",
    "# Ticks del eje y\n",
    "ax.set_yticks([])\n",
    "\n",
    "plt.show()"
   ]
  },
  {
   "cell_type": "markdown",
   "id": "e72b1dfe-d463-4a8f-94c0-14d76c9b7d30",
   "metadata": {},
   "source": [
    "Tenemos que remover el cuadro que encierra a la figura:\n",
    "- Usando la función `gca`, obtenemos una referencia del espacio usado en la figura.\n",
    "- A partir de esta referencia, llamamos el atributo `spines`, que corresponde a las líneas del cuadro que encierran la figura.\n",
    "- Luego, usaremos el método `values` para obtener una lista con las referencias de cada uno de los lados del cuadro.\n",
    "- Por último, usaremos un bucle que itere a través de esta lista de lados y a través del método `set_visible(False)` pasarán a estar ocultas en la figura."
   ]
  },
  {
   "cell_type": "code",
   "execution_count": null,
   "id": "ea1841bb-feb9-48d2-ba6c-d8fc3637c06a",
   "metadata": {},
   "outputs": [],
   "source": [
    "# Figura principal\n",
    "fig, ax = plt.subplots(figsize=(6, 6))\n",
    "\n",
    "# Diagrama de barras\n",
    "ax.bar(x, y)\n",
    "\n",
    "# Ticks del eje y\n",
    "ax.set_yticks([])\n",
    "\n",
    "# Removemos el cuadro\n",
    "for spine in plt.gca().spines.values():\n",
    "    spine.set_visible(False)\n",
    "\n",
    "plt.show()"
   ]
  },
  {
   "cell_type": "markdown",
   "id": "42638cd4-0be8-49da-a868-8e626e032436",
   "metadata": {},
   "source": [
    "Ahora que ya removimos algunos elementos innecesarios, colocaremos el texto de la frecuencia encima de cada una de las barras:\n",
    "- Empezaremos referenciando el diagrama de barras usando la variable `barra`.\n",
    "- Luego, usando un bucle, iteraremos a través de cada una de las barras en el diagrama `barra` para colocar el texto.\n",
    "- Usando la función `text`, colocaremos un texto cuyas coordenadas serán extraídas a partir de dos funciones:\n",
    "    - `get_x + get_width / 2` para la coordenada x\n",
    "    - `get_height + 1` para la coordenada y\n",
    "- El string del texto será una transformación de la altura de la barra (pues esta representa la frecuencia).\n",
    "- Por último, centraremos el texto con el parámetro `ha` y agrandaremos el tamaño del texto con `fontsize`."
   ]
  },
  {
   "cell_type": "code",
   "execution_count": null,
   "id": "aa14a89d-a867-4e74-b17d-7d57b16b35f0",
   "metadata": {},
   "outputs": [],
   "source": [
    "# Figura principal\n",
    "fig, ax = plt.subplots(figsize=(6, 6))\n",
    "\n",
    "# Diagrama de barras\n",
    "barra = ax.bar(x, y)\n",
    "\n",
    "# Ticks del eje y\n",
    "ax.set_yticks([])\n",
    "\n",
    "# Removemos el cuadro\n",
    "for spine in plt.gca().spines.values():\n",
    "    spine.set_visible(False)\n",
    "    \n",
    "# Texto\n",
    "for bar in barra:\n",
    "    ax.text(bar.get_x() + bar.get_width()/2,\n",
    "            bar.get_height() + 1,\n",
    "            str(int(bar.get_height())),\n",
    "            ha=\"center\", fontsize=15)\n",
    "\n",
    "plt.show()"
   ]
  },
  {
   "cell_type": "markdown",
   "id": "1160f7ae-2b19-48d5-b769-55a9b6ed3257",
   "metadata": {},
   "source": [
    "## **8. Guardar una figura de `matplotlib`**\n",
    "***\n",
    "Podemos guardar una figura en diferentes formatos de archivo y usando una resolución de baja o alta calidad.\n",
    "> Nota: usaremos un fondo oscuro en esta imagen para que contraste con el tema oscuro de Jupyter Lab.\n",
    "\n",
    "El formato en el cual podemos guardar una figura puede ser `png`, `jpeg`, `pdf`, `svg`, etc."
   ]
  },
  {
   "cell_type": "code",
   "execution_count": null,
   "id": "5dfb1711-8493-419d-8578-b9b80cdf63d6",
   "metadata": {},
   "outputs": [],
   "source": [
    "# Input\n",
    "x = np.random.randn(1, 50)\n",
    "y = 3*x + np.random.randn(1, 50)\n",
    "\n",
    "# Fondo oscuro en una figura\n",
    "plt.style.use(\"dark_background\")\n",
    "\n",
    "# Figura principal\n",
    "fig, ax = plt.subplots(figsize=(6, 6))\n",
    "\n",
    "# Diagrama de dispersión\n",
    "ax.scatter(x, y)\n",
    "\n",
    "plt.show()"
   ]
  },
  {
   "cell_type": "markdown",
   "id": "bac62cf6-6ab4-477b-b54d-aff0ff9d70fb",
   "metadata": {},
   "source": [
    "Una vez creada la figura, podemos usar la función `savefig` sobre la variable `fig` que representa a toda la figura principal.\\\n",
    "El parámetro `dpi` (dots per inch) controla la resolución de la figura:"
   ]
  },
  {
   "cell_type": "code",
   "execution_count": null,
   "id": "854bfd51-5533-4675-abfe-7f39ec2d8c82",
   "metadata": {},
   "outputs": [],
   "source": [
    "fig.dpi"
   ]
  },
  {
   "cell_type": "markdown",
   "id": "cf71e812-ecf7-440a-84dd-f9fc31bdf4fd",
   "metadata": {},
   "source": [
    "Debemos de tener en cuenta que cuanto más alto es el valor de `dpi`, más tiempo tardará Python en procesar y guardar la imagen.\\\n",
    "En este ejemplo, guardaremos la imagen en formato `png` y usando un `dpi` de 144 (el doble)."
   ]
  },
  {
   "cell_type": "code",
   "execution_count": null,
   "id": "507a2e0a-a219-4326-afe5-5e492499f151",
   "metadata": {},
   "outputs": [],
   "source": [
    "fig.savefig(\"figura.png\", dpi=144)"
   ]
  }
 ],
 "metadata": {
  "kernelspec": {
   "display_name": "Python 3 (ipykernel)",
   "language": "python",
   "name": "python3"
  },
  "language_info": {
   "codemirror_mode": {
    "name": "ipython",
    "version": 3
   },
   "file_extension": ".py",
   "mimetype": "text/x-python",
   "name": "python",
   "nbconvert_exporter": "python",
   "pygments_lexer": "ipython3",
   "version": "3.8.10"
  }
 },
 "nbformat": 4,
 "nbformat_minor": 5
}
