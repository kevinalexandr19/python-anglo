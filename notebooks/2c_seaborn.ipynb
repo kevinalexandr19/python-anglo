{
 "cells": [
  {
   "cell_type": "markdown",
   "id": "0a016d31-9ea7-4553-a003-2227b093dea3",
   "metadata": {},
   "source": [
    "# <span style=\"color:gold\">**Seaborn**</span>\n",
    "***\n",
    "\n",
    "### **Editado por: Kevin Alexander Gómez**\n",
    "#### Contacto: kevinalexandr19@gmail.com | [Linkedin](https://www.linkedin.com/in/kevin-alexander-g%C3%B3mez-2b0263111/) | [Github](https://github.com/kevinalexandr19)\n",
    "***"
   ]
  },
  {
   "cell_type": "markdown",
   "id": "0baa6c7e-5faa-4692-a86f-6af80e023a0d",
   "metadata": {},
   "source": [
    "### **Descripción**\n",
    "\n",
    "En este tutorial, le daremos un vistazo a <span style=\"color:gold\">Seaborn</span>, una librería de Python para la visualización de datos.\n",
    "\n",
    "Este Notebook es parte del proyecto [**Python para Geólogos**](https://github.com/kevinalexandr19/manual-python-geologia), y ha sido creado con la finalidad de facilitar el aprendizaje en Python para estudiantes y profesionales en el campo de la Geología.\n",
    "***"
   ]
  },
  {
   "cell_type": "markdown",
   "id": "41f9daa5-adf5-4898-b9bd-3cfab07296d2",
   "metadata": {},
   "source": [
    "Empezaremos importando el módulo de `seaborn`:\n",
    "> Usaremos `sns` como una referencia abreviada de la librería.\\\n",
    "> También importaremos `matplotlib.pyplot` y `pandas`.\\\n",
    "> Usaremos la información geoquímica de `rocas.csv` para crear los gráficos."
   ]
  },
  {
   "cell_type": "code",
   "execution_count": null,
   "id": "26b6768d-b9df-40f2-9fd3-3ef0bae1bbbf",
   "metadata": {},
   "outputs": [],
   "source": [
    "import seaborn as sns\n",
    "import matplotlib.pyplot as plt\n",
    "import pandas as pd"
   ]
  },
  {
   "cell_type": "code",
   "execution_count": null,
   "id": "e2938f9c-6356-408c-bef8-264b4646adcd",
   "metadata": {},
   "outputs": [],
   "source": [
    "data = pd.read_csv(\"files/rocas.csv\")"
   ]
  },
  {
   "cell_type": "code",
   "execution_count": null,
   "id": "4f546e75-552e-49fa-a77e-c9dc3dcf0165",
   "metadata": {},
   "outputs": [],
   "source": [
    "data.head()"
   ]
  },
  {
   "cell_type": "markdown",
   "id": "97b387fe-a051-433d-8fb8-17c226e41b86",
   "metadata": {},
   "source": [
    "En Seaborn, existen diferentes tipos de gráficos que podemos utilizar:\n",
    "\n",
    "<img src=\"https://seaborn.pydata.org/_images/function_overview_8_0.png\" alt=\"Tipos de gráficos en Seaborn\" width=\"700\"/>"
   ]
  },
  {
   "cell_type": "markdown",
   "id": "bd1c1547-3cad-466b-a937-03110c095cf0",
   "metadata": {},
   "source": [
    "Para este tutorial, nos centraremos en `scatterplot`, `lineplot`, `histplot`, `kdeplot`, `boxplot`, `violinplot` y `barplot`.\n",
    "\n",
    "Al crear figuras en Seaborn, usaremos los siguientes parámetros:\n",
    "- `data`: es el cuadro (DataFrame de Pandas) que contiene la información.\n",
    "- `ax`: hace referencia a la figura sobre la cual colocaremos el gráfico.\n",
    "- `x`, `y`: son los ejes del gráfico y representan una columna de la información."
   ]
  },
  {
   "cell_type": "markdown",
   "id": "b2f6de9e-04c4-43ca-bf59-06f052c18b78",
   "metadata": {},
   "source": [
    "### **1. Diagrama de dispersión usando `scatterplot`**\n",
    "***\n",
    "Crearemos un diagrama de dispersión con los datos de hierro total (FeOT) y manganeso (MnO):"
   ]
  },
  {
   "cell_type": "code",
   "execution_count": null,
   "id": "acb3d5e5-d638-4cb5-ad1e-e9d01c5620f0",
   "metadata": {},
   "outputs": [],
   "source": [
    "sns.scatterplot(data=data, x=\"FeOT\", y=\"MnO\")\n",
    "plt.show()"
   ]
  },
  {
   "cell_type": "markdown",
   "id": "c7b578ae-8ab7-420b-a735-fd91592cd6f3",
   "metadata": {},
   "source": [
    "Podemos incluir el gráfico en un `subplot` usando la referencia `ax`:"
   ]
  },
  {
   "cell_type": "code",
   "execution_count": null,
   "id": "1cb23fd7-3e44-4dbc-b944-0ec7a8b48520",
   "metadata": {},
   "outputs": [],
   "source": [
    "fig, ax = plt.subplots(figsize=(8, 6))\n",
    "sns.scatterplot(ax=ax, data=data, x=\"FeOT\", y=\"MnO\")\n",
    "plt.show()"
   ]
  },
  {
   "cell_type": "markdown",
   "id": "a1b36be8-a66c-4296-a14f-a674d79841b3",
   "metadata": {},
   "source": [
    "Mejoraremos la calidad del gráfico:\n",
    "- Modificando el tamaño de los puntos con el parámetro `s`.\n",
    "- Agregando un borde oscuro a los puntos con el parámetro `edgecolor`.\n",
    "- Cambiando el tamaño del texto a través del parámetro `fontsize`.\n",
    "- Agregando un título con `set_title`.\n",
    "- Por último, agregaremos una grilla con el método `grid`."
   ]
  },
  {
   "cell_type": "code",
   "execution_count": null,
   "id": "13b67303-2a61-4489-aa71-88fd0f3cfa11",
   "metadata": {},
   "outputs": [],
   "source": [
    "fig, ax = plt.subplots(figsize=(8, 6))\n",
    "sns.scatterplot(ax=ax, data=data, x=\"FeOT\", y=\"MnO\", s=12, edgecolor=\"black\")\n",
    "\n",
    "ax.set_xlabel(\"FeOT (%)\", fontsize=15)\n",
    "ax.set_ylabel(\"MnO (%)\", fontsize=15)\n",
    "ax.set_title(\"Diagrama FeOT - MnO\", fontsize=20)\n",
    "\n",
    "ax.grid()\n",
    "plt.show()"
   ]
  },
  {
   "cell_type": "markdown",
   "id": "a94eb4d0-7cf8-4766-9987-4a5b1b29dc58",
   "metadata": {},
   "source": [
    "### **2. Figura de líneas usando `lineplot`**\n",
    "***\n",
    "En un taladro de perforación, se obtuvieron las siguientes leyes de Au (en g/T) cada 1 m:\\\n",
    "0.20, 0.25, 0.35, 0.21, 1.20, 0.80, 2.10, 0.40, 0.24, 12.40, 5.60, 2.50.\n",
    "\n",
    "Usando un diagrama de líneas con `lineplot`, mostraremos la distribución de las leyes de Au a lo largo del taladro:"
   ]
  },
  {
   "cell_type": "code",
   "execution_count": null,
   "id": "ed2bbbe2-8902-49bc-854b-46663d1e7807",
   "metadata": {
    "tags": []
   },
   "outputs": [],
   "source": [
    "au = [0.2, 0.25, 0.35, 0.21, 1.2, 0.8, 2.1, 0.4, 0.24, 12.4, 5.6, 2.5]\n",
    "distancia = [i for i in range(len(au))]"
   ]
  },
  {
   "cell_type": "code",
   "execution_count": null,
   "id": "0a78fbdb-9612-4057-863c-919444b0a18b",
   "metadata": {},
   "outputs": [],
   "source": [
    "fig, ax = plt.subplots(figsize=(10, 5))\n",
    "sns.lineplot(ax=ax, x=distancia, y=au)\n",
    "\n",
    "ax.set_xlabel(\"Distancia (m)\", fontsize=16)\n",
    "ax.set_ylabel(\"Au (g/T)\", fontsize=16)\n",
    "ax.set_title(\"Ley de Au en el taladro\", fontsize=20)\n",
    "\n",
    "plt.show()"
   ]
  },
  {
   "cell_type": "markdown",
   "id": "9b714462-f47c-4a61-9db7-d45197a42dd9",
   "metadata": {},
   "source": [
    "### **3. Histograma o `histplot`**\n",
    "***\n",
    "Usaremos los valores de sílice (SiO2) para crear el histograma:"
   ]
  },
  {
   "cell_type": "code",
   "execution_count": null,
   "id": "35664c4f-3268-41e7-8085-1511c4b0e03e",
   "metadata": {},
   "outputs": [],
   "source": [
    "fig, ax = plt.subplots(figsize=(10, 5))\n",
    "sns.histplot(ax=ax, data=data, x=\"SiO2\")\n",
    "\n",
    "ax.set_xlabel(\"SiO2 (%)\", fontsize=16)\n",
    "ax.set_ylabel(\"Frecuencia\", fontsize=16)\n",
    "ax.set_title(\"Distribución de sílice en las muestras\", fontsize=20)\n",
    "\n",
    "plt.show()"
   ]
  },
  {
   "cell_type": "markdown",
   "id": "c081c468-9154-4479-a3a4-561dc502449e",
   "metadata": {},
   "source": [
    "### **4. Distribución de probabilidad usando `kdeplot`**\n",
    "***\n",
    "Visualizaremos el histograma que creamos en la sección anterior pero ahora, usaremos un diagrama de distribución de probabilidad.\n",
    "\n",
    "Reusando el bloque de código anterior, cambiamos `histplot` por `kdeplot` y activamos el parámetro `fill=True` para colorear el área debajo de la curva:"
   ]
  },
  {
   "cell_type": "code",
   "execution_count": null,
   "id": "61db8d29-06d0-465a-8dfb-9421e7e3bf53",
   "metadata": {},
   "outputs": [],
   "source": [
    "fig, ax = plt.subplots(figsize=(10, 5))\n",
    "sns.kdeplot(ax=ax, data=data, x=\"SiO2\", fill=True)\n",
    "\n",
    "ax.set_xlabel(\"SiO2 (%)\", fontsize=16)\n",
    "ax.set_ylabel(\"Frecuencia\", fontsize=16)\n",
    "ax.set_title(\"Distribución de sílice en las muestras\", fontsize=20)\n",
    "\n",
    "plt.show()"
   ]
  },
  {
   "cell_type": "markdown",
   "id": "75dcc053-86a9-4cae-ad95-4c02da718eb9",
   "metadata": {},
   "source": [
    "### **5. Distribución de datos usando `boxplot` y `violinplot`**\n",
    "***\n",
    "Usaremos `boxplot` para observar la distribución de valores de SiO2 y Al2O3:"
   ]
  },
  {
   "cell_type": "code",
   "execution_count": null,
   "id": "fa551de6-74b5-4103-b340-7c377b7157e3",
   "metadata": {},
   "outputs": [],
   "source": [
    "fig, ax = plt.subplots(figsize=(10, 5))\n",
    "sns.boxplot(data=data[[\"SiO2\", \"Al2O3\"]])\n",
    "\n",
    "ax.set_ylabel(\"Concentración (%)\", fontsize=16)\n",
    "ax.set_title(\"Distribución de valores de SiO2 y Al2O3\", fontsize=20)\n",
    "\n",
    "plt.show()"
   ]
  },
  {
   "cell_type": "markdown",
   "id": "b4764c78-36e9-4f0a-afa5-484eba9c8618",
   "metadata": {},
   "source": [
    "Podemos cambiar la orientación con el parámetro `orient`:"
   ]
  },
  {
   "cell_type": "code",
   "execution_count": null,
   "id": "0286ab46-1a40-4f07-9482-9af9c1db7652",
   "metadata": {},
   "outputs": [],
   "source": [
    "fig, ax = plt.subplots(figsize=(10, 5))\n",
    "sns.boxplot(data=data[[\"SiO2\", \"Al2O3\"]], orient=\"h\")\n",
    "\n",
    "ax.set_xlabel(\"Concentración (%)\", fontsize=16)\n",
    "ax.set_title(\"Distribución de valores de SiO2 y Al2O3\", fontsize=20)\n",
    "\n",
    "plt.show()"
   ]
  },
  {
   "cell_type": "markdown",
   "id": "41e94460-ee56-4c09-91a2-99d9138e7273",
   "metadata": {},
   "source": [
    "Si deseamos tener un `boxplot` y a la vez observar la distribución de probabilidad, usaremos un `violinplot`.\n",
    "\n",
    "Reusando el bloque de código anterior, cambiamos `boxplot` por `violinplot`:"
   ]
  },
  {
   "cell_type": "code",
   "execution_count": null,
   "id": "faf7a142-2127-4b58-94b1-8a61a8f0410c",
   "metadata": {},
   "outputs": [],
   "source": [
    "fig, ax = plt.subplots(figsize=(10, 5))\n",
    "sns.violinplot(data=data[[\"SiO2\", \"Al2O3\"]], orient=\"h\")\n",
    "\n",
    "ax.set_xlabel(\"Concentración (%)\", fontsize=16)\n",
    "ax.set_title(\"Distribución de valores de SiO2 y Al2O3\", fontsize=20)\n",
    "\n",
    "plt.show()"
   ]
  },
  {
   "cell_type": "markdown",
   "id": "4dbc7d28-0c76-49a6-97d0-76ed1d7ae92b",
   "metadata": {},
   "source": [
    "### **6. Diagrama de barras usando `barplot`**\n",
    "***\n",
    "Se tienen 5 vetas A, B, C, D y E de oro con las siguientes leyes de Au en promedio (g/T): 2.50, 3.15, 2.25, 5.46 y 3.84.\n",
    "\n",
    "Usando un diagrama de barras, compararemos las leyes de las vetas:"
   ]
  },
  {
   "cell_type": "code",
   "execution_count": null,
   "id": "30b99b05-1195-4c65-b682-de1c5da3fa98",
   "metadata": {},
   "outputs": [],
   "source": [
    "vetas = [2.5, 3.15, 2.25, 5.46, 3.84]\n",
    "nombres = [\"A\", \"B\", \"C\", \"D\", \"E\"]"
   ]
  },
  {
   "cell_type": "code",
   "execution_count": null,
   "id": "e4aa6d85-b096-4e9e-bccb-08fda0c53c3f",
   "metadata": {},
   "outputs": [],
   "source": [
    "fig, ax = plt.subplots(figsize=(10, 6))\n",
    "sns.barplot(x=nombres, y=vetas)\n",
    "\n",
    "ax.set_ylabel(\"Ley de Au (g/T)\", fontsize=16)\n",
    "ax.set_title(\"Leyes promedio de vetas de Au\", fontsize=20)\n",
    "\n",
    "plt.show()"
   ]
  },
  {
   "cell_type": "markdown",
   "id": "949c44da-71fb-4f5b-bfeb-c3222c862910",
   "metadata": {},
   "source": [
    "### **7. Gráficos usando categorías como colores**\n",
    "***\n",
    "La data geoquímica que tenemos se divide en 2 tipos de rocas: peridotitas y granodioritas:"
   ]
  },
  {
   "cell_type": "code",
   "execution_count": null,
   "id": "b67284a4-77ac-43c4-bcf8-c91e27bcc3c9",
   "metadata": {},
   "outputs": [],
   "source": [
    "data.sample(5)"
   ]
  },
  {
   "cell_type": "markdown",
   "id": "fde989bd-04b5-42ec-b0d2-fb0acd08bb8e",
   "metadata": {},
   "source": [
    "Reusando el código del histograma, compararemos la distribución de sílice de ambos tipos de rocas:"
   ]
  },
  {
   "cell_type": "code",
   "execution_count": null,
   "id": "f724bfe1-19e5-4529-880a-08afe8e5e04c",
   "metadata": {},
   "outputs": [],
   "source": [
    "fig, ax = plt.subplots(figsize=(10, 5))\n",
    "sns.histplot(ax=ax, data=data, x=\"SiO2\")\n",
    "\n",
    "ax.set_xlabel(\"SiO2 (%)\", fontsize=16)\n",
    "ax.set_ylabel(\"Frecuencia\", fontsize=16)\n",
    "ax.set_title(\"Distribución de sílice en las muestras\", fontsize=20)\n",
    "\n",
    "plt.show()"
   ]
  },
  {
   "cell_type": "markdown",
   "id": "22a50058-6058-43bc-9795-023eb8c02738",
   "metadata": {},
   "source": [
    "Notamos que existen 2 modas en el histograma. Podemos diferenciar el histograma usando una variable categórica que, en este caso, será el tipo de roca (columna `Nombre`).\n",
    "\n",
    "Reusando el código del bloque anterior, agregaremos el parámetro `hue` (color) y `palette` para colorear ambos histogramas de verde y rojo:"
   ]
  },
  {
   "cell_type": "code",
   "execution_count": null,
   "id": "54d3ebbf-a9f2-4b09-b199-babfc284767a",
   "metadata": {},
   "outputs": [],
   "source": [
    "fig, ax = plt.subplots(figsize=(10, 5))\n",
    "sns.histplot(ax=ax, data=data, x=\"SiO2\", hue=\"Nombre\", palette={\"Peridotita\": \"green\", \"Granodiorita\": \"red\"})\n",
    "\n",
    "ax.set_xlabel(\"SiO2 (%)\", fontsize=16)\n",
    "ax.set_ylabel(\"Frecuencia\", fontsize=16)\n",
    "ax.set_title(\"Distribución de sílice en las muestras\", fontsize=20)\n",
    "\n",
    "plt.show()"
   ]
  }
 ],
 "metadata": {
  "kernelspec": {
   "display_name": "Python 3 (ipykernel)",
   "language": "python",
   "name": "python3"
  },
  "language_info": {
   "codemirror_mode": {
    "name": "ipython",
    "version": 3
   },
   "file_extension": ".py",
   "mimetype": "text/x-python",
   "name": "python",
   "nbconvert_exporter": "python",
   "pygments_lexer": "ipython3",
   "version": "3.8.10"
  }
 },
 "nbformat": 4,
 "nbformat_minor": 5
}
