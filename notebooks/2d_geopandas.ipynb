{
 "cells": [
  {
   "cell_type": "markdown",
   "id": "00719ac3-584b-445d-a47b-0b04c6583f72",
   "metadata": {
    "tags": []
   },
   "source": [
    "# <span style=\"color:gold\">**Geopandas**</span>\n",
    "***\n",
    "\n",
    "### **Editado por: Kevin Alexander Gómez**\n",
    "#### Contacto: kevinalexandr19@gmail.com | [Linkedin](https://www.linkedin.com/in/kevin-alexander-g%C3%B3mez-2b0263111/) | [Github](https://github.com/kevinalexandr19)\n",
    "***"
   ]
  },
  {
   "cell_type": "markdown",
   "id": "f90de84a-7461-4c1e-a047-bc33ce1f6889",
   "metadata": {
    "tags": []
   },
   "source": [
    "### **Descripción**\n",
    "\n",
    "En este tutorial, revisaremos las funcionalidades básicas de <span style=\"color:gold\">Geopandas</span>.\n",
    "\n",
    "Este notebook es parte del proyecto [**Python para Geólogos**](https://github.com/kevinalexandr19/manual-python-geologia), y ha sido creado con la finalidad de facilitar el aprendizaje en Python para estudiantes y profesionales en el campo de la Geología.\n"
   ]
  },
  {
   "cell_type": "markdown",
   "id": "51256469-ad2a-4cc7-bbb4-78d7268c4ccf",
   "metadata": {
    "tags": []
   },
   "source": [
    "## **¿Qué es Geopandas?**\n",
    "***\n",
    "<span style=\"color:gold\">Geopandas</span> es una librería de Python que extiende las funcionalidades de <span style=\"color:gold\">Pandas</span> para que pueda ser usado en el análisis de datos geoespaciales.\\\n",
    "Las operaciones espaciales (con objetos geométricos) son realizados a través de <span style=\"color:gold\">Shapely</span>."
   ]
  },
  {
   "cell_type": "markdown",
   "id": "aaa122c0-3466-47ed-951e-79fee386e23a",
   "metadata": {
    "tags": []
   },
   "source": [
    "### **1. `GeoDataFrame` y `GeoSeries`**\n",
    "\n",
    "La estructura de datos principal en Geopandas es el `GeoDataFrame`, una subclase del `DataFrame` de Pandas, que puede almacenar columnas de geometría y realizar operaciones espaciales.\\\n",
    "Una `GeoSeries` es una subclase de la `Series` de Pandas, que maneja las geometrías.\\\n",
    "En resumen, el `GeoDataFrame` es una combinación de las `Series` de Pandas, con datos tradicionales (numéricos, lógicos, etc.) y las `GeoSeries` de Geopandas, con geometrías (puntos, líneas, polígonos, etc.).\n",
    "\n",
    "<img src=\"https://geopandas.org/en/stable/_images/dataframe.svg\" style=\"background:white\" width=\"750px\"/>\n",
    "\n",
    "Una `GeoSeries` puede contener cualquier tipo de geometría y tiene un atributo `crs`, que corresponde al sistema de coordenadas usado para representar y proyectar la información espacial (CRS es una abreviación de Coordinate Reference System).\\\n",
    "En resumen, cada `GeoSeries` en un `GeoDataFrame` puede estar en una proyección diferente, permitiendo tener múltiples proyecciones de la misma geometría.\n",
    "\n",
    "Solo se puede tener una `GeoSeries` como geometría activa dentro del `GeoDataFrame`, esto significa que todas las operaciones geométricas realizadas en el `GeoDataFrame` operan sobre esta columna activa."
   ]
  },
  {
   "cell_type": "markdown",
   "id": "1e8b930b-9436-4e2e-9f3c-db3fd1254b3a",
   "metadata": {},
   "source": [
    "### **2. ¿Cómo abrir un shapefile en Python?**\n",
    "\n",
    "Podemos abrir un shapefile usando Geopandas, a través de la función `read_file`:\n",
    "> Abriremos el contenido de `countries` dentro de la carpeta `files`, y lo asignaremos a la variable `gdf`."
   ]
  },
  {
   "cell_type": "code",
   "execution_count": null,
   "id": "1c197812-8fae-443c-a163-a0e008d8881d",
   "metadata": {},
   "outputs": [],
   "source": [
    "# Desactivamos las advertencias de Python, innecesarias en este tutorial\n",
    "import warnings\n",
    "warnings.filterwarnings(\"ignore\")\n",
    "\n",
    "import geopandas as gpd"
   ]
  },
  {
   "cell_type": "code",
   "execution_count": null,
   "id": "af4a7cfb-80ab-4ee9-bc16-b1baa8e0e220",
   "metadata": {},
   "outputs": [],
   "source": [
    "gdf = gpd.read_file(\"files/countries\")"
   ]
  },
  {
   "cell_type": "markdown",
   "id": "1f01b915-7a88-4d35-923a-f128a078e4f4",
   "metadata": {},
   "source": [
    "Usaremos el método `head` (igual que en Pandas) para observar las 5 primeras filas del GeoDataFrame:"
   ]
  },
  {
   "cell_type": "code",
   "execution_count": null,
   "id": "ba6e9b31-cfa3-46d7-a9db-24d5f2bae8c4",
   "metadata": {},
   "outputs": [],
   "source": [
    "gdf.head()"
   ]
  },
  {
   "cell_type": "code",
   "execution_count": null,
   "id": "5b3ddcff-8cce-441d-ba9d-e62fdbe259fb",
   "metadata": {},
   "outputs": [],
   "source": [
    "print(f\"Total de países: {len(gdf)}\")"
   ]
  },
  {
   "cell_type": "markdown",
   "id": "bf4a1f4f-d81d-4434-809a-3c0a6c23abe2",
   "metadata": {},
   "source": [
    "El dataset de `countries` contiene información general acerca de 177 países: población, continente al que pertenecen, nombre, abreviatura, PBI y una geometría de polígono con la forma de cada país."
   ]
  },
  {
   "cell_type": "markdown",
   "id": "5cd87d7a-3e7e-4d43-a222-f9601ed6843b",
   "metadata": {},
   "source": [
    "### **3. ¿Cómo visualizar un shapefile?**\n",
    "\n",
    "Para visualizar los objetos geométricos que representan el área de cada país, usaremos el método `plot`:"
   ]
  },
  {
   "cell_type": "code",
   "execution_count": null,
   "id": "ab22d0e4-d133-4d86-8e55-aa799ec4f692",
   "metadata": {},
   "outputs": [],
   "source": [
    "gdf.plot();"
   ]
  },
  {
   "cell_type": "markdown",
   "id": "3376b3ca-7434-477c-b1fe-b8c27a4f1383",
   "metadata": {},
   "source": [
    "Podemos modificar los detalles del gráfico con los argumentos `figsize` y `color`:"
   ]
  },
  {
   "cell_type": "code",
   "execution_count": null,
   "id": "1671cba2-ce39-47ca-8f83-5fb4011cb6d2",
   "metadata": {},
   "outputs": [],
   "source": [
    "gdf.plot(figsize=(10, 10), color=\"green\");"
   ]
  },
  {
   "cell_type": "markdown",
   "id": "b2ab03a8-614e-466f-b5ad-7e29799ee8d2",
   "metadata": {},
   "source": [
    "Podemos agregar mayor flexibilidad si lo combinamos con Matplotlib:"
   ]
  },
  {
   "cell_type": "code",
   "execution_count": null,
   "id": "f8f8f748-71ad-4a00-b770-24996b05a411",
   "metadata": {},
   "outputs": [],
   "source": [
    "import matplotlib.pyplot as plt"
   ]
  },
  {
   "cell_type": "code",
   "execution_count": null,
   "id": "32b0eea0-aa86-4aac-8af9-69f57035503c",
   "metadata": {},
   "outputs": [],
   "source": [
    "# Figura principal\n",
    "fig, ax = plt.subplots(figsize=(10, 10))\n",
    "\n",
    "# Polígonos de los países\n",
    "gdf.plot(ax=ax, color=\"green\")\n",
    "\n",
    "# Límites de la figura\n",
    "ax.set_xlim(-90, -30)\n",
    "ax.set_ylim(-60, 15)\n",
    "\n",
    "# Grilla\n",
    "ax.grid(lw=0.5, color=\"black\", alpha=0.5)\n",
    "\n",
    "plt.show()"
   ]
  },
  {
   "cell_type": "markdown",
   "id": "4bbf783d-3966-4603-aee4-952390f7ad9d",
   "metadata": {},
   "source": [
    "### **4. Crear y guardar un shapefile con Python**\n",
    "\n",
    "Empezaremos seleccionando las filas que correspondan al continente de Sudamérica `South America`:"
   ]
  },
  {
   "cell_type": "code",
   "execution_count": null,
   "id": "a56c4ae9-1542-4595-aac1-1165a3ad521f",
   "metadata": {},
   "outputs": [],
   "source": [
    "south_america = gdf[gdf[\"continent\"] == \"South America\"]"
   ]
  },
  {
   "cell_type": "markdown",
   "id": "9a63be4a-0ce5-44ff-be1e-0ac23d012ac8",
   "metadata": {},
   "source": [
    "Para guardar información vectorial con Geopandas, podemos usar la función `to_file`:\n",
    "> Para guardarlo en un shapefile, debemos colocar la extensión .shp, por ejemplo: `south_america.shp`.\\\n",
    "> Si por otro lado solo colocamos el nombre, sin la extensión, se creará una carpeta que contendrá dicho shapefile."
   ]
  },
  {
   "cell_type": "code",
   "execution_count": null,
   "id": "f05a59f1-873b-4c48-8ce8-f65e6f8e4f03",
   "metadata": {},
   "outputs": [],
   "source": [
    "south_america.to_file(\"files/south_america\")"
   ]
  },
  {
   "cell_type": "markdown",
   "id": "1b1355a3-ce67-4791-9500-d68d660ccc5e",
   "metadata": {},
   "source": [
    "Volvemos a cargar el shapefile:"
   ]
  },
  {
   "cell_type": "code",
   "execution_count": null,
   "id": "5731eacc-6887-4b33-a87b-d77ca70b33ed",
   "metadata": {},
   "outputs": [],
   "source": [
    "gpd.read_file(\"files/south_america\")"
   ]
  },
  {
   "cell_type": "markdown",
   "id": "13e0dec7-7514-408c-b2f0-eee87e4bdd90",
   "metadata": {},
   "source": [
    "### **5. Funciones adicionales en Geopandas**\n",
    "Podemos obtener el sistema de coordenadas del GeoDataFrame usando el atributo `crs`:"
   ]
  },
  {
   "cell_type": "code",
   "execution_count": null,
   "id": "c783df40-f522-44d1-9faf-9652e7374af6",
   "metadata": {},
   "outputs": [],
   "source": [
    "gdf.crs"
   ]
  },
  {
   "cell_type": "markdown",
   "id": "58e85900-7734-48af-a01c-e35eb728cf7e",
   "metadata": {},
   "source": [
    "Es importante tener en cuenta el sistema de coordenadas de cada objeto geométrico que utilicemos para evitar errores de proyección."
   ]
  },
  {
   "cell_type": "markdown",
   "id": "cb376d8b-3f4a-4c8f-919b-b16f276977f3",
   "metadata": {},
   "source": [
    "Si usamos el método `explore`, podremos visualizar un mapa interactivo:\n",
    "> El parámetro `column` selecciona la columna que queremos visualizar.\\\n",
    "> El parámetro `legend` agrega una leyenda opcional en el mapa."
   ]
  },
  {
   "cell_type": "code",
   "execution_count": null,
   "id": "82e2080b-47fa-4ba6-bf5c-15c0129bb0e0",
   "metadata": {},
   "outputs": [],
   "source": [
    "gdf.explore(column=\"pop_est\", legend=False)"
   ]
  },
  {
   "cell_type": "markdown",
   "id": "a035044e-b931-4f4a-8f01-0ac16b367fa0",
   "metadata": {},
   "source": [
    "Podemos generar las columnas de área, perímetro y centroide de cada polígono usando los atributos `area`, `length` y `centroid` respectivamente:"
   ]
  },
  {
   "cell_type": "code",
   "execution_count": null,
   "id": "4bf82404-f4e9-4e4d-8208-bfba9af1657b",
   "metadata": {},
   "outputs": [],
   "source": [
    "gdf[\"area\"] = gdf.area\n",
    "gdf[\"perimeter\"] = gdf.length\n",
    "gdf[\"centroid\"] = gdf.centroid"
   ]
  },
  {
   "cell_type": "code",
   "execution_count": null,
   "id": "4505c2ec-37c4-4540-9dfa-8ece3fb62ccb",
   "metadata": {},
   "outputs": [],
   "source": [
    "gdf.head()"
   ]
  },
  {
   "cell_type": "markdown",
   "id": "ddb25588-cb11-4369-a198-aa172f15ed49",
   "metadata": {},
   "source": [
    "Por último, graficaremos los polígonos y sus centroides dentro de una sola figura:"
   ]
  },
  {
   "cell_type": "code",
   "execution_count": null,
   "id": "08500178-3c1b-4475-b2f6-3f8fb68d4d5b",
   "metadata": {},
   "outputs": [],
   "source": [
    "fig, ax = plt.subplots(figsize=(15, 12))\n",
    "\n",
    "gdf[\"geometry\"].plot(ax=ax, color=\"lightgreen\", edgecolor=\"black\")\n",
    "gdf[\"centroid\"].plot(ax=ax, color=\"red\", marker=\".\", markersize=10)\n",
    "\n",
    "plt.show()"
   ]
  },
  {
   "cell_type": "markdown",
   "id": "080f05e7-a79e-4ea4-ac2f-21221c3a36b1",
   "metadata": {},
   "source": [
    "### **6. ¿Cómo crear un GeoDataFrame a partir de un DataFrame con coordenadas?**\n",
    "\n",
    "Cargaremos el CSV de sismos llamado `sismos.xlsx`:"
   ]
  },
  {
   "cell_type": "code",
   "execution_count": null,
   "id": "a97c9f39-a0ee-4cba-8904-d6081ea58707",
   "metadata": {},
   "outputs": [],
   "source": [
    "import pandas as pd"
   ]
  },
  {
   "cell_type": "code",
   "execution_count": null,
   "id": "aed8faa2-b8b9-42dd-9f0c-c4bce140a653",
   "metadata": {},
   "outputs": [],
   "source": [
    "sismos = pd.read_excel(\"files/sismos.xlsx\")"
   ]
  },
  {
   "cell_type": "code",
   "execution_count": null,
   "id": "72b0a52e-684a-49d1-a5ca-d40b28cb0493",
   "metadata": {},
   "outputs": [],
   "source": [
    "sismos.head()"
   ]
  },
  {
   "cell_type": "markdown",
   "id": "558cee3f-bfb5-42c7-b529-7cc43c4d07c9",
   "metadata": {},
   "source": [
    "Podemos usar las columnas de longitud y latitud para crear geometrías de puntos usando la función `points_from_xy`.\\\n",
    "Guardaremos este resultado en una nueva columna llamada `geometry`:"
   ]
  },
  {
   "cell_type": "code",
   "execution_count": null,
   "id": "4f261540-b7e0-4fd8-91ab-e000d1c605a7",
   "metadata": {},
   "outputs": [],
   "source": [
    "sismos[\"geometry\"] = gpd.points_from_xy(sismos[\"longitud (º)\"], sismos[\"latitud (º)\"])"
   ]
  },
  {
   "cell_type": "code",
   "execution_count": null,
   "id": "d603a35c-5252-4171-bb83-47c6942def4f",
   "metadata": {},
   "outputs": [],
   "source": [
    "sismos.head()"
   ]
  },
  {
   "cell_type": "markdown",
   "id": "5a670173-4ad2-4af5-89a9-3867918a86e7",
   "metadata": {},
   "source": [
    "Ahora, transformaremos el DataFrame en un GeoDataFrame usando la función `GeoDataFrame`:\n",
    "> Usaremos el sistemas de coordenadas geográfico WGS84 bajo la denominación EPSG:4326."
   ]
  },
  {
   "cell_type": "code",
   "execution_count": null,
   "id": "535f6bdd-2c89-409b-b1d6-270cf87d0b25",
   "metadata": {},
   "outputs": [],
   "source": [
    "sismos = gpd.GeoDataFrame(sismos, geometry=sismos.geometry, crs=\"EPSG:4326\")"
   ]
  },
  {
   "cell_type": "code",
   "execution_count": null,
   "id": "d88f49b4-d698-4d26-b666-8a3a8f410d37",
   "metadata": {},
   "outputs": [],
   "source": [
    "sismos.head()"
   ]
  },
  {
   "cell_type": "markdown",
   "id": "43a1976d-f274-4247-9210-efa3b256d623",
   "metadata": {},
   "source": [
    "Por último, graficaremos la ubicación de todos los sismos de magnitud mayor a 5 registrados en el Perú:\n",
    "> Usaremos los polígonos de cada país en `gdf` para complementar el gráfico."
   ]
  },
  {
   "cell_type": "code",
   "execution_count": null,
   "id": "42d39bb0-fa83-4eb9-9e75-7aba2a15cf2b",
   "metadata": {},
   "outputs": [],
   "source": [
    "sismos_filtrado = sismos[sismos[\"magnitud (M)\"] >= 5.0].copy()"
   ]
  },
  {
   "cell_type": "code",
   "execution_count": null,
   "id": "8718e1ff-f25c-4591-a877-89c755d43ff3",
   "metadata": {},
   "outputs": [],
   "source": [
    "# Figura principal\n",
    "fig, ax = plt.subplots(figsize=(8, 10))\n",
    "\n",
    "# Polígonos de los países\n",
    "gdf.plot(ax=ax, color=\"lightgreen\", edgecolor=\"black\")\n",
    "sismos_filtrado.plot(ax=ax, markersize=2, color=\"red\")\n",
    "\n",
    "# Límites de la figura (centrado en Perú)\n",
    "ax.set_xlim(-83, -68)\n",
    "ax.set_ylim(-19, 1)\n",
    "\n",
    "# Grilla\n",
    "ax.grid(lw=0.5, color=\"black\", alpha=0.5)\n",
    "\n",
    "# Título\n",
    "ax.set_title(\"Sismos registrados en Perú (Mw$\\geq$5.0)\", fontsize=16)\n",
    "\n",
    "plt.show()"
   ]
  },
  {
   "cell_type": "markdown",
   "id": "27a9d493-f8b2-482c-8ff4-ad65d34a82d2",
   "metadata": {},
   "source": [
    "***"
   ]
  }
 ],
 "metadata": {
  "kernelspec": {
   "display_name": "Python 3 (ipykernel)",
   "language": "python",
   "name": "python3"
  },
  "language_info": {
   "codemirror_mode": {
    "name": "ipython",
    "version": 3
   },
   "file_extension": ".py",
   "mimetype": "text/x-python",
   "name": "python",
   "nbconvert_exporter": "python",
   "pygments_lexer": "ipython3",
   "version": "3.8.10"
  }
 },
 "nbformat": 4,
 "nbformat_minor": 5
}
