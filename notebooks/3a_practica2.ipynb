{
 "cells": [
  {
   "cell_type": "markdown",
   "id": "b45e8cb1-2e13-465d-8f0a-6eea8699867c",
   "metadata": {},
   "source": [
    "## Práctica con data de sondajes (Limpieza)"
   ]
  },
  {
   "cell_type": "code",
   "execution_count": null,
   "id": "11af3d63-a684-4835-8f97-46fbacd52713",
   "metadata": {},
   "outputs": [],
   "source": [
    "import pandas as pd"
   ]
  },
  {
   "cell_type": "markdown",
   "id": "5502aa46-252f-4261-950c-5a3788d3d6b7",
   "metadata": {},
   "source": [
    "## COLLAR"
   ]
  },
  {
   "cell_type": "code",
   "execution_count": null,
   "id": "2837d977-bc73-49c4-8e2d-fa7ff9a8ac41",
   "metadata": {},
   "outputs": [],
   "source": [
    "collar = pd.read_csv(\"files/dh_raw/WP_collar.csv\")"
   ]
  },
  {
   "cell_type": "code",
   "execution_count": null,
   "id": "c4386d7b-5e79-4209-bc5f-76118a6ab811",
   "metadata": {},
   "outputs": [],
   "source": [
    "collar.columns"
   ]
  },
  {
   "cell_type": "code",
   "execution_count": null,
   "id": "c54bda4e-6f44-4bf2-a019-ead617547df9",
   "metadata": {},
   "outputs": [],
   "source": [
    "collar.dtypes"
   ]
  },
  {
   "cell_type": "markdown",
   "id": "1f99e6ef-3c28-48ac-8ed9-6efc7d3487e9",
   "metadata": {},
   "source": [
    "- BHID: código de cada sondaje (string)\n",
    "- XCOLLAR, YCOLLAR, ZCOLLAR: coordenadas del collar de cada sondaje (float)\n",
    "- AT: longitud del sondaje (float)"
   ]
  },
  {
   "cell_type": "code",
   "execution_count": null,
   "id": "d09592a3-7136-45ef-b6b3-641fd8ab08e3",
   "metadata": {},
   "outputs": [],
   "source": [
    "# Verificar valores vacíos\n",
    "collar.isna().sum(axis=0)"
   ]
  },
  {
   "cell_type": "code",
   "execution_count": null,
   "id": "aa1d94a9-655f-46b4-b140-61c3a202b8c3",
   "metadata": {},
   "outputs": [],
   "source": [
    "# Valores únicos de BHID\n",
    "collar[\"BHID\"].unique()"
   ]
  },
  {
   "cell_type": "code",
   "execution_count": null,
   "id": "9ebdc183-5270-40b7-9347-a475481f3160",
   "metadata": {},
   "outputs": [],
   "source": [
    "len(collar[\"BHID\"].unique())"
   ]
  },
  {
   "cell_type": "markdown",
   "id": "6ae3b4ea-f5db-4678-a5e1-3eb5097f876f",
   "metadata": {},
   "source": [
    "- Hay 3 sondajes que faltan dentro de los códigos (WP001 a WP058)"
   ]
  },
  {
   "cell_type": "code",
   "execution_count": null,
   "id": "37118d43-57f4-4d5a-921b-8dc53ff5d2c8",
   "metadata": {},
   "outputs": [],
   "source": [
    "len(collar)"
   ]
  },
  {
   "cell_type": "code",
   "execution_count": null,
   "id": "2b85a129-8b83-4fa8-8827-656026e76245",
   "metadata": {},
   "outputs": [],
   "source": [
    "collar[\"XCOLLAR\"] = collar[\"XCOLLAR\"].astype(float)"
   ]
  },
  {
   "cell_type": "markdown",
   "id": "96c98678-d658-48f7-877d-9f2b67a5e91b",
   "metadata": {},
   "source": [
    "## SURVEY"
   ]
  },
  {
   "cell_type": "code",
   "execution_count": null,
   "id": "d7ff056b-26fa-44e0-8f11-6cffcc7fbe28",
   "metadata": {},
   "outputs": [],
   "source": [
    "survey = pd.read_csv(\"files/dh_raw/WP_survey.csv\")"
   ]
  },
  {
   "cell_type": "code",
   "execution_count": null,
   "id": "3e433aa6-1ea0-4f0c-b098-b9715a8ebdd7",
   "metadata": {},
   "outputs": [],
   "source": [
    "survey.info()"
   ]
  },
  {
   "cell_type": "markdown",
   "id": "5a0f67ff-12c5-422e-9ff7-72a7a9ab0831",
   "metadata": {},
   "source": [
    "- BHID: el código de cada sondaje (string)\n",
    "- AT: longitud en la cual se tomó el registro del survey (float)\n",
    "- BRG: rumbo anotado en el registro del survey (float)\n",
    "- DIP: buzamiento anotado en el registro del survey (float)"
   ]
  },
  {
   "cell_type": "markdown",
   "id": "18bff279-1ce1-4476-a2ce-2a65e1ebfcb4",
   "metadata": {},
   "source": [
    "#### Comprueba si collar y survey contienen los mismos taladros (BHID)"
   ]
  },
  {
   "cell_type": "code",
   "execution_count": null,
   "id": "b39cb0eb-bebc-4ddc-b339-dcc73ccfe14c",
   "metadata": {},
   "outputs": [],
   "source": [
    "at_collar = collar.groupby(\"BHID\")[\"AT\"].max()"
   ]
  },
  {
   "cell_type": "code",
   "execution_count": null,
   "id": "3fb05a5a-1ba8-4c78-9798-d5ed6b6b4549",
   "metadata": {},
   "outputs": [],
   "source": [
    "at_survey = survey.groupby([\"BHID\"])[\"AT\"].max()"
   ]
  },
  {
   "cell_type": "code",
   "execution_count": null,
   "id": "497f5d48-276e-4b4b-ad24-a707499512ce",
   "metadata": {},
   "outputs": [],
   "source": [
    "(at_collar == at_survey).sum()"
   ]
  },
  {
   "cell_type": "code",
   "execution_count": null,
   "id": "7b858059-3fb3-4819-a4c2-6ca746607000",
   "metadata": {},
   "outputs": [],
   "source": [
    "len((at_collar == at_survey))"
   ]
  },
  {
   "cell_type": "code",
   "execution_count": null,
   "id": "878ecaa4-68cb-413d-8aec-17699dac5371",
   "metadata": {},
   "outputs": [],
   "source": [
    "survey[[\"BRG\", \"DIP\"]].describe()"
   ]
  },
  {
   "cell_type": "markdown",
   "id": "a9b50584-dbef-4831-87e8-c5205c5fb57a",
   "metadata": {},
   "source": [
    "## Table Lito Assay"
   ]
  },
  {
   "cell_type": "code",
   "execution_count": null,
   "id": "46aa2c7f-f69c-40be-9471-15bdf58a053b",
   "metadata": {},
   "outputs": [],
   "source": [
    "table = pd.read_csv(\"files/dh_raw/Merged_Table_lito_assay.csv\")"
   ]
  },
  {
   "cell_type": "code",
   "execution_count": null,
   "id": "d0b9b16a-1c26-4977-bf6e-0a424eb7375c",
   "metadata": {},
   "outputs": [],
   "source": [
    "table.head()"
   ]
  },
  {
   "cell_type": "code",
   "execution_count": null,
   "id": "f0545b6f-ddc8-4686-8884-6bc135e2ab6f",
   "metadata": {},
   "outputs": [],
   "source": []
  },
  {
   "cell_type": "code",
   "execution_count": null,
   "id": "f8539afe-a6d0-4421-86ce-5cb4cf266cfc",
   "metadata": {},
   "outputs": [],
   "source": []
  },
  {
   "cell_type": "code",
   "execution_count": null,
   "id": "946bf934-d3b2-40ea-872f-8b17c7446a78",
   "metadata": {},
   "outputs": [],
   "source": []
  },
  {
   "cell_type": "code",
   "execution_count": null,
   "id": "ba2f7d54-ff29-47fe-8a41-731d688fefd8",
   "metadata": {},
   "outputs": [],
   "source": []
  },
  {
   "cell_type": "code",
   "execution_count": null,
   "id": "deab906f-65aa-4ea4-bc48-2dcde1d70bb2",
   "metadata": {},
   "outputs": [],
   "source": []
  },
  {
   "cell_type": "code",
   "execution_count": null,
   "id": "21513be9-23ce-443f-b03f-ff4729647866",
   "metadata": {},
   "outputs": [],
   "source": []
  },
  {
   "cell_type": "code",
   "execution_count": null,
   "id": "99b46530-560a-47c1-99de-f0fa34e52e92",
   "metadata": {},
   "outputs": [],
   "source": []
  },
  {
   "cell_type": "code",
   "execution_count": null,
   "id": "836c4e20-a843-45ed-9dcc-843289bdf410",
   "metadata": {},
   "outputs": [],
   "source": []
  },
  {
   "cell_type": "code",
   "execution_count": null,
   "id": "d0d70025-fc96-4ca8-9ae6-fc8969cb89de",
   "metadata": {},
   "outputs": [],
   "source": []
  },
  {
   "cell_type": "code",
   "execution_count": null,
   "id": "4418a9a7-e87b-4f68-bdad-dc74f805163e",
   "metadata": {},
   "outputs": [],
   "source": []
  },
  {
   "cell_type": "code",
   "execution_count": null,
   "id": "b1e1eb70-c2f3-4162-98d1-7b9672969a9d",
   "metadata": {},
   "outputs": [],
   "source": [
    "from sqlalchemy import create_engine\n",
    "from sqlalchemy import text"
   ]
  },
  {
   "cell_type": "code",
   "execution_count": null,
   "id": "1fc0c71a-042d-4e00-9935-68ebe458605c",
   "metadata": {},
   "outputs": [],
   "source": [
    "engine = create_engine(\"sqlite:///database.db\")"
   ]
  },
  {
   "cell_type": "code",
   "execution_count": null,
   "id": "d29c8222-bdc3-4004-8344-6d7d3419adad",
   "metadata": {},
   "outputs": [],
   "source": [
    "data = table[[\"holeid\", \"from\", \"to\"]]"
   ]
  },
  {
   "cell_type": "code",
   "execution_count": null,
   "id": "f9d36017-ca9e-4a8d-96b7-8347d55ba6af",
   "metadata": {},
   "outputs": [],
   "source": [
    "data.to_sql(name=\"lito_assay\", con=engine)"
   ]
  },
  {
   "cell_type": "code",
   "execution_count": null,
   "id": "1d82cfe5-9060-4d64-8177-261c2c9edfef",
   "metadata": {
    "tags": []
   },
   "outputs": [],
   "source": [
    "with engine.connect() as conn:\n",
    "    result = conn.execute(text(\"SELECT * FROM lito_assay\"))\n",
    "    result = pd.DataFrame(result, columns=[\"id\", \"holeid\", \"from\", \"to\"])"
   ]
  },
  {
   "cell_type": "code",
   "execution_count": null,
   "id": "022fe285-ae66-47bd-b601-6b3269a0ece0",
   "metadata": {},
   "outputs": [],
   "source": [
    "result"
   ]
  },
  {
   "cell_type": "code",
   "execution_count": null,
   "id": "e98672d4-32c0-4b24-95fd-9a6efe82435c",
   "metadata": {},
   "outputs": [],
   "source": [
    "pd.read_sql(\"lito_assay\", con=engine)"
   ]
  },
  {
   "cell_type": "code",
   "execution_count": null,
   "id": "b75ab748-a2bc-4447-a59b-92067053e7aa",
   "metadata": {},
   "outputs": [],
   "source": []
  },
  {
   "cell_type": "code",
   "execution_count": null,
   "id": "81e19f56-fb96-4a82-91b9-846313590623",
   "metadata": {},
   "outputs": [],
   "source": []
  },
  {
   "cell_type": "code",
   "execution_count": null,
   "id": "cfd9802d-13b7-48f8-af1a-ee25fca163c2",
   "metadata": {},
   "outputs": [],
   "source": []
  }
 ],
 "metadata": {
  "kernelspec": {
   "display_name": "Python 3 (ipykernel)",
   "language": "python",
   "name": "python3"
  },
  "language_info": {
   "codemirror_mode": {
    "name": "ipython",
    "version": 3
   },
   "file_extension": ".py",
   "mimetype": "text/x-python",
   "name": "python",
   "nbconvert_exporter": "python",
   "pygments_lexer": "ipython3",
   "version": "3.8.10"
  }
 },
 "nbformat": 4,
 "nbformat_minor": 5
}
