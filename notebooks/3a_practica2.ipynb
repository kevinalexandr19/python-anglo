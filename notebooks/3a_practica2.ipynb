{
 "cells": [
  {
   "cell_type": "markdown",
   "id": "b45e8cb1-2e13-465d-8f0a-6eea8699867c",
   "metadata": {},
   "source": [
    "## Práctica con data de sondajes (Limpieza)"
   ]
  },
  {
   "cell_type": "code",
   "execution_count": null,
   "id": "11af3d63-a684-4835-8f97-46fbacd52713",
   "metadata": {},
   "outputs": [],
   "source": [
    "import pandas as pd"
   ]
  },
  {
   "cell_type": "markdown",
   "id": "5502aa46-252f-4261-950c-5a3788d3d6b7",
   "metadata": {},
   "source": [
    "## COLLAR"
   ]
  },
  {
   "cell_type": "code",
   "execution_count": null,
   "id": "2837d977-bc73-49c4-8e2d-fa7ff9a8ac41",
   "metadata": {},
   "outputs": [],
   "source": [
    "collar = pd.read_csv(\"files/dh_raw/WP_collar.csv\")"
   ]
  },
  {
   "cell_type": "code",
   "execution_count": null,
   "id": "c4386d7b-5e79-4209-bc5f-76118a6ab811",
   "metadata": {},
   "outputs": [],
   "source": [
    "collar.columns"
   ]
  },
  {
   "cell_type": "code",
   "execution_count": null,
   "id": "c54bda4e-6f44-4bf2-a019-ead617547df9",
   "metadata": {},
   "outputs": [],
   "source": [
    "collar.dtypes"
   ]
  },
  {
   "cell_type": "markdown",
   "id": "1f99e6ef-3c28-48ac-8ed9-6efc7d3487e9",
   "metadata": {},
   "source": [
    "- BHID: código de cada sondaje (string)\n",
    "- XCOLLAR, YCOLLAR, ZCOLLAR: coordenadas del collar de cada sondaje (float)\n",
    "- AT: longitud del sondaje (float)"
   ]
  },
  {
   "cell_type": "code",
   "execution_count": null,
   "id": "d09592a3-7136-45ef-b6b3-641fd8ab08e3",
   "metadata": {},
   "outputs": [],
   "source": [
    "# Verificar valores vacíos\n",
    "collar.isna().sum(axis=0)"
   ]
  },
  {
   "cell_type": "code",
   "execution_count": null,
   "id": "aa1d94a9-655f-46b4-b140-61c3a202b8c3",
   "metadata": {},
   "outputs": [],
   "source": [
    "# Valores únicos de BHID\n",
    "collar[\"BHID\"].unique()"
   ]
  },
  {
   "cell_type": "code",
   "execution_count": null,
   "id": "9ebdc183-5270-40b7-9347-a475481f3160",
   "metadata": {},
   "outputs": [],
   "source": [
    "len(collar[\"BHID\"].unique())"
   ]
  },
  {
   "cell_type": "markdown",
   "id": "6ae3b4ea-f5db-4678-a5e1-3eb5097f876f",
   "metadata": {},
   "source": [
    "- Hay 3 sondajes que faltan dentro de los códigos (WP001 a WP058)"
   ]
  },
  {
   "cell_type": "code",
   "execution_count": null,
   "id": "37118d43-57f4-4d5a-921b-8dc53ff5d2c8",
   "metadata": {},
   "outputs": [],
   "source": [
    "len(collar)"
   ]
  },
  {
   "cell_type": "code",
   "execution_count": null,
   "id": "835f0a22-ceb6-4fcf-bc88-118f77d44442",
   "metadata": {},
   "outputs": [],
   "source": [
    "collar.head()"
   ]
  },
  {
   "cell_type": "code",
   "execution_count": null,
   "id": "2b85a129-8b83-4fa8-8827-656026e76245",
   "metadata": {},
   "outputs": [],
   "source": [
    "# Si XCOLLAR fuera una columna de string\n",
    "collar[\"XCOLLAR\"] = collar[\"XCOLLAR\"].astype(float)"
   ]
  },
  {
   "cell_type": "markdown",
   "id": "96c98678-d658-48f7-877d-9f2b67a5e91b",
   "metadata": {},
   "source": [
    "## SURVEY"
   ]
  },
  {
   "cell_type": "code",
   "execution_count": null,
   "id": "d7ff056b-26fa-44e0-8f11-6cffcc7fbe28",
   "metadata": {},
   "outputs": [],
   "source": [
    "survey = pd.read_csv(\"files/dh_raw/WP_survey.csv\")"
   ]
  },
  {
   "cell_type": "code",
   "execution_count": null,
   "id": "b3bb6c8b-d0c7-435b-9f77-da6ed4064c88",
   "metadata": {},
   "outputs": [],
   "source": [
    "collar.head()"
   ]
  },
  {
   "cell_type": "code",
   "execution_count": null,
   "id": "6c3335ac-7257-4d3e-a0eb-4bc6f8541861",
   "metadata": {},
   "outputs": [],
   "source": [
    "survey.head()"
   ]
  },
  {
   "cell_type": "code",
   "execution_count": null,
   "id": "3e433aa6-1ea0-4f0c-b098-b9715a8ebdd7",
   "metadata": {},
   "outputs": [],
   "source": [
    "survey.info()"
   ]
  },
  {
   "cell_type": "markdown",
   "id": "5a0f67ff-12c5-422e-9ff7-72a7a9ab0831",
   "metadata": {},
   "source": [
    "- BHID: el código de cada sondaje (string)\n",
    "- AT: longitud en la cual se tomó el registro del survey (float)\n",
    "- BRG: rumbo anotado en el registro del survey (float)\n",
    "- DIP: buzamiento anotado en el registro del survey (float)"
   ]
  },
  {
   "cell_type": "markdown",
   "id": "18bff279-1ce1-4476-a2ce-2a65e1ebfcb4",
   "metadata": {},
   "source": [
    "#### Comprueba si collar y survey contienen los mismos taladros (BHID)"
   ]
  },
  {
   "cell_type": "code",
   "execution_count": null,
   "id": "b39cb0eb-bebc-4ddc-b339-dcc73ccfe14c",
   "metadata": {},
   "outputs": [],
   "source": [
    "at_collar = collar.groupby(\"BHID\")[\"AT\"].max()"
   ]
  },
  {
   "cell_type": "code",
   "execution_count": null,
   "id": "3fb05a5a-1ba8-4c78-9798-d5ed6b6b4549",
   "metadata": {},
   "outputs": [],
   "source": [
    "at_survey = survey.groupby([\"BHID\"])[\"AT\"].max()"
   ]
  },
  {
   "cell_type": "code",
   "execution_count": null,
   "id": "36e65fb9-6638-491f-aad3-c6d1f1e08648",
   "metadata": {},
   "outputs": [],
   "source": [
    "(at_collar == at_survey).sum()"
   ]
  },
  {
   "cell_type": "code",
   "execution_count": null,
   "id": "497f5d48-276e-4b4b-ad24-a707499512ce",
   "metadata": {},
   "outputs": [],
   "source": [
    "# Comprobar si la profundidad máxima del collar coincide con la profundidad máxima del survey\n",
    "(at_collar == at_survey).sum()"
   ]
  },
  {
   "cell_type": "code",
   "execution_count": null,
   "id": "7b858059-3fb3-4819-a4c2-6ca746607000",
   "metadata": {},
   "outputs": [],
   "source": [
    "len((at_collar == at_survey))"
   ]
  },
  {
   "cell_type": "code",
   "execution_count": null,
   "id": "878ecaa4-68cb-413d-8aec-17699dac5371",
   "metadata": {},
   "outputs": [],
   "source": [
    "survey[[\"BRG\", \"DIP\"]].describe()"
   ]
  },
  {
   "cell_type": "markdown",
   "id": "a9b50584-dbef-4831-87e8-c5205c5fb57a",
   "metadata": {},
   "source": [
    "## Table Lito Assay"
   ]
  },
  {
   "cell_type": "code",
   "execution_count": null,
   "id": "46aa2c7f-f69c-40be-9471-15bdf58a053b",
   "metadata": {},
   "outputs": [],
   "source": [
    "table = pd.read_csv(\"files/dh_raw/Merged_Table_lito_assay.csv\")"
   ]
  },
  {
   "cell_type": "code",
   "execution_count": null,
   "id": "d0b9b16a-1c26-4977-bf6e-0a424eb7375c",
   "metadata": {},
   "outputs": [],
   "source": [
    "table.head()"
   ]
  },
  {
   "cell_type": "code",
   "execution_count": null,
   "id": "f0545b6f-ddc8-4686-8884-6bc135e2ab6f",
   "metadata": {},
   "outputs": [],
   "source": [
    "table.info()"
   ]
  },
  {
   "cell_type": "markdown",
   "id": "919bd9ee-923c-47bb-b9d7-27f986d5db84",
   "metadata": {},
   "source": [
    "- holeid : código del taladro (string)\n",
    "- from, to : profundidad de un tramo del sondaje (float)\n",
    "- AG_gpt, AS_ppm, AU_gpt, CU_pct, DENSITY, MO_ppm, RECOV, S_pct : columnas de assay (float), contiene valores vacíos\n",
    "- C_CUATER, R_AGRUP, ROCK, SPLIT : columnas de lito (string), contiene valores vacíos\n",
    "- mid_x, mid_y, mid_z: valores numéricos (float)"
   ]
  },
  {
   "cell_type": "markdown",
   "id": "14fb3f66-2eec-493b-b185-9ca4bbcd988c",
   "metadata": {},
   "source": [
    "### holeid\n",
    "#### Comprobar si no existen sondajes adicionales incompletos (no aparecen en algunas de las tablas)"
   ]
  },
  {
   "cell_type": "code",
   "execution_count": null,
   "id": "f3b57378-afe0-435d-943b-8adf981b9e1c",
   "metadata": {},
   "outputs": [],
   "source": [
    "tableSet = set(table[\"holeid\"].unique())"
   ]
  },
  {
   "cell_type": "code",
   "execution_count": null,
   "id": "ba2f7d54-ff29-47fe-8a41-731d688fefd8",
   "metadata": {},
   "outputs": [],
   "source": [
    "collarSet = set(collar[\"BHID\"].unique())"
   ]
  },
  {
   "cell_type": "code",
   "execution_count": null,
   "id": "deab906f-65aa-4ea4-bc48-2dcde1d70bb2",
   "metadata": {},
   "outputs": [],
   "source": [
    "surveySet = set(survey[\"BHID\"].unique())"
   ]
  },
  {
   "cell_type": "code",
   "execution_count": null,
   "id": "21513be9-23ce-443f-b03f-ff4729647866",
   "metadata": {},
   "outputs": [],
   "source": [
    "tableSet ^ collarSet"
   ]
  },
  {
   "cell_type": "code",
   "execution_count": null,
   "id": "99b46530-560a-47c1-99de-f0fa34e52e92",
   "metadata": {},
   "outputs": [],
   "source": [
    "tableSet ^ surveySet"
   ]
  },
  {
   "cell_type": "code",
   "execution_count": null,
   "id": "836c4e20-a843-45ed-9dcc-843289bdf410",
   "metadata": {},
   "outputs": [],
   "source": [
    "collarSet ^ surveySet"
   ]
  },
  {
   "cell_type": "markdown",
   "id": "4069af03-f616-4cc9-a1a1-3866813a0760",
   "metadata": {},
   "source": [
    "### from to"
   ]
  },
  {
   "cell_type": "code",
   "execution_count": null,
   "id": "7122b780-8de2-4606-a690-c9bb6a7ad900",
   "metadata": {},
   "outputs": [],
   "source": [
    "table[\"from\"]"
   ]
  },
  {
   "cell_type": "code",
   "execution_count": null,
   "id": "d0d70025-fc96-4ca8-9ae6-fc8969cb89de",
   "metadata": {},
   "outputs": [],
   "source": [
    "((table[\"from\"] - table[\"to\"]) < 0).sum()"
   ]
  },
  {
   "cell_type": "markdown",
   "id": "610dab2a-37af-44eb-9cd2-a35ff86e9136",
   "metadata": {},
   "source": [
    "#### Verificar que los valores de from y to coincidan numéricamente"
   ]
  },
  {
   "cell_type": "code",
   "execution_count": null,
   "id": "e6015e89-eb53-4926-84de-876ce40d084a",
   "metadata": {},
   "outputs": [],
   "source": [
    "for dh in table[\"holeid\"].unique():\n",
    "    df = table[table[\"holeid\"] == dh][[\"from\", \"to\"]]\n",
    "    df_from = df.iloc[1:, 0].values\n",
    "    df_to = df.iloc[:-1, 1].values\n",
    "    if (df_to - df_from).sum() != 0:\n",
    "        print(f\"Los valores de from to en el sondaje {dh} no coinciden.\")"
   ]
  },
  {
   "cell_type": "markdown",
   "id": "0f6a3be7-d82d-49fd-beaf-b6a19cd22011",
   "metadata": {},
   "source": [
    "### AG_gpt\n",
    "#### Cuantos valores vacíos hay por cada sondaje"
   ]
  },
  {
   "cell_type": "code",
   "execution_count": null,
   "id": "c26f4ff5-5075-4c3f-a06a-dcae43cd8ca4",
   "metadata": {},
   "outputs": [],
   "source": [
    "table[table[\"holeid\"] == \"WP001\"][\"AG_gpt\"].isna().sum()"
   ]
  },
  {
   "cell_type": "code",
   "execution_count": null,
   "id": "951457f3-6f4a-4798-962d-f459786c6b9d",
   "metadata": {},
   "outputs": [],
   "source": [
    "columna = \"AG_gpt\"\n",
    "for dh in table[\"holeid\"].unique():\n",
    "    df = table[table[\"holeid\"] == dh][columna]\n",
    "    resultado = df.isna().sum()\n",
    "    total = len(df)\n",
    "    if resultado != 0:\n",
    "        print(f\"{dh} - {columna}: {resultado/total:.0%} de valores vacíos\")"
   ]
  },
  {
   "cell_type": "markdown",
   "id": "6612ef0a-5748-4639-aa96-0d96171b0eb2",
   "metadata": {},
   "source": [
    "- En el sondaje WP036, WP057 y WP058, la columna de AG_gpt está vacía."
   ]
  },
  {
   "cell_type": "code",
   "execution_count": null,
   "id": "ff2aeb86-9f69-4c50-b4e6-5357cdfb6ab7",
   "metadata": {},
   "outputs": [],
   "source": [
    "def evaluar_vacios(columna):\n",
    "    print(\"\")\n",
    "    for dh in table[\"holeid\"].unique():\n",
    "        df = table[table[\"holeid\"] == dh][columna]\n",
    "        resultado = df.isna().sum()\n",
    "        total = len(df)\n",
    "        if resultado != 0:\n",
    "            print(f\"{dh} - {columna}: {resultado/total:.1%} de valores vacíos\")"
   ]
  },
  {
   "cell_type": "code",
   "execution_count": null,
   "id": "405f4621-a79f-4c3b-8596-b81ee4000754",
   "metadata": {},
   "outputs": [],
   "source": [
    "table.columns"
   ]
  },
  {
   "cell_type": "code",
   "execution_count": null,
   "id": "27666cc3-fa8b-4c9e-9004-59e33a183ed8",
   "metadata": {},
   "outputs": [],
   "source": [
    "import ipywidgets as widgets"
   ]
  },
  {
   "cell_type": "code",
   "execution_count": null,
   "id": "3b97c878-46a1-4d5d-8d86-182b85bbb4d1",
   "metadata": {},
   "outputs": [],
   "source": [
    "list(table.columns)"
   ]
  },
  {
   "cell_type": "code",
   "execution_count": null,
   "id": "d6dcc948-e5ab-4d79-9c9a-e76bf8c32ce6",
   "metadata": {},
   "outputs": [],
   "source": [
    "# Evaluar valores de vacios en sondajes de manera automatizada\n",
    "widgets.interact(evaluar_vacios, columna=list(table.columns), clear_output=True);"
   ]
  },
  {
   "cell_type": "markdown",
   "id": "f4786c24-2dd9-4846-8efc-ffda69eeaeb3",
   "metadata": {},
   "source": [
    "### SONDAJE WP036"
   ]
  },
  {
   "cell_type": "code",
   "execution_count": null,
   "id": "a0f561ae-61d5-496f-a9ff-a622d21a27d1",
   "metadata": {},
   "outputs": [],
   "source": [
    "len(table[table[\"holeid\"] == \"WP036\"])"
   ]
  },
  {
   "cell_type": "code",
   "execution_count": null,
   "id": "209244ac-a388-443f-8db3-6ce1441aacb1",
   "metadata": {},
   "outputs": [],
   "source": [
    "table[table[\"holeid\"] == \"WP036\"].isna().sum()"
   ]
  },
  {
   "cell_type": "code",
   "execution_count": null,
   "id": "517aa41e-212a-418b-b11d-732e4c7c0005",
   "metadata": {},
   "outputs": [],
   "source": [
    "table[table[\"holeid\"] == \"WP057\"].isna().sum()"
   ]
  },
  {
   "cell_type": "code",
   "execution_count": null,
   "id": "17bca58b-b1e9-4501-b316-c5d29c521a21",
   "metadata": {},
   "outputs": [],
   "source": [
    "table[table[\"holeid\"] == \"WP058\"].isna().sum()"
   ]
  },
  {
   "cell_type": "markdown",
   "id": "82e24df1-899c-48a3-b288-b5878ea954a9",
   "metadata": {},
   "source": [
    "Los sondajes WP036, WP057 y WP058 tienen una mayor cantidad de valores vacíos comparado con el resto de sondajes"
   ]
  },
  {
   "cell_type": "markdown",
   "id": "9dfa7584-9a63-4b24-8fd2-ef09622d8222",
   "metadata": {},
   "source": [
    "### Separar en lito y assay la tabla original"
   ]
  },
  {
   "cell_type": "code",
   "execution_count": null,
   "id": "eee35e5d-49d5-4d0c-8ea2-5fef152008c0",
   "metadata": {},
   "outputs": [],
   "source": [
    "columns = [\"holeid\", \"from\", \"to\", \"AG_gpt\", \"AS_ppm\", \"AU_gpt\", \"CU_pct\", \"DENSITY\", \"MO_ppm\", \"RECOV\", \"S_pct\"]\n",
    "assay = table[columns].copy()"
   ]
  },
  {
   "cell_type": "code",
   "execution_count": null,
   "id": "7f5992b6-fbab-491c-a336-062b23389225",
   "metadata": {},
   "outputs": [],
   "source": [
    "assay.rename(columns={\"holeid\": \"ID\", \"from\": \"FROM\", \"to\": \"TO\"}, inplace=True)"
   ]
  },
  {
   "cell_type": "code",
   "execution_count": null,
   "id": "054115b8-144d-4c4c-acc4-00d9dcf024cf",
   "metadata": {},
   "outputs": [],
   "source": [
    "assay.to_csv(\"files/dh_clean/assay.csv\", index=False)"
   ]
  },
  {
   "cell_type": "code",
   "execution_count": null,
   "id": "9a506434-7bc9-45c0-a463-93e36af8ac37",
   "metadata": {},
   "outputs": [],
   "source": [
    "columns = [\"holeid\", \"from\", \"to\", \"C_CUATER\", \"R_AGRUP\", \"ROCK\", \"SPLIT\"]\n",
    "lito = table[columns]"
   ]
  },
  {
   "cell_type": "code",
   "execution_count": null,
   "id": "4c81af4b-6ef6-4df1-81db-027a66d37cae",
   "metadata": {},
   "outputs": [],
   "source": [
    "lito.to_csv(\"files/dh_clean/lito.csv\", index=False)"
   ]
  },
  {
   "cell_type": "code",
   "execution_count": null,
   "id": "6bef150b-71c1-405b-bbfc-0dd06ded9ff7",
   "metadata": {},
   "outputs": [],
   "source": [
    "collar.to_csv(\"files/dh_clean/collar.csv\", index=False)"
   ]
  },
  {
   "cell_type": "code",
   "execution_count": null,
   "id": "ad5a7fe4-32b8-41a7-acac-7110a04ea172",
   "metadata": {},
   "outputs": [],
   "source": [
    "survey.to_csv(\"files/dh_clean/survey.csv\", index=False)"
   ]
  },
  {
   "cell_type": "markdown",
   "id": "01439451-9a98-4674-b53f-92d3a3642a9c",
   "metadata": {},
   "source": [
    "### Guardar y cargar de una database"
   ]
  },
  {
   "cell_type": "code",
   "execution_count": null,
   "id": "b1e1eb70-c2f3-4162-98d1-7b9672969a9d",
   "metadata": {},
   "outputs": [],
   "source": [
    "from sqlalchemy import create_engine\n",
    "from sqlalchemy import text"
   ]
  },
  {
   "cell_type": "code",
   "execution_count": null,
   "id": "1fc0c71a-042d-4e00-9935-68ebe458605c",
   "metadata": {},
   "outputs": [],
   "source": [
    "engine = create_engine(\"sqlite:///database.db\")"
   ]
  },
  {
   "cell_type": "code",
   "execution_count": null,
   "id": "f9d36017-ca9e-4a8d-96b7-8347d55ba6af",
   "metadata": {},
   "outputs": [],
   "source": [
    "assay.to_sql(name=\"table_assay\", con=engine)"
   ]
  },
  {
   "cell_type": "code",
   "execution_count": null,
   "id": "df28b024-9a4a-4841-8eb7-62341dc14969",
   "metadata": {},
   "outputs": [],
   "source": [
    "columns = [\"id\"] + list(assay.columns)"
   ]
  },
  {
   "cell_type": "code",
   "execution_count": null,
   "id": "1d82cfe5-9060-4d64-8177-261c2c9edfef",
   "metadata": {
    "tags": []
   },
   "outputs": [],
   "source": [
    "with engine.connect() as conn:\n",
    "    result = conn.execute(text(\"SELECT * FROM table_assay\"))\n",
    "    result = pd.DataFrame(result, columns=columns)"
   ]
  },
  {
   "cell_type": "code",
   "execution_count": null,
   "id": "022fe285-ae66-47bd-b601-6b3269a0ece0",
   "metadata": {},
   "outputs": [],
   "source": [
    "result.drop(columns=[\"id\"], inplace=True)"
   ]
  },
  {
   "cell_type": "code",
   "execution_count": null,
   "id": "a390e7ae-1ea1-47af-8dd3-d249befabc85",
   "metadata": {},
   "outputs": [],
   "source": [
    "result"
   ]
  },
  {
   "cell_type": "code",
   "execution_count": null,
   "id": "e98672d4-32c0-4b24-95fd-9a6efe82435c",
   "metadata": {},
   "outputs": [],
   "source": [
    "pd.read_sql(\"table_assay\", con=engine)"
   ]
  },
  {
   "cell_type": "markdown",
   "id": "d613f2e0-2391-4f72-8446-72c07a453e3a",
   "metadata": {},
   "source": [
    "### Visualizar sondajes en 3D"
   ]
  },
  {
   "cell_type": "code",
   "execution_count": null,
   "id": "99180568-de18-4bc4-96d0-c7fa8e8c50b2",
   "metadata": {},
   "outputs": [],
   "source": [
    "from sondaje3d import DrillData"
   ]
  },
  {
   "cell_type": "code",
   "execution_count": null,
   "id": "b428b8fb-194e-459e-8e06-b8db62d700f0",
   "metadata": {},
   "outputs": [],
   "source": [
    "collar.rename(columns={\"BHID\": \"ID\", \"XCOLLAR\": \"X\", \"YCOLLAR\": \"Y\", \"ZCOLLAR\": \"Z\"}, inplace=True)\n",
    "collar.drop(columns=[\"AT\"], inplace=True)\n",
    "survey.rename(columns={\"BHID\": \"ID\", \"BRG\": \"AZ\"}, inplace=True)"
   ]
  },
  {
   "cell_type": "code",
   "execution_count": null,
   "id": "8b59b04c-5f5c-4f13-b7ae-2e69a619dc5a",
   "metadata": {},
   "outputs": [],
   "source": [
    "data = DrillData(collar=collar, survey=survey, table=assay, table_name=\"Assay\")"
   ]
  },
  {
   "cell_type": "code",
   "execution_count": null,
   "id": "81e19f56-fb96-4a82-91b9-846313590623",
   "metadata": {},
   "outputs": [],
   "source": [
    "data.validate()"
   ]
  },
  {
   "cell_type": "code",
   "execution_count": null,
   "id": "c2314325-84de-44f2-b0df-85f3cdec7b62",
   "metadata": {},
   "outputs": [],
   "source": [
    "data.table.columns"
   ]
  },
  {
   "cell_type": "code",
   "execution_count": null,
   "id": "0897ce6c-ee92-43de-9010-0264853a5390",
   "metadata": {},
   "outputs": [],
   "source": [
    "data.get_points(\"S_pct\", \"numeric\")"
   ]
  },
  {
   "cell_type": "markdown",
   "id": "a5b2d287-f4ea-4d5e-855e-4149fc244d6d",
   "metadata": {},
   "source": [
    "### Visualizar el valor de AG_gpt en categorías"
   ]
  },
  {
   "cell_type": "code",
   "execution_count": null,
   "id": "3ab56a1c-8be9-4c6b-8703-2c267eeca72a",
   "metadata": {},
   "outputs": [],
   "source": [
    "data.table[\"AG_gpt\"].describe()"
   ]
  },
  {
   "cell_type": "code",
   "execution_count": null,
   "id": "4eda4057-4ec9-4e6f-8b2b-2df7cd5a2185",
   "metadata": {},
   "outputs": [],
   "source": [
    "import matplotlib.pyplot as plt"
   ]
  },
  {
   "cell_type": "code",
   "execution_count": null,
   "id": "97f0a32f-78d4-4930-97f5-17bd97ce8a09",
   "metadata": {},
   "outputs": [],
   "source": [
    "table = data.table\n",
    "ag_250 = table[table[\"AG_gpt\"] <= 51][\"AG_gpt\"]\n",
    "\n",
    "# Figura principal\n",
    "fig, ax = plt.subplots(figsize=(12, 6))\n",
    "\n",
    "# Histograma\n",
    "ax.hist(ag_250, bins=20)\n",
    "\n",
    "# Título\n",
    "ax.set_title(\"Histograma de Ag (g/t)\", fontsize=20)\n",
    "\n",
    "# Etiquetas de los eje\n",
    "ax.set_xlabel(\"Ag (g/t)\", fontsize=15)\n",
    "ax.set_ylabel(\"Frecuencia\", fontsize=15)\n",
    "\n",
    "# Cambiar escala del eje Y a logarítmico\n",
    "ax.set_yscale(\"log\")\n",
    "\n",
    "# Agregar una grilla\n",
    "ax.grid()\n",
    "\n",
    "# Mostrar el gráfico\n",
    "plt.show()"
   ]
  },
  {
   "cell_type": "code",
   "execution_count": null,
   "id": "2b202be6-e650-4db8-8c01-fe24b02745ed",
   "metadata": {},
   "outputs": [],
   "source": [
    "import numpy as np\n",
    "\n",
    "def categorizar_AG(row):\n",
    "    if 0 <= row <= 10:\n",
    "        return \"0 - 10 g/t\"\n",
    "    elif 10 < row <= 50:\n",
    "        return \"10 - 50 g/t\"\n",
    "    elif row > 50:\n",
    "        return \"> 50 g/t\""
   ]
  },
  {
   "cell_type": "code",
   "execution_count": null,
   "id": "cff7a982-3287-4d10-9325-8cd6d7b49dff",
   "metadata": {},
   "outputs": [],
   "source": [
    "data.table[\"AG_cat\"] = data.table[\"AG_gpt\"].apply(categorizar_AG)"
   ]
  },
  {
   "cell_type": "code",
   "execution_count": null,
   "id": "e85dcf1f-5412-4d2e-9c62-f9a59c644587",
   "metadata": {},
   "outputs": [],
   "source": [
    "data.table"
   ]
  },
  {
   "cell_type": "code",
   "execution_count": null,
   "id": "c5b03079-c262-4f58-9041-3ea8b2e7b412",
   "metadata": {},
   "outputs": [],
   "source": [
    "data.get_points(\"AG_cat\", \"categoric\")"
   ]
  },
  {
   "cell_type": "code",
   "execution_count": null,
   "id": "7be79e05-bb0c-4e6a-9bb9-76d186401084",
   "metadata": {},
   "outputs": [],
   "source": [
    "data.plot_3d()"
   ]
  },
  {
   "cell_type": "markdown",
   "id": "3ded2bb6-a015-40ac-bd26-a013ea3c7b23",
   "metadata": {},
   "source": [
    "#### Automatizar el gráfico de un histograma por cada columna en Assay"
   ]
  },
  {
   "cell_type": "code",
   "execution_count": null,
   "id": "cfd9802d-13b7-48f8-af1a-ee25fca163c2",
   "metadata": {},
   "outputs": [],
   "source": [
    "def histograma(columna):\n",
    "    # Datos\n",
    "    df = table[columna]\n",
    "    \n",
    "    # Figura principal\n",
    "    fig, ax = plt.subplots(figsize=(12, 6))\n",
    "\n",
    "    # Histograma\n",
    "    ax.hist(df, bins=15)\n",
    "\n",
    "    # Título\n",
    "    ax.set_title(f\"Histograma de {columna}\", fontsize=20)\n",
    "\n",
    "    # Etiquetas de los eje\n",
    "    ax.set_xlabel(f\"{columna}\", fontsize=15)\n",
    "    ax.set_ylabel(\"Frecuencia\", fontsize=15)\n",
    "\n",
    "    # Cambiar escala del eje Y a logarítmico\n",
    "    ax.set_yscale(\"log\")\n",
    "\n",
    "    # Agregar una grilla\n",
    "    ax.grid()\n",
    "\n",
    "    # Mostrar el gráfico\n",
    "    plt.show()"
   ]
  },
  {
   "cell_type": "code",
   "execution_count": null,
   "id": "0439efc4-e2bb-4164-9d8c-9064d9bcb22f",
   "metadata": {},
   "outputs": [],
   "source": [
    "widgets.interact(histograma, columna=['AG_gpt', 'AS_ppm', 'AU_gpt', 'CU_pct', 'DENSITY', 'MO_ppm', 'RECOV', 'S_pct']);"
   ]
  },
  {
   "cell_type": "code",
   "execution_count": null,
   "id": "1794d2a4-ac39-4f0c-9fd0-470317c2585f",
   "metadata": {},
   "outputs": [],
   "source": [
    "def categorizar_AU(row):\n",
    "    if 0 <= row <= 1:\n",
    "        return \"0 - 1 g/t\"\n",
    "    elif 1 < row <= 5:\n",
    "        return \"1 - 5 g/t\"\n",
    "    elif row > 5:\n",
    "        return \"> 5 g/t\""
   ]
  },
  {
   "cell_type": "code",
   "execution_count": null,
   "id": "481743bf-b2ec-4102-8cee-5e9ec851a3f0",
   "metadata": {},
   "outputs": [],
   "source": [
    "data.table[\"AU_cat\"] = data.table[\"AU_gpt\"].apply(categorizar_AU)"
   ]
  },
  {
   "cell_type": "code",
   "execution_count": null,
   "id": "171d66bf-d26f-4775-bb1d-e6e3cbc08d41",
   "metadata": {},
   "outputs": [],
   "source": [
    "data.get_points(\"AU_cat\", \"categoric\")"
   ]
  },
  {
   "cell_type": "code",
   "execution_count": null,
   "id": "0f5f9dd4-aa7d-4cb7-b375-953d77cd7f68",
   "metadata": {},
   "outputs": [],
   "source": [
    "data.plot_3d()"
   ]
  },
  {
   "cell_type": "markdown",
   "id": "012c18e7-7a4f-4b82-a36a-b742061651b5",
   "metadata": {},
   "source": [
    "### Gráfico de dispersión"
   ]
  },
  {
   "cell_type": "code",
   "execution_count": null,
   "id": "d61ff816-1d31-420a-b8e3-a8e062ba326c",
   "metadata": {},
   "outputs": [],
   "source": [
    "def dispersion(columna1, columna2):\n",
    "    # Datos\n",
    "    df1 = table[columna1]\n",
    "    df2 = table[columna2]\n",
    "    \n",
    "    # Figura principal\n",
    "    fig, ax = plt.subplots(figsize=(12, 6))\n",
    "\n",
    "    # Dispersión\n",
    "    ax.scatter(df1, df2, s=15, edgecolor=\"black\")\n",
    "\n",
    "    # Título\n",
    "    ax.set_title(f\"Diagrama de dispersión de {columna1} vs {columna2}\", fontsize=20)\n",
    "\n",
    "    # Etiquetas de los eje\n",
    "    ax.set_xlabel(f\"{columna1}\", fontsize=15)\n",
    "    ax.set_ylabel(f\"{columna2}\", fontsize=15)\n",
    "    \n",
    "    # Escala logarítmica\n",
    "    #ax.set_xscale(\"log\")\n",
    "    #ax.set_yscale(\"log\")\n",
    "    \n",
    "    # Agregar una grilla\n",
    "    ax.grid()\n",
    "\n",
    "    # Mostrar el gráfico\n",
    "    plt.show()"
   ]
  },
  {
   "cell_type": "code",
   "execution_count": null,
   "id": "253d4076-0622-46b6-93f8-667f29289b9f",
   "metadata": {},
   "outputs": [],
   "source": [
    "dispersion(\"AU_gpt\", \"CU_pct\")"
   ]
  },
  {
   "cell_type": "code",
   "execution_count": null,
   "id": "c98db866-1265-4138-b50f-5c3ae24455ef",
   "metadata": {},
   "outputs": [],
   "source": [
    "widgets.interact(dispersion, columna1=['AG_gpt', 'AS_ppm', 'AU_gpt', 'CU_pct', 'DENSITY', 'MO_ppm', 'RECOV', 'S_pct'],\n",
    "                 columna2=['AG_gpt', 'AS_ppm', 'AU_gpt', 'CU_pct', 'DENSITY', 'MO_ppm', 'RECOV', 'S_pct']);"
   ]
  },
  {
   "cell_type": "markdown",
   "id": "74909ba8-8cdb-43ad-869c-85b77126eb02",
   "metadata": {},
   "source": [
    "### Categorías en lito"
   ]
  },
  {
   "cell_type": "code",
   "execution_count": null,
   "id": "e20831c6-1601-4367-ae83-20d5d7c56bd2",
   "metadata": {},
   "outputs": [],
   "source": [
    "lito.columns"
   ]
  },
  {
   "cell_type": "code",
   "execution_count": null,
   "id": "bc30a0d3-c700-46d4-923c-808cd6f4bc48",
   "metadata": {},
   "outputs": [],
   "source": [
    "lito[\"C_CUATER\"].unique()"
   ]
  },
  {
   "cell_type": "code",
   "execution_count": null,
   "id": "4558abbf-807b-4cc7-8c7c-944f7f80f169",
   "metadata": {},
   "outputs": [],
   "source": [
    "lito[\"R_AGRUP\"].unique()"
   ]
  },
  {
   "cell_type": "code",
   "execution_count": null,
   "id": "cc3b6722-0e5c-4b02-982e-234f33dc650c",
   "metadata": {},
   "outputs": [],
   "source": [
    "lito[\"ROCK\"].unique()"
   ]
  },
  {
   "cell_type": "code",
   "execution_count": null,
   "id": "23a2d839-008e-4804-8a36-1780cdf53b0a",
   "metadata": {},
   "outputs": [],
   "source": [
    "lito[\"SPLIT\"].unique()"
   ]
  },
  {
   "cell_type": "markdown",
   "id": "ae745cf3-d2cf-49c3-892b-dfec6d477a04",
   "metadata": {},
   "source": [
    "### Visualización de sondajes 3D - Litología"
   ]
  },
  {
   "cell_type": "code",
   "execution_count": null,
   "id": "9482ef24-05f3-4dc0-aa9b-c7f31f58e9a3",
   "metadata": {},
   "outputs": [],
   "source": [
    "lito = pd.read_csv(\"files/dh_clean/lito.csv\")"
   ]
  },
  {
   "cell_type": "code",
   "execution_count": null,
   "id": "a52d3e70-63e5-4603-a858-8c913a225739",
   "metadata": {},
   "outputs": [],
   "source": [
    "lito.rename(columns={\"holeid\": \"ID\", \"from\": \"FROM\", \"to\": \"TO\"}, inplace=True)"
   ]
  },
  {
   "cell_type": "code",
   "execution_count": null,
   "id": "f567c60f-6743-48d9-b27d-737ccfd5f9c5",
   "metadata": {},
   "outputs": [],
   "source": [
    "data = DrillData(collar=collar, survey=survey, table=lito, table_name=\"Lito\")"
   ]
  },
  {
   "cell_type": "code",
   "execution_count": null,
   "id": "553e4fac-c8f3-41e7-853d-440c7cfeaad9",
   "metadata": {},
   "outputs": [],
   "source": [
    "data.validate()"
   ]
  },
  {
   "cell_type": "code",
   "execution_count": null,
   "id": "b31807fb-a804-4788-9931-edced44bc8ae",
   "metadata": {},
   "outputs": [],
   "source": [
    "data.get_points(\"ROCK\", \"categoric\")"
   ]
  },
  {
   "cell_type": "code",
   "execution_count": null,
   "id": "a2aea0c6-d0c8-4e15-87ba-7b61512eb565",
   "metadata": {},
   "outputs": [],
   "source": [
    "len(lito[\"ROCK\"].unique())"
   ]
  },
  {
   "cell_type": "code",
   "execution_count": null,
   "id": "4b86288c-6c8e-4a01-8775-438d077574a7",
   "metadata": {},
   "outputs": [],
   "source": [
    "data.plot_3d()"
   ]
  },
  {
   "cell_type": "code",
   "execution_count": null,
   "id": "17fa51a7-743d-48f3-b9e0-da773ace2a58",
   "metadata": {},
   "outputs": [],
   "source": [
    "assay"
   ]
  },
  {
   "cell_type": "code",
   "execution_count": null,
   "id": "057cdb95-53fc-4db5-8ad4-5ab3a52f594b",
   "metadata": {},
   "outputs": [],
   "source": [
    "lito"
   ]
  },
  {
   "cell_type": "code",
   "execution_count": null,
   "id": "0d7c2699-58c4-42dd-9568-d28a53f17969",
   "metadata": {},
   "outputs": [],
   "source": [
    "data = pd.merge(assay, lito)"
   ]
  },
  {
   "cell_type": "code",
   "execution_count": null,
   "id": "146d74af-a686-4792-b2a4-9f55c3782855",
   "metadata": {},
   "outputs": [],
   "source": [
    "df = data[(data[\"ROCK\"] == \"E1\") | (data[\"ROCK\"] == \"E2\") | (data[\"ROCK\"] == \"E3\")]"
   ]
  },
  {
   "cell_type": "code",
   "execution_count": null,
   "id": "df73014e-310c-4a39-a98d-dc4467ddb5f2",
   "metadata": {},
   "outputs": [],
   "source": [
    "df"
   ]
  },
  {
   "cell_type": "code",
   "execution_count": null,
   "id": "e1f39089-b381-441d-953b-bec7f68ddb5e",
   "metadata": {},
   "outputs": [],
   "source": [
    "def dispersion(columna1, columna2):\n",
    "    # Datos\n",
    "    df1 = df[columna1]\n",
    "    df2 = df[columna2]\n",
    "    \n",
    "    # Figura principal\n",
    "    fig, ax = plt.subplots(figsize=(12, 6))\n",
    "\n",
    "    # Dispersión\n",
    "    ax.scatter(df1, df2, s=15, edgecolor=\"black\")\n",
    "\n",
    "    # Título\n",
    "    ax.set_title(f\"Diagrama de dispersión de {columna1} vs {columna2}\", fontsize=20)\n",
    "\n",
    "    # Etiquetas de los eje\n",
    "    ax.set_xlabel(f\"{columna1}\", fontsize=15)\n",
    "    ax.set_ylabel(f\"{columna2}\", fontsize=15)\n",
    "    \n",
    "    # Escala logarítmica\n",
    "    #ax.set_xscale(\"log\")\n",
    "    ax.set_yscale(\"log\")\n",
    "    \n",
    "    # Agregar una grilla\n",
    "    ax.grid()\n",
    "\n",
    "    # Mostrar el gráfico\n",
    "    plt.show()"
   ]
  },
  {
   "cell_type": "code",
   "execution_count": null,
   "id": "d7abd7c6-227d-4246-9010-5ab0eb5ab880",
   "metadata": {},
   "outputs": [],
   "source": [
    "widgets.interact(dispersion,\n",
    "                 columna1=['AG_gpt', 'AS_ppm', 'AU_gpt', 'CU_pct', 'DENSITY', 'MO_ppm', 'RECOV', 'S_pct'],\n",
    "                 columna2=['AG_gpt', 'AS_ppm', 'AU_gpt', 'CU_pct', 'DENSITY', 'MO_ppm', 'RECOV', 'S_pct']);"
   ]
  },
  {
   "cell_type": "code",
   "execution_count": null,
   "id": "bfb83456-188a-4527-9717-fc0a12767937",
   "metadata": {},
   "outputs": [],
   "source": []
  },
  {
   "cell_type": "code",
   "execution_count": null,
   "id": "46368d08-34be-487d-b3f4-3f97b0e43882",
   "metadata": {},
   "outputs": [],
   "source": []
  },
  {
   "cell_type": "code",
   "execution_count": null,
   "id": "dd56d920-0b8a-42f3-ab63-c8cf8e294649",
   "metadata": {},
   "outputs": [],
   "source": []
  },
  {
   "cell_type": "code",
   "execution_count": null,
   "id": "64f99bcc-6dca-40df-8851-6fc2f3a3e694",
   "metadata": {},
   "outputs": [],
   "source": []
  }
 ],
 "metadata": {
  "kernelspec": {
   "display_name": "Python 3 (ipykernel)",
   "language": "python",
   "name": "python3"
  },
  "language_info": {
   "codemirror_mode": {
    "name": "ipython",
    "version": 3
   },
   "file_extension": ".py",
   "mimetype": "text/x-python",
   "name": "python",
   "nbconvert_exporter": "python",
   "pygments_lexer": "ipython3",
   "version": "3.8.10"
  }
 },
 "nbformat": 4,
 "nbformat_minor": 5
}
