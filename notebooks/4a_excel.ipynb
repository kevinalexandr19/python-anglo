{
 "cells": [
  {
   "cell_type": "markdown",
   "id": "61a16579-066c-4c29-b6e9-7d4dc48f2640",
   "metadata": {},
   "source": [
    "# Automatización de un proceso en Excel"
   ]
  },
  {
   "cell_type": "markdown",
   "id": "1a63d048-2311-4347-b1d5-0e1f04609272",
   "metadata": {
    "tags": []
   },
   "source": [
    "## Procesamiento de un archivo\n",
    "\n",
    "Empezaremos procesando un archivo Excel para tener un punto de inicio en el algoritmo de automatización.\\\n",
    "Si podemos procesar un archivo Excel en Python, entonces también podemos procesar una gran cantidad de archivos de la misma manera.\n",
    "\n",
    "Representaremos el archivo Excel dentro de Python a través de un objeto llamado `cuadro`:"
   ]
  },
  {
   "cell_type": "code",
   "execution_count": null,
   "id": "8e8a72fc-e64d-4d82-b9de-6f8c0fd497bc",
   "metadata": {},
   "outputs": [],
   "source": [
    "import pandas as pd"
   ]
  },
  {
   "cell_type": "code",
   "execution_count": null,
   "id": "8a972a1e-0e1d-4c9e-9609-6a7fefdde376",
   "metadata": {
    "tags": []
   },
   "outputs": [],
   "source": [
    "cuadro = pd.read_excel(\"files/excel/Proyecto Python DH-01.xlsx\", header=12, usecols=\"c:s\")\n",
    "cuadro.rename(columns=dict(zip(list(cuadro.columns)[-2:], [\"RMR\", \"Calidad RMR\"])), inplace=True)"
   ]
  },
  {
   "cell_type": "code",
   "execution_count": null,
   "id": "e6ee7a9b-2fce-4a23-acb8-ec6590cc5aa0",
   "metadata": {},
   "outputs": [],
   "source": [
    "cuadro.head()"
   ]
  },
  {
   "cell_type": "code",
   "execution_count": null,
   "id": "0fd788bf-17e1-41bc-96fc-0d316816f33c",
   "metadata": {},
   "outputs": [],
   "source": [
    "cuadro[\"Longitud de corrida (m)\"] = cuadro[\"Hasta (m)\"] - cuadro[\"Desde (m)\"]\n",
    "cuadro[\"Recuperación de taladro (%)\"] = 100 * cuadro[\"Recuperación de taladro (m)\"] / cuadro[\"Longitud de corrida (m)\"]\n",
    "cuadro[\"RQD (%)\"] = 100 * cuadro[\"RQD (m)\"] / cuadro[\"Longitud de corrida (m)\"]\n",
    "cuadro[\"Frecuencia de fracturas (FF/m)\"] = cuadro[\"Fracturas por corrida\"] / cuadro[\"Longitud de corrida (m)\"]"
   ]
  },
  {
   "cell_type": "code",
   "execution_count": null,
   "id": "79bac522-9d99-45cb-b9d7-c22381ff221e",
   "metadata": {},
   "outputs": [],
   "source": [
    "cuadro.head()"
   ]
  },
  {
   "cell_type": "markdown",
   "id": "c72ac0f3-ae89-4e1c-aa36-90f10ea60680",
   "metadata": {
    "tags": []
   },
   "source": [
    "## Algoritmo para calcular el RMR\n",
    "\n",
    "Crearemos funciones que nos permitan calcular la puntuación RMR y la calidad RMR."
   ]
  },
  {
   "cell_type": "code",
   "execution_count": null,
   "id": "8424682e-ad3e-4088-b1e0-cd86e8a4355a",
   "metadata": {},
   "outputs": [],
   "source": [
    "# RQD\n",
    "def rqd(dato):\n",
    "    if 90 < dato:\n",
    "        return 20\n",
    "    elif 75 < dato <= 90:\n",
    "        return 17\n",
    "    elif 50 < dato <= 75:\n",
    "        return 13\n",
    "    elif 25 < dato <= 50:\n",
    "        return 8\n",
    "    elif dato <= 25:\n",
    "        return 3\n",
    "\n",
    "# Espaciamiento\n",
    "def espaciamiento(dato):\n",
    "    if dato > 2000:\n",
    "        return 20\n",
    "    elif 600 < dato <= 2000:\n",
    "        return 15\n",
    "    elif 200 < dato <= 600:\n",
    "        return 10\n",
    "    elif 60 < dato <= 200:\n",
    "        return 8\n",
    "    elif dato <= 60:\n",
    "        return 5    \n",
    "\n",
    "# Resistencia\n",
    "def resistencia(dato):\n",
    "    if dato == \"R6\":\n",
    "        return 15\n",
    "    elif dato == \"R5\":\n",
    "        return 12\n",
    "    elif dato == \"R4\":\n",
    "        return 7\n",
    "    elif dato == \"R3\":\n",
    "        return 4\n",
    "    elif dato == \"R2\":\n",
    "        return 2\n",
    "    elif dato == \"R1\":\n",
    "        return 1\n",
    "    elif dato == \"R0\":\n",
    "        return 0    \n",
    "    \n",
    "# Apertura\n",
    "def apertura(dato):\n",
    "    if dato == \"A0\":\n",
    "        return 6\n",
    "    elif dato == \"A1\":\n",
    "        return 5\n",
    "    elif dato == \"A2\":\n",
    "        return 3\n",
    "    elif dato == \"A3\":\n",
    "        return 1\n",
    "    elif dato == \"A4\":\n",
    "        return 0    \n",
    "\n",
    "# Rugosidad\n",
    "def rugosidad(dato):\n",
    "    if dato == \"G1\":\n",
    "        return 6\n",
    "    elif dato == \"G2\":\n",
    "        return 5\n",
    "    elif dato == \"G3\":\n",
    "        return 3\n",
    "    elif dato == \"G4\":\n",
    "        return 1\n",
    "    elif dato == \"G5\":\n",
    "        return 0\n",
    "    \n",
    "# Relleno\n",
    "def relleno(dato):\n",
    "    if dato == \"F0\":\n",
    "        return 6\n",
    "    elif dato == \"F1\":\n",
    "        return 4\n",
    "    elif dato == \"F2\":\n",
    "        return 2\n",
    "    elif dato == \"F3\":\n",
    "        return 1\n",
    "    elif dato == \"F4\":\n",
    "        return 0    \n",
    "    \n",
    "# Alteración\n",
    "def alteracion(dato):\n",
    "    if dato == \"W0\":\n",
    "        return 6\n",
    "    elif dato == \"W1\":\n",
    "        return 5\n",
    "    elif dato == \"W2\":\n",
    "        return 3\n",
    "    elif dato == \"W3\":\n",
    "        return 1\n",
    "    elif dato == \"W4\":\n",
    "        return 0  \n",
    "    \n",
    "# Persistencia (promedio de apertura, rugosidad, relleno y alteración)\n",
    "\n",
    "# Agua = 15\n",
    "\n",
    "# Calidad RMR\n",
    "def calidad(dato):\n",
    "    if 80 < dato:\n",
    "        return \"Muy buena\"\n",
    "    elif 60 < dato <= 80:\n",
    "        return \"Buena\"\n",
    "    elif 40 < dato <= 60:\n",
    "        return \"Media\"\n",
    "    elif 20 < dato <= 40:\n",
    "        return \"Mala\"\n",
    "    elif dato <= 20:\n",
    "        return \"Muy mala\""
   ]
  },
  {
   "cell_type": "markdown",
   "id": "aea3cd2d-8aef-48c8-b803-8bb69fe566ac",
   "metadata": {},
   "source": [
    "Usaremos estas funciones dentro del cuadro para observar el resultado."
   ]
  },
  {
   "cell_type": "code",
   "execution_count": null,
   "id": "7048bd62-6dfa-4d98-88b9-ecc0459e57dc",
   "metadata": {},
   "outputs": [],
   "source": [
    "RQD = cuadro[\"RQD (%)\"].apply(rqd)\n",
    "E = cuadro[\"Espaciamiento (mm)\"].apply(espaciamiento)\n",
    "R = cuadro[\"Resistencia a la compresión simple\"].apply(resistencia)\n",
    "A = cuadro[\"Apertura\"].apply(apertura)\n",
    "G = cuadro[\"Rugosidad\"].apply(rugosidad)\n",
    "F = cuadro[\"Relleno\"].apply(relleno)\n",
    "W = cuadro[\"Alteración\"].apply(alteracion)\n",
    "P = (A + G + F + W) / 4\n",
    "\n",
    "RMR = RQD + E + R + A + G + F + W + P + 15\n",
    "\n",
    "cuadro[\"RMR\"] = RMR\n",
    "cuadro[\"Calidad RMR\"] = cuadro[\"RMR\"].apply(calidad)"
   ]
  },
  {
   "cell_type": "code",
   "execution_count": null,
   "id": "2c48010a-d15c-4fd1-96b3-f408568bc6c9",
   "metadata": {
    "tags": []
   },
   "outputs": [],
   "source": [
    "cuadro.head(10)"
   ]
  },
  {
   "cell_type": "markdown",
   "id": "50bc195f-5b5c-480c-983e-76716eb6c43f",
   "metadata": {},
   "source": [
    "Este es el resultado usando solamente un archivo de Excel, para automatizar este proceso debemos expandir el algoritmo y aplicarlo en una lista de archivos."
   ]
  },
  {
   "cell_type": "markdown",
   "id": "19347592-2827-469b-9b29-2bad68e9ac04",
   "metadata": {},
   "source": [
    "## Algoritmo de automatización\n",
    "\n",
    "Empezaremos cambiando la ruta de trabajo por la dirección de la carpeta donde tenemos los archivos."
   ]
  },
  {
   "cell_type": "code",
   "execution_count": null,
   "id": "9d65e655-62fd-436e-bbbf-4b35728ee19d",
   "metadata": {},
   "outputs": [],
   "source": [
    "import pandas as pd\n",
    "import os\n",
    "import xlwings as xw\n",
    "from tqdm import tqdm\n",
    "\n",
    "os.chdir(\"D:\\Desktop\\python_excel\")\n",
    "\n",
    "carpeta = os.listdir()[:-1]\n",
    "\n",
    "carpeta"
   ]
  },
  {
   "cell_type": "markdown",
   "id": "0eb0ca96-d441-40ef-a066-4087c0980109",
   "metadata": {},
   "source": [
    "Luego, usando un **bucle**, procesaremos la información dentro de Python y guardaremos el resultado de cada archivo en Excel."
   ]
  },
  {
   "cell_type": "code",
   "execution_count": null,
   "id": "18f8f69f-7b2e-4fce-a456-59558ee19333",
   "metadata": {},
   "outputs": [],
   "source": [
    "app = xw.App(visible=False, add_book=False)\n",
    "\n",
    "for archivo in tqdm(carpeta):\n",
    "    # Crear el cuadro con pandas\n",
    "    cuadro = pd.read_excel(archivo, header=12, usecols=\"c:s\")\n",
    "    cuadro.rename(columns=dict(zip(list(cuadro.columns)[-2:], [\"RMR\", \"Calidad RMR\"])), inplace=True)\n",
    "    cuadro[\"Longitud de corrida (m)\"] = cuadro[\"Hasta (m)\"] - cuadro[\"Desde (m)\"]\n",
    "    cuadro[\"Recuperación de taladro (%)\"] = 100 * cuadro[\"Recuperación de taladro (m)\"] / cuadro[\"Longitud de corrida (m)\"]\n",
    "    cuadro[\"RQD (%)\"] = 100 * cuadro[\"RQD (m)\"] / cuadro[\"Longitud de corrida (m)\"]\n",
    "    cuadro[\"Frecuencia de fracturas (FF/m)\"] = cuadro[\"Fracturas por corrida\"] / cuadro[\"Longitud de corrida (m)\"]\n",
    "    \n",
    "    RQD = cuadro[\"RQD (%)\"].apply(rqd)\n",
    "    E = cuadro[\"Espaciamiento (mm)\"].apply(espaciamiento)\n",
    "    R = cuadro[\"Resistencia a la compresión simple\"].apply(resistencia)\n",
    "    A = cuadro[\"Apertura\"].apply(apertura)\n",
    "    G = cuadro[\"Rugosidad\"].apply(rugosidad)\n",
    "    F = cuadro[\"Relleno\"].apply(relleno)\n",
    "    W = cuadro[\"Alteración\"].apply(alteracion)\n",
    "    P = (A + G + F + W) / 4\n",
    "    RMR = RQD + E + R + A + G + F + W + P + 15\n",
    "    cuadro[\"RMR\"] = RMR\n",
    "    cuadro[\"Calidad RMR\"] = cuadro[\"RMR\"].apply(calidad)\n",
    "    \n",
    "    # Escribir el Dataframe de Pandas en Excel\n",
    "    data = app.books.open(archivo)\n",
    "    hoja = data.sheets[0]\n",
    "    hoja[\"c13\"].options(pd.DataFrame, index=False, transpose=False).value = cuadro\n",
    "    data.save()   # Guardamos el archivo\n",
    "    data.close()  # Cerramos el archivo\n",
    "\n",
    "app.quit()    "
   ]
  },
  {
   "cell_type": "code",
   "execution_count": null,
   "id": "2efe6a5e-0e82-44cc-8a0c-f7158993f81a",
   "metadata": {},
   "outputs": [],
   "source": []
  }
 ],
 "metadata": {
  "kernelspec": {
   "display_name": "Python 3 (ipykernel)",
   "language": "python",
   "name": "python3"
  },
  "language_info": {
   "codemirror_mode": {
    "name": "ipython",
    "version": 3
   },
   "file_extension": ".py",
   "mimetype": "text/x-python",
   "name": "python",
   "nbconvert_exporter": "python",
   "pygments_lexer": "ipython3",
   "version": "3.8.10"
  }
 },
 "nbformat": 4,
 "nbformat_minor": 5
}
